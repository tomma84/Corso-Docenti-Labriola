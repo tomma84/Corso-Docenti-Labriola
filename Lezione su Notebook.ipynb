{
 "cells": [
  {
   "cell_type": "markdown",
   "metadata": {},
   "source": [
    "# I quaderni Jupyter"
   ]
  },
  {
   "cell_type": "markdown",
   "metadata": {},
   "source": [
    "## Esempi di comandi per i quaderni Jupiter"
   ]
  },
  {
   "cell_type": "markdown",
   "metadata": {},
   "source": [
    "# HEADINGS\n",
    "\n",
    "\n",
    "# intestazione 1\n",
    "\n",
    "## intestazione 2\n",
    "\n",
    "### intestazione 3\n",
    "\n",
    "#### intestazione 4\n",
    "\n",
    "##### intestazione 5\n",
    "\n",
    "###### intestazione 6"
   ]
  },
  {
   "cell_type": "markdown",
   "metadata": {},
   "source": [
    "# PARAGRAPHS\n",
    "\n",
    "Testo del primo pragrafo. Ancora testo e altro testo.\n",
    "Anche se scritto a capo fa parte del primo paragrafo.\n",
    "\n",
    "Secondo paragrafo, creato lasciando una riga vuota."
   ]
  },
  {
   "cell_type": "markdown",
   "metadata": {},
   "source": [
    "# BOLD\n",
    "\n",
    "**testo in grassetto**\n",
    "\n",
    "__testo in grassetto__"
   ]
  },
  {
   "cell_type": "markdown",
   "metadata": {},
   "source": [
    "# ITALIC\n",
    "\n",
    "*testo in corsivo*\n",
    "\n",
    "_testo in corsivo_"
   ]
  },
  {
   "cell_type": "markdown",
   "metadata": {},
   "source": [
    "# BOLD & ITALIC\n",
    "***testo in grassetto e corsivo***\n",
    "\n",
    "___testo in grassetto e corsivo___"
   ]
  },
  {
   "cell_type": "markdown",
   "metadata": {},
   "source": [
    "# BLOCKQUOTE\n",
    "Qui di seguito c'è una citazione\n",
    "> Ecco un testo contenuto in una sezione di citazioneEcco un testo contenuto in una sezione di citazioneEcco un testo contenuto in una sezione di citazioneEcco un testo contenuto in una sezione di citazioneEcco un testo contenuto in una sezione di citazioneEcco un testo contenuto in una sezione di citazioneEcco un testo contenuto in una sezione di citazioneEcco un testo contenuto in una sezione di citazione\n",
    "> Ecco un testo contenuto in una sezione di citazione\n",
    "\n",
    "> Ecco un testo contenuto in una sezione di citazione"
   ]
  },
  {
   "cell_type": "markdown",
   "metadata": {},
   "source": [
    "# LINE\n",
    "\n",
    "---\n",
    "testo 1\n",
    "___\n",
    "testo 2\n",
    "___\n",
    "\n",
    "testo 3\n",
    "\n",
    "---"
   ]
  },
  {
   "cell_type": "markdown",
   "metadata": {},
   "source": [
    "# ORDERED LIST\n",
    "\n",
    "1. Primo\n",
    "\n",
    "\n",
    "2. Secondo\n",
    "3. Terzo"
   ]
  },
  {
   "cell_type": "markdown",
   "metadata": {},
   "source": [
    "# UNORDERED LIST\n",
    "- Un elemento\n",
    "- Altro elemento\n",
    "- Ultimo elemento"
   ]
  },
  {
   "cell_type": "markdown",
   "metadata": {},
   "source": [
    "# ORDERED & UNORDERED LIST\n",
    "\n",
    "1. Prima sezione\n",
    "    - Sotto elemento\n",
    "    - Altro sotto elemento\n",
    "2. Seconda sezione\n",
    "    1. Primo sotto elemento\n",
    "    2. sottoelemento\n",
    "        1. sottosottosezione\n",
    "        2. altra sottosottosezione\n"
   ]
  },
  {
   "cell_type": "markdown",
   "metadata": {},
   "source": [
    "![](https://www.youmath.it/images/stories/numeri-complessi/numero-complesso-piano-di-argand-gaus.png)"
   ]
  },
  {
   "cell_type": "markdown",
   "metadata": {},
   "source": [
    "# IMAGE\n",
    "\n",
    "![testo alternativo](https://www.youmath.it/images/stories/numeri-complessi/numero-complesso-piano-di-argand-gauss.png)"
   ]
  },
  {
   "cell_type": "markdown",
   "metadata": {},
   "source": [
    "# LINK\n",
    "\n",
    "\n",
    "www.python.org"
   ]
  },
  {
   "cell_type": "markdown",
   "metadata": {},
   "source": [
    "askld aslkf asdlkfjasdlkf sdlklàds flàkasdf [Galileo][peronaggio] kjdf asdjkòf asdjòf\n",
    "[Galilei Galileo][peronaggio]\n",
    "\n",
    "Il [matematico][peronaggio]\n",
    "\n",
    "[peronaggio]: https://it.wikipedia.org/wiki/Galileo_Galilei"
   ]
  },
  {
   "cell_type": "markdown",
   "metadata": {},
   "source": [
    "# REFERENCE-STYLE LINKS\n",
    "\n",
    "[Qui][id] ci sono molte informazioni utili\n",
    "\n",
    "[id]: https://en.wikipedia.org \"Wikipedia\"\n",
    "\n",
    "\n",
    "Si puà scrivere il link anche senza specificare un id, basta usare il testo del link. Vediamo come linkare il sito del [Labriola][]\n",
    "\n",
    "iousdf kòjeras ghkòsd hgklòasdjh gòklJSD hòglSEh òlgSDh gòesh gòlsdh gkòjasdh gòkajes hgòklJSD hgòjkasd ghkòzsd ghòozsd\n",
    "\n",
    "[Labriola]: https://www.liceolabriola.it/ \"Liceo Labriola\""
   ]
  },
  {
   "cell_type": "markdown",
   "metadata": {},
   "source": [
    "# ANCHOR LINKS\n",
    "\n",
    "Torniamo alle [Intestazioni](#HEADINGS)\n",
    "oppure alle [liste non ordinate](#UNORDERED-LIST)\n"
   ]
  },
  {
   "cell_type": "markdown",
   "metadata": {},
   "source": [
    "# CODE SECTION\n",
    "\n",
    "Come scrivere il nostro primo comando python, il famoso programma Ciao mondo `print('Ciao mondo')`\n",
    "\n",
    "Oppure un pezzo di codice su più righe\n",
    "```\n",
    "for i in range(11):\n",
    "    print(i**2)\n",
    "```\n",
    "\n",
    "Se si specifica il linguaggio invece ecco che compare colorato\n",
    "\n",
    "```python\n",
    "s = \"Stringa di testo da stampare\"\n",
    "print(s)\n",
    "```"
   ]
  },
  {
   "cell_type": "markdown",
   "metadata": {},
   "source": [
    "# TABLE\n",
    "\n",
    "|Colonna 1|Colonna 2|Colonna 3|\n",
    "|---------|---------|---------|\n",
    "|1        |A        |1.7      |\n",
    "|2 |B |-5         |\n",
    "|3        |C        |3        |\n",
    "\n",
    "\n",
    "Allineamento colonne\n",
    "\n",
    "|Colonna 1|Colonna 2|Colonna 3|\n",
    "|:--------|:-------:|--------:|\n",
    "|1        |A        |1.7      |\n",
    "|2        |B        |-5       |\n",
    "|3        |C        |3        |"
   ]
  },
  {
   "cell_type": "markdown",
   "metadata": {},
   "source": [
    "# COLORED NOTE BOXES\n",
    "\n",
    "\n",
    "## Blue boxes (alert-info)\n",
    "\n",
    "\n",
    "<div class=\"alert alert-block alert-info\">\n",
    "<b>Tip:</b> Usare blue boxes (alert-info) per consigli e note.\n",
    "</div>\n",
    "\n",
    "## Yellow boxes (alert-warning)\n",
    "\n",
    "<div class=\"alert alert-block alert-warning\">\n",
    "<b>Example:</b> Usare yellow boxes (alert-warning) per esempi o formule matematiche. Tipicamente usato per mostrare messaggi di warning.\n",
    "</div>\n",
    "\n",
    "## Green boxes (alert-success)\n",
    "\n",
    "<div class=\"alert alert-block alert-success\">\n",
    "<b>Success:</b> Questo alert box è usato per indicare successi o situazioni positive.\n",
    "</div>\n",
    "\n",
    "## Red boxes (alert-danger)\n",
    "\n",
    "<div class=\"alert alert-block alert-danger\">\n",
    "<b>Danger:</b> Questo alert box è usato per indicare pericoli o situazioni negative.\n",
    "</div>"
   ]
  },
  {
   "cell_type": "markdown",
   "metadata": {},
   "source": [
    "# LaTeX MATH\n",
    " \n",
    "![](https://upload.wikimedia.org/wikipedia/commons/2/25/LaTeX_logo.png)\n",
    "\n",
    "Su i quaderni Jupyter possiamo usare i comandi Latex per scrivere le formule.\n",
    "\n",
    "Si possono scrivere formule in linea come $x_{1,2} = \\dfrac{-b \\pm \\sqrt{b^2 - 4ac}}{2a}$ la famosa formula magica. Oppure si possono scrivere formule su una riga vuota.\n",
    "\n",
    "Alcume formule di trigonometria:\n",
    "$$\n",
    "\\sin(-\\alpha)=-\\sin(\\alpha)\\\\\n",
    "\\arccos(x)=\\arcsin(u)\\\\\n",
    "\\log_n(n)=1\\\\\n",
    "\\tan(x) = \\frac{\\sin(x)}{\\cos(x)}\n",
    "$$\n",
    "\n",
    "https://en.wikibooks.org/wiki/LaTeX/Mathematics"
   ]
  },
  {
   "cell_type": "code",
   "execution_count": null,
   "metadata": {},
   "outputs": [],
   "source": []
  }
 ],
 "metadata": {
  "kernelspec": {
   "display_name": "Python 3",
   "language": "python",
   "name": "python3"
  },
  "language_info": {
   "codemirror_mode": {
    "name": "ipython",
    "version": 3
   },
   "file_extension": ".py",
   "mimetype": "text/x-python",
   "name": "python",
   "nbconvert_exporter": "python",
   "pygments_lexer": "ipython3",
   "version": "3.9.4"
  }
 },
 "nbformat": 4,
 "nbformat_minor": 4
}
