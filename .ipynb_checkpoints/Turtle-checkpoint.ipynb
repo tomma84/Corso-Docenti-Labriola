{
 "cells": [
  {
   "cell_type": "markdown",
   "metadata": {},
   "source": [
    "# Turtle\n",
    "\n",
    "https://docs.python.org/3/library/turtle.html"
   ]
  },
  {
   "cell_type": "code",
   "execution_count": 1,
   "metadata": {},
   "outputs": [],
   "source": [
    "from turtle import *"
   ]
  },
  {
   "cell_type": "code",
   "execution_count": null,
   "metadata": {},
   "outputs": [],
   "source": [
    "penup()\n",
    "goto(0, -200)\n",
    "pendown()\n",
    "\n",
    "N = 40\n",
    "\n",
    "angolo_esterno = 360 / N\n",
    "\n",
    "for i in range(N):\n",
    "    left(angolo_esterno)\n",
    "    forward(20)\n",
    "done()"
   ]
  },
  {
   "cell_type": "code",
   "execution_count": 73,
   "metadata": {},
   "outputs": [],
   "source": [
    "tartaruga1 = turtle.Turtle()\n",
    "tartaruga2 = turtle.Turtle()\n",
    "\n",
    "tartaruga1.color('#c21f91')\n",
    "\n",
    "tartaruga1.setheading(60)\n",
    "tartaruga1.forward(100)\n",
    "\n",
    "tartaruga2.setheading(-60)\n",
    "tartaruga2.forward(100)\n",
    "\n",
    "done()"
   ]
  },
  {
   "cell_type": "code",
   "execution_count": 83,
   "metadata": {},
   "outputs": [],
   "source": [
    "shape(\"turtle\")\n",
    "color(\"red\")\n",
    "forward(400)\n",
    "left(20)\n",
    "forward(100)\n",
    "done()"
   ]
  },
  {
   "cell_type": "code",
   "execution_count": null,
   "metadata": {},
   "outputs": [],
   "source": []
  }
 ],
 "metadata": {
  "kernelspec": {
   "display_name": "Python 3",
   "language": "python",
   "name": "python3"
  },
  "language_info": {
   "codemirror_mode": {
    "name": "ipython",
    "version": 3
   },
   "file_extension": ".py",
   "mimetype": "text/x-python",
   "name": "python",
   "nbconvert_exporter": "python",
   "pygments_lexer": "ipython3",
   "version": "3.9.4"
  }
 },
 "nbformat": 4,
 "nbformat_minor": 4
}
