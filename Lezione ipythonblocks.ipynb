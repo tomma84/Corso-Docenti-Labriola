{
 "cells": [
  {
   "cell_type": "code",
   "execution_count": 90,
   "metadata": {},
   "outputs": [
    {
     "name": "stdout",
     "output_type": "stream",
     "text": [
      "Defaulting to user installation because normal site-packages is not writeable\n",
      "Requirement already satisfied: ipythonblocks in c:\\users\\tomma\\appdata\\roaming\\python\\python39\\site-packages (1.9.0)\n",
      "Requirement already satisfied: requests>=1.0 in c:\\program files\\python39\\lib\\site-packages (from ipythonblocks) (2.24.0)\n",
      "Requirement already satisfied: ipython>=4.0 in c:\\program files\\python39\\lib\\site-packages (from ipythonblocks) (7.19.0)\n",
      "Requirement already satisfied: notebook>=4.0 in c:\\program files\\python39\\lib\\site-packages (from ipythonblocks) (6.1.5)\n",
      "Requirement already satisfied: pygments in c:\\program files\\python39\\lib\\site-packages (from ipython>=4.0->ipythonblocks) (2.7.2)\n",
      "Requirement already satisfied: prompt-toolkit!=3.0.0,!=3.0.1,<3.1.0,>=2.0.0 in c:\\program files\\python39\\lib\\site-packages (from ipython>=4.0->ipythonblocks) (3.0.8)\n",
      "Requirement already satisfied: decorator in c:\\program files\\python39\\lib\\site-packages (from ipython>=4.0->ipythonblocks) (4.4.2)\n",
      "Requirement already satisfied: jedi>=0.10 in c:\\program files\\python39\\lib\\site-packages (from ipython>=4.0->ipythonblocks) (0.17.2)\n",
      "Requirement already satisfied: backcall in c:\\program files\\python39\\lib\\site-packages (from ipython>=4.0->ipythonblocks) (0.2.0)\n",
      "Requirement already satisfied: colorama in c:\\program files\\python39\\lib\\site-packages (from ipython>=4.0->ipythonblocks) (0.4.4)\n",
      "Requirement already satisfied: pickleshare in c:\\program files\\python39\\lib\\site-packages (from ipython>=4.0->ipythonblocks) (0.7.5)\n",
      "Requirement already satisfied: setuptools>=18.5 in c:\\program files\\python39\\lib\\site-packages (from ipython>=4.0->ipythonblocks) (50.3.2)\n",
      "Requirement already satisfied: traitlets>=4.2 in c:\\program files\\python39\\lib\\site-packages (from ipython>=4.0->ipythonblocks) (5.0.5)\n",
      "Requirement already satisfied: argon2-cffi in c:\\program files\\python39\\lib\\site-packages (from notebook>=4.0->ipythonblocks) (20.1.0)\n",
      "Requirement already satisfied: Send2Trash in c:\\program files\\python39\\lib\\site-packages (from notebook>=4.0->ipythonblocks) (1.5.0)\n",
      "Requirement already satisfied: ipykernel in c:\\program files\\python39\\lib\\site-packages (from notebook>=4.0->ipythonblocks) (5.3.4)\n",
      "Requirement already satisfied: jinja2 in c:\\program files\\python39\\lib\\site-packages (from notebook>=4.0->ipythonblocks) (2.11.2)\n",
      "Requirement already satisfied: nbconvert in c:\\program files\\python39\\lib\\site-packages (from notebook>=4.0->ipythonblocks) (6.0.7)\n",
      "Requirement already satisfied: jupyter-client>=5.3.4 in c:\\program files\\python39\\lib\\site-packages (from notebook>=4.0->ipythonblocks) (6.1.7)\n",
      "Requirement already satisfied: terminado>=0.8.3 in c:\\program files\\python39\\lib\\site-packages (from notebook>=4.0->ipythonblocks) (0.9.1)\n",
      "Requirement already satisfied: nbformat in c:\\program files\\python39\\lib\\site-packages (from notebook>=4.0->ipythonblocks) (5.0.8)\n",
      "Requirement already satisfied: prometheus-client in c:\\program files\\python39\\lib\\site-packages (from notebook>=4.0->ipythonblocks) (0.8.0)\n",
      "Requirement already satisfied: pyzmq>=17 in c:\\program files\\python39\\lib\\site-packages (from notebook>=4.0->ipythonblocks) (19.0.2)\n",
      "Requirement already satisfied: jupyter-core>=4.6.1 in c:\\program files\\python39\\lib\\site-packages (from notebook>=4.0->ipythonblocks) (4.6.3)\n",
      "Requirement already satisfied: ipython-genutils in c:\\program files\\python39\\lib\\site-packages (from notebook>=4.0->ipythonblocks) (0.2.0)\n",
      "Requirement already satisfied: tornado>=5.0 in c:\\program files\\python39\\lib\\site-packages (from notebook>=4.0->ipythonblocks) (6.1)\n",
      "Requirement already satisfied: chardet<4,>=3.0.2 in c:\\program files\\python39\\lib\\site-packages (from requests>=1.0->ipythonblocks) (3.0.4)\n",
      "Requirement already satisfied: certifi>=2017.4.17 in c:\\program files\\python39\\lib\\site-packages (from requests>=1.0->ipythonblocks) (2020.11.8)\n",
      "Requirement already satisfied: urllib3!=1.25.0,!=1.25.1,<1.26,>=1.21.1 in c:\\program files\\python39\\lib\\site-packages (from requests>=1.0->ipythonblocks) (1.25.11)\n",
      "Requirement already satisfied: idna<3,>=2.5 in c:\\program files\\python39\\lib\\site-packages (from requests>=1.0->ipythonblocks) (2.10)\n",
      "Requirement already satisfied: parso<0.8.0,>=0.7.0 in c:\\program files\\python39\\lib\\site-packages (from jedi>=0.10->ipython>=4.0->ipythonblocks) (0.7.1)\n",
      "Requirement already satisfied: python-dateutil>=2.1 in c:\\users\\tomma\\appdata\\roaming\\python\\python39\\site-packages (from jupyter-client>=5.3.4->notebook>=4.0->ipythonblocks) (2.8.1)\n",
      "Requirement already satisfied: pywin32>=1.0 in c:\\program files\\python39\\lib\\site-packages (from jupyter-core>=4.6.1->notebook>=4.0->ipythonblocks) (228)\n",
      "Requirement already satisfied: wcwidth in c:\\program files\\python39\\lib\\site-packages (from prompt-toolkit!=3.0.0,!=3.0.1,<3.1.0,>=2.0.0->ipython>=4.0->ipythonblocks) (0.2.5)\n",
      "Requirement already satisfied: pywinpty>=0.5 in c:\\program files\\python39\\lib\\site-packages (from terminado>=0.8.3->notebook>=4.0->ipythonblocks) (0.5.7)\n",
      "Requirement already satisfied: cffi>=1.0.0 in c:\\program files\\python39\\lib\\site-packages (from argon2-cffi->notebook>=4.0->ipythonblocks) (1.14.3)\n",
      "Requirement already satisfied: six in c:\\users\\tomma\\appdata\\roaming\\python\\python39\\site-packages (from argon2-cffi->notebook>=4.0->ipythonblocks) (1.15.0)\n",
      "Requirement already satisfied: MarkupSafe>=0.23 in c:\\program files\\python39\\lib\\site-packages (from jinja2->notebook>=4.0->ipythonblocks) (1.1.1)\n",
      "Requirement already satisfied: pandocfilters>=1.4.1 in c:\\program files\\python39\\lib\\site-packages (from nbconvert->notebook>=4.0->ipythonblocks) (1.4.3)\n",
      "Requirement already satisfied: nbclient<0.6.0,>=0.5.0 in c:\\program files\\python39\\lib\\site-packages (from nbconvert->notebook>=4.0->ipythonblocks) (0.5.1)\n",
      "Requirement already satisfied: jupyterlab-pygments in c:\\program files\\python39\\lib\\site-packages (from nbconvert->notebook>=4.0->ipythonblocks) (0.1.2)\n",
      "Requirement already satisfied: mistune<2,>=0.8.1 in c:\\program files\\python39\\lib\\site-packages (from nbconvert->notebook>=4.0->ipythonblocks) (0.8.4)\n",
      "Requirement already satisfied: entrypoints>=0.2.2 in c:\\program files\\python39\\lib\\site-packages (from nbconvert->notebook>=4.0->ipythonblocks) (0.3)\n",
      "Requirement already satisfied: bleach in c:\\program files\\python39\\lib\\site-packages (from nbconvert->notebook>=4.0->ipythonblocks) (3.2.1)\n",
      "Requirement already satisfied: testpath in c:\\program files\\python39\\lib\\site-packages (from nbconvert->notebook>=4.0->ipythonblocks) (0.4.4)\n",
      "Requirement already satisfied: defusedxml in c:\\program files\\python39\\lib\\site-packages (from nbconvert->notebook>=4.0->ipythonblocks) (0.6.0)\n",
      "Requirement already satisfied: jsonschema!=2.5.0,>=2.4 in c:\\program files\\python39\\lib\\site-packages (from nbformat->notebook>=4.0->ipythonblocks) (3.2.0)\n",
      "Requirement already satisfied: pycparser in c:\\program files\\python39\\lib\\site-packages (from cffi>=1.0.0->argon2-cffi->notebook>=4.0->ipythonblocks) (2.20)\n",
      "Requirement already satisfied: attrs>=17.4.0 in c:\\program files\\python39\\lib\\site-packages (from jsonschema!=2.5.0,>=2.4->nbformat->notebook>=4.0->ipythonblocks) (20.3.0)\n",
      "Requirement already satisfied: pyrsistent>=0.14.0 in c:\\program files\\python39\\lib\\site-packages (from jsonschema!=2.5.0,>=2.4->nbformat->notebook>=4.0->ipythonblocks) (0.17.3)\n",
      "Requirement already satisfied: async-generator in c:\\program files\\python39\\lib\\site-packages (from nbclient<0.6.0,>=0.5.0->nbconvert->notebook>=4.0->ipythonblocks) (1.10)\n",
      "Requirement already satisfied: nest-asyncio in c:\\program files\\python39\\lib\\site-packages (from nbclient<0.6.0,>=0.5.0->nbconvert->notebook>=4.0->ipythonblocks) (1.4.2)\n",
      "Requirement already satisfied: packaging in c:\\program files\\python39\\lib\\site-packages (from bleach->nbconvert->notebook>=4.0->ipythonblocks) (20.4)\n",
      "Requirement already satisfied: webencodings in c:\\program files\\python39\\lib\\site-packages (from bleach->nbconvert->notebook>=4.0->ipythonblocks) (0.5.1)\n",
      "Requirement already satisfied: pyparsing>=2.0.2 in c:\\program files\\python39\\lib\\site-packages (from packaging->bleach->nbconvert->notebook>=4.0->ipythonblocks) (2.4.7)"
     ]
    },
    {
     "name": "stderr",
     "output_type": "stream",
     "text": [
      "WARNING: You are using pip version 21.3.1; however, version 22.0.3 is available.\n",
      "You should consider upgrading via the 'c:\\program files\\python39\\python.exe -m pip install --upgrade pip' command.\n"
     ]
    },
    {
     "name": "stdout",
     "output_type": "stream",
     "text": [
      "\n"
     ]
    }
   ],
   "source": [
    "!pip install ipythonblocks"
   ]
  },
  {
   "cell_type": "markdown",
   "metadata": {},
   "source": [
    "# ipythonblocks\n",
    "\n",
    "https://pypi.org/project/ipythonblocks/"
   ]
  },
  {
   "cell_type": "code",
   "execution_count": 91,
   "metadata": {},
   "outputs": [],
   "source": [
    "import ipythonblocks"
   ]
  },
  {
   "cell_type": "code",
   "execution_count": 92,
   "metadata": {},
   "outputs": [],
   "source": [
    "ipythonblocks.BlockGrid?"
   ]
  },
  {
   "cell_type": "code",
   "execution_count": 93,
   "metadata": {},
   "outputs": [],
   "source": [
    "griglia = ipythonblocks.BlockGrid(10, 7, fill=(255,0,0) )"
   ]
  },
  {
   "cell_type": "code",
   "execution_count": 94,
   "metadata": {},
   "outputs": [
    {
     "data": {
      "text/html": [
       "<style type=\"text/css\">table.blockgrid {border: none;} .blockgrid tr {border: none;} .blockgrid td {padding: 0px;} #blocks3f000552-aa4a-4eb5-a4a5-3ddbb5b17341 td {border: 1px solid white;}</style><table id=\"blocks3f000552-aa4a-4eb5-a4a5-3ddbb5b17341\" class=\"blockgrid\"><tbody><tr><td title=\"Index: [0, 0]&#10;Color: (255, 0, 0)\" style=\"width: 20px; height: 20px;background-color: rgb(255, 0, 0);\"></td><td title=\"Index: [0, 1]&#10;Color: (255, 0, 0)\" style=\"width: 20px; height: 20px;background-color: rgb(255, 0, 0);\"></td><td title=\"Index: [0, 2]&#10;Color: (255, 0, 0)\" style=\"width: 20px; height: 20px;background-color: rgb(255, 0, 0);\"></td><td title=\"Index: [0, 3]&#10;Color: (255, 0, 0)\" style=\"width: 20px; height: 20px;background-color: rgb(255, 0, 0);\"></td><td title=\"Index: [0, 4]&#10;Color: (255, 0, 0)\" style=\"width: 20px; height: 20px;background-color: rgb(255, 0, 0);\"></td><td title=\"Index: [0, 5]&#10;Color: (255, 0, 0)\" style=\"width: 20px; height: 20px;background-color: rgb(255, 0, 0);\"></td><td title=\"Index: [0, 6]&#10;Color: (255, 0, 0)\" style=\"width: 20px; height: 20px;background-color: rgb(255, 0, 0);\"></td><td title=\"Index: [0, 7]&#10;Color: (255, 0, 0)\" style=\"width: 20px; height: 20px;background-color: rgb(255, 0, 0);\"></td><td title=\"Index: [0, 8]&#10;Color: (255, 0, 0)\" style=\"width: 20px; height: 20px;background-color: rgb(255, 0, 0);\"></td><td title=\"Index: [0, 9]&#10;Color: (255, 0, 0)\" style=\"width: 20px; height: 20px;background-color: rgb(255, 0, 0);\"></td></tr><tr><td title=\"Index: [1, 0]&#10;Color: (255, 0, 0)\" style=\"width: 20px; height: 20px;background-color: rgb(255, 0, 0);\"></td><td title=\"Index: [1, 1]&#10;Color: (255, 0, 0)\" style=\"width: 20px; height: 20px;background-color: rgb(255, 0, 0);\"></td><td title=\"Index: [1, 2]&#10;Color: (255, 0, 0)\" style=\"width: 20px; height: 20px;background-color: rgb(255, 0, 0);\"></td><td title=\"Index: [1, 3]&#10;Color: (255, 0, 0)\" style=\"width: 20px; height: 20px;background-color: rgb(255, 0, 0);\"></td><td title=\"Index: [1, 4]&#10;Color: (255, 0, 0)\" style=\"width: 20px; height: 20px;background-color: rgb(255, 0, 0);\"></td><td title=\"Index: [1, 5]&#10;Color: (255, 0, 0)\" style=\"width: 20px; height: 20px;background-color: rgb(255, 0, 0);\"></td><td title=\"Index: [1, 6]&#10;Color: (255, 0, 0)\" style=\"width: 20px; height: 20px;background-color: rgb(255, 0, 0);\"></td><td title=\"Index: [1, 7]&#10;Color: (255, 0, 0)\" style=\"width: 20px; height: 20px;background-color: rgb(255, 0, 0);\"></td><td title=\"Index: [1, 8]&#10;Color: (255, 0, 0)\" style=\"width: 20px; height: 20px;background-color: rgb(255, 0, 0);\"></td><td title=\"Index: [1, 9]&#10;Color: (255, 0, 0)\" style=\"width: 20px; height: 20px;background-color: rgb(255, 0, 0);\"></td></tr><tr><td title=\"Index: [2, 0]&#10;Color: (255, 0, 0)\" style=\"width: 20px; height: 20px;background-color: rgb(255, 0, 0);\"></td><td title=\"Index: [2, 1]&#10;Color: (255, 0, 0)\" style=\"width: 20px; height: 20px;background-color: rgb(255, 0, 0);\"></td><td title=\"Index: [2, 2]&#10;Color: (255, 0, 0)\" style=\"width: 20px; height: 20px;background-color: rgb(255, 0, 0);\"></td><td title=\"Index: [2, 3]&#10;Color: (255, 0, 0)\" style=\"width: 20px; height: 20px;background-color: rgb(255, 0, 0);\"></td><td title=\"Index: [2, 4]&#10;Color: (255, 0, 0)\" style=\"width: 20px; height: 20px;background-color: rgb(255, 0, 0);\"></td><td title=\"Index: [2, 5]&#10;Color: (255, 0, 0)\" style=\"width: 20px; height: 20px;background-color: rgb(255, 0, 0);\"></td><td title=\"Index: [2, 6]&#10;Color: (255, 0, 0)\" style=\"width: 20px; height: 20px;background-color: rgb(255, 0, 0);\"></td><td title=\"Index: [2, 7]&#10;Color: (255, 0, 0)\" style=\"width: 20px; height: 20px;background-color: rgb(255, 0, 0);\"></td><td title=\"Index: [2, 8]&#10;Color: (255, 0, 0)\" style=\"width: 20px; height: 20px;background-color: rgb(255, 0, 0);\"></td><td title=\"Index: [2, 9]&#10;Color: (255, 0, 0)\" style=\"width: 20px; height: 20px;background-color: rgb(255, 0, 0);\"></td></tr><tr><td title=\"Index: [3, 0]&#10;Color: (255, 0, 0)\" style=\"width: 20px; height: 20px;background-color: rgb(255, 0, 0);\"></td><td title=\"Index: [3, 1]&#10;Color: (255, 0, 0)\" style=\"width: 20px; height: 20px;background-color: rgb(255, 0, 0);\"></td><td title=\"Index: [3, 2]&#10;Color: (255, 0, 0)\" style=\"width: 20px; height: 20px;background-color: rgb(255, 0, 0);\"></td><td title=\"Index: [3, 3]&#10;Color: (255, 0, 0)\" style=\"width: 20px; height: 20px;background-color: rgb(255, 0, 0);\"></td><td title=\"Index: [3, 4]&#10;Color: (255, 0, 0)\" style=\"width: 20px; height: 20px;background-color: rgb(255, 0, 0);\"></td><td title=\"Index: [3, 5]&#10;Color: (255, 0, 0)\" style=\"width: 20px; height: 20px;background-color: rgb(255, 0, 0);\"></td><td title=\"Index: [3, 6]&#10;Color: (255, 0, 0)\" style=\"width: 20px; height: 20px;background-color: rgb(255, 0, 0);\"></td><td title=\"Index: [3, 7]&#10;Color: (255, 0, 0)\" style=\"width: 20px; height: 20px;background-color: rgb(255, 0, 0);\"></td><td title=\"Index: [3, 8]&#10;Color: (255, 0, 0)\" style=\"width: 20px; height: 20px;background-color: rgb(255, 0, 0);\"></td><td title=\"Index: [3, 9]&#10;Color: (255, 0, 0)\" style=\"width: 20px; height: 20px;background-color: rgb(255, 0, 0);\"></td></tr><tr><td title=\"Index: [4, 0]&#10;Color: (255, 0, 0)\" style=\"width: 20px; height: 20px;background-color: rgb(255, 0, 0);\"></td><td title=\"Index: [4, 1]&#10;Color: (255, 0, 0)\" style=\"width: 20px; height: 20px;background-color: rgb(255, 0, 0);\"></td><td title=\"Index: [4, 2]&#10;Color: (255, 0, 0)\" style=\"width: 20px; height: 20px;background-color: rgb(255, 0, 0);\"></td><td title=\"Index: [4, 3]&#10;Color: (255, 0, 0)\" style=\"width: 20px; height: 20px;background-color: rgb(255, 0, 0);\"></td><td title=\"Index: [4, 4]&#10;Color: (255, 0, 0)\" style=\"width: 20px; height: 20px;background-color: rgb(255, 0, 0);\"></td><td title=\"Index: [4, 5]&#10;Color: (255, 0, 0)\" style=\"width: 20px; height: 20px;background-color: rgb(255, 0, 0);\"></td><td title=\"Index: [4, 6]&#10;Color: (255, 0, 0)\" style=\"width: 20px; height: 20px;background-color: rgb(255, 0, 0);\"></td><td title=\"Index: [4, 7]&#10;Color: (255, 0, 0)\" style=\"width: 20px; height: 20px;background-color: rgb(255, 0, 0);\"></td><td title=\"Index: [4, 8]&#10;Color: (255, 0, 0)\" style=\"width: 20px; height: 20px;background-color: rgb(255, 0, 0);\"></td><td title=\"Index: [4, 9]&#10;Color: (255, 0, 0)\" style=\"width: 20px; height: 20px;background-color: rgb(255, 0, 0);\"></td></tr><tr><td title=\"Index: [5, 0]&#10;Color: (255, 0, 0)\" style=\"width: 20px; height: 20px;background-color: rgb(255, 0, 0);\"></td><td title=\"Index: [5, 1]&#10;Color: (255, 0, 0)\" style=\"width: 20px; height: 20px;background-color: rgb(255, 0, 0);\"></td><td title=\"Index: [5, 2]&#10;Color: (255, 0, 0)\" style=\"width: 20px; height: 20px;background-color: rgb(255, 0, 0);\"></td><td title=\"Index: [5, 3]&#10;Color: (255, 0, 0)\" style=\"width: 20px; height: 20px;background-color: rgb(255, 0, 0);\"></td><td title=\"Index: [5, 4]&#10;Color: (255, 0, 0)\" style=\"width: 20px; height: 20px;background-color: rgb(255, 0, 0);\"></td><td title=\"Index: [5, 5]&#10;Color: (255, 0, 0)\" style=\"width: 20px; height: 20px;background-color: rgb(255, 0, 0);\"></td><td title=\"Index: [5, 6]&#10;Color: (255, 0, 0)\" style=\"width: 20px; height: 20px;background-color: rgb(255, 0, 0);\"></td><td title=\"Index: [5, 7]&#10;Color: (255, 0, 0)\" style=\"width: 20px; height: 20px;background-color: rgb(255, 0, 0);\"></td><td title=\"Index: [5, 8]&#10;Color: (255, 0, 0)\" style=\"width: 20px; height: 20px;background-color: rgb(255, 0, 0);\"></td><td title=\"Index: [5, 9]&#10;Color: (255, 0, 0)\" style=\"width: 20px; height: 20px;background-color: rgb(255, 0, 0);\"></td></tr><tr><td title=\"Index: [6, 0]&#10;Color: (255, 0, 0)\" style=\"width: 20px; height: 20px;background-color: rgb(255, 0, 0);\"></td><td title=\"Index: [6, 1]&#10;Color: (255, 0, 0)\" style=\"width: 20px; height: 20px;background-color: rgb(255, 0, 0);\"></td><td title=\"Index: [6, 2]&#10;Color: (255, 0, 0)\" style=\"width: 20px; height: 20px;background-color: rgb(255, 0, 0);\"></td><td title=\"Index: [6, 3]&#10;Color: (255, 0, 0)\" style=\"width: 20px; height: 20px;background-color: rgb(255, 0, 0);\"></td><td title=\"Index: [6, 4]&#10;Color: (255, 0, 0)\" style=\"width: 20px; height: 20px;background-color: rgb(255, 0, 0);\"></td><td title=\"Index: [6, 5]&#10;Color: (255, 0, 0)\" style=\"width: 20px; height: 20px;background-color: rgb(255, 0, 0);\"></td><td title=\"Index: [6, 6]&#10;Color: (255, 0, 0)\" style=\"width: 20px; height: 20px;background-color: rgb(255, 0, 0);\"></td><td title=\"Index: [6, 7]&#10;Color: (255, 0, 0)\" style=\"width: 20px; height: 20px;background-color: rgb(255, 0, 0);\"></td><td title=\"Index: [6, 8]&#10;Color: (255, 0, 0)\" style=\"width: 20px; height: 20px;background-color: rgb(255, 0, 0);\"></td><td title=\"Index: [6, 9]&#10;Color: (255, 0, 0)\" style=\"width: 20px; height: 20px;background-color: rgb(255, 0, 0);\"></td></tr></tbody></table>"
      ],
      "text/plain": [
       "<ipythonblocks.ipythonblocks.BlockGrid at 0x1c0f7809a30>"
      ]
     },
     "execution_count": 94,
     "metadata": {},
     "output_type": "execute_result"
    }
   ],
   "source": [
    "griglia"
   ]
  },
  {
   "cell_type": "code",
   "execution_count": 95,
   "metadata": {},
   "outputs": [],
   "source": [
    "blocco = griglia[0, 9]"
   ]
  },
  {
   "cell_type": "code",
   "execution_count": 96,
   "metadata": {},
   "outputs": [
    {
     "data": {
      "text/html": [
       "<style type=\"text/css\">table.blockgrid {border: none;} .blockgrid tr {border: none;} .blockgrid td {padding: 0px;} #blocks2b1379d9-d285-4d9f-b2f8-11675e733459 td {border: 0px solid white;}</style><table id=\"blocks2b1379d9-d285-4d9f-b2f8-11675e733459\" class=\"blockgrid\"><tbody><tr><td title=\"Index: [0, 9]&#10;Color: (255, 0, 0)\" style=\"width: 20px; height: 20px;background-color: rgb(255, 0, 0);\"></td></tr></tbody></table>"
      ],
      "text/plain": [
       "Block(255, 0, 0, size=20)"
      ]
     },
     "execution_count": 96,
     "metadata": {},
     "output_type": "execute_result"
    }
   ],
   "source": [
    "blocco"
   ]
  },
  {
   "cell_type": "code",
   "execution_count": 97,
   "metadata": {},
   "outputs": [],
   "source": [
    "blocco.rgb = (0, 0, 255)"
   ]
  },
  {
   "cell_type": "code",
   "execution_count": 98,
   "metadata": {},
   "outputs": [
    {
     "data": {
      "text/html": [
       "<style type=\"text/css\">table.blockgrid {border: none;} .blockgrid tr {border: none;} .blockgrid td {padding: 0px;} #blocks74ba5432-9a83-4409-8f3b-6328d24db66b td {border: 0px solid white;}</style><table id=\"blocks74ba5432-9a83-4409-8f3b-6328d24db66b\" class=\"blockgrid\"><tbody><tr><td title=\"Index: [0, 9]&#10;Color: (0, 0, 255)\" style=\"width: 20px; height: 20px;background-color: rgb(0, 0, 255);\"></td></tr></tbody></table>"
      ],
      "text/plain": [
       "Block(0, 0, 255, size=20)"
      ]
     },
     "execution_count": 98,
     "metadata": {},
     "output_type": "execute_result"
    }
   ],
   "source": [
    "blocco"
   ]
  },
  {
   "cell_type": "code",
   "execution_count": 99,
   "metadata": {},
   "outputs": [],
   "source": [
    "sottogriglia = griglia[0:3, 0:3]"
   ]
  },
  {
   "cell_type": "code",
   "execution_count": 100,
   "metadata": {},
   "outputs": [
    {
     "data": {
      "text/html": [
       "<style type=\"text/css\">table.blockgrid {border: none;} .blockgrid tr {border: none;} .blockgrid td {padding: 0px;} #blocks17ac0ca8-3738-4f5b-9595-6d735edc0fb2 td {border: 1px solid white;}</style><table id=\"blocks17ac0ca8-3738-4f5b-9595-6d735edc0fb2\" class=\"blockgrid\"><tbody><tr><td title=\"Index: [0, 0]&#10;Color: (255, 0, 0)\" style=\"width: 20px; height: 20px;background-color: rgb(255, 0, 0);\"></td><td title=\"Index: [0, 1]&#10;Color: (255, 0, 0)\" style=\"width: 20px; height: 20px;background-color: rgb(255, 0, 0);\"></td><td title=\"Index: [0, 2]&#10;Color: (255, 0, 0)\" style=\"width: 20px; height: 20px;background-color: rgb(255, 0, 0);\"></td></tr><tr><td title=\"Index: [1, 0]&#10;Color: (255, 0, 0)\" style=\"width: 20px; height: 20px;background-color: rgb(255, 0, 0);\"></td><td title=\"Index: [1, 1]&#10;Color: (255, 0, 0)\" style=\"width: 20px; height: 20px;background-color: rgb(255, 0, 0);\"></td><td title=\"Index: [1, 2]&#10;Color: (255, 0, 0)\" style=\"width: 20px; height: 20px;background-color: rgb(255, 0, 0);\"></td></tr><tr><td title=\"Index: [2, 0]&#10;Color: (255, 0, 0)\" style=\"width: 20px; height: 20px;background-color: rgb(255, 0, 0);\"></td><td title=\"Index: [2, 1]&#10;Color: (255, 0, 0)\" style=\"width: 20px; height: 20px;background-color: rgb(255, 0, 0);\"></td><td title=\"Index: [2, 2]&#10;Color: (255, 0, 0)\" style=\"width: 20px; height: 20px;background-color: rgb(255, 0, 0);\"></td></tr></tbody></table>"
      ],
      "text/plain": [
       "<ipythonblocks.ipythonblocks.BlockGrid at 0x1c0f9587730>"
      ]
     },
     "execution_count": 100,
     "metadata": {},
     "output_type": "execute_result"
    }
   ],
   "source": [
    "sottogriglia"
   ]
  },
  {
   "cell_type": "code",
   "execution_count": 101,
   "metadata": {},
   "outputs": [],
   "source": [
    "for elemento in sottogriglia:\n",
    "    elemento.rgb = (0, 255, 0)"
   ]
  },
  {
   "cell_type": "code",
   "execution_count": 102,
   "metadata": {},
   "outputs": [
    {
     "data": {
      "text/html": [
       "<style type=\"text/css\">table.blockgrid {border: none;} .blockgrid tr {border: none;} .blockgrid td {padding: 0px;} #blocks4a0c7f64-e420-49a4-af3c-17795b2f5ea8 td {border: 1px solid white;}</style><table id=\"blocks4a0c7f64-e420-49a4-af3c-17795b2f5ea8\" class=\"blockgrid\"><tbody><tr><td title=\"Index: [0, 0]&#10;Color: (0, 255, 0)\" style=\"width: 20px; height: 20px;background-color: rgb(0, 255, 0);\"></td><td title=\"Index: [0, 1]&#10;Color: (0, 255, 0)\" style=\"width: 20px; height: 20px;background-color: rgb(0, 255, 0);\"></td><td title=\"Index: [0, 2]&#10;Color: (0, 255, 0)\" style=\"width: 20px; height: 20px;background-color: rgb(0, 255, 0);\"></td><td title=\"Index: [0, 3]&#10;Color: (255, 0, 0)\" style=\"width: 20px; height: 20px;background-color: rgb(255, 0, 0);\"></td><td title=\"Index: [0, 4]&#10;Color: (255, 0, 0)\" style=\"width: 20px; height: 20px;background-color: rgb(255, 0, 0);\"></td><td title=\"Index: [0, 5]&#10;Color: (255, 0, 0)\" style=\"width: 20px; height: 20px;background-color: rgb(255, 0, 0);\"></td><td title=\"Index: [0, 6]&#10;Color: (255, 0, 0)\" style=\"width: 20px; height: 20px;background-color: rgb(255, 0, 0);\"></td><td title=\"Index: [0, 7]&#10;Color: (255, 0, 0)\" style=\"width: 20px; height: 20px;background-color: rgb(255, 0, 0);\"></td><td title=\"Index: [0, 8]&#10;Color: (255, 0, 0)\" style=\"width: 20px; height: 20px;background-color: rgb(255, 0, 0);\"></td><td title=\"Index: [0, 9]&#10;Color: (0, 0, 255)\" style=\"width: 20px; height: 20px;background-color: rgb(0, 0, 255);\"></td></tr><tr><td title=\"Index: [1, 0]&#10;Color: (0, 255, 0)\" style=\"width: 20px; height: 20px;background-color: rgb(0, 255, 0);\"></td><td title=\"Index: [1, 1]&#10;Color: (0, 255, 0)\" style=\"width: 20px; height: 20px;background-color: rgb(0, 255, 0);\"></td><td title=\"Index: [1, 2]&#10;Color: (0, 255, 0)\" style=\"width: 20px; height: 20px;background-color: rgb(0, 255, 0);\"></td><td title=\"Index: [1, 3]&#10;Color: (255, 0, 0)\" style=\"width: 20px; height: 20px;background-color: rgb(255, 0, 0);\"></td><td title=\"Index: [1, 4]&#10;Color: (255, 0, 0)\" style=\"width: 20px; height: 20px;background-color: rgb(255, 0, 0);\"></td><td title=\"Index: [1, 5]&#10;Color: (255, 0, 0)\" style=\"width: 20px; height: 20px;background-color: rgb(255, 0, 0);\"></td><td title=\"Index: [1, 6]&#10;Color: (255, 0, 0)\" style=\"width: 20px; height: 20px;background-color: rgb(255, 0, 0);\"></td><td title=\"Index: [1, 7]&#10;Color: (255, 0, 0)\" style=\"width: 20px; height: 20px;background-color: rgb(255, 0, 0);\"></td><td title=\"Index: [1, 8]&#10;Color: (255, 0, 0)\" style=\"width: 20px; height: 20px;background-color: rgb(255, 0, 0);\"></td><td title=\"Index: [1, 9]&#10;Color: (255, 0, 0)\" style=\"width: 20px; height: 20px;background-color: rgb(255, 0, 0);\"></td></tr><tr><td title=\"Index: [2, 0]&#10;Color: (0, 255, 0)\" style=\"width: 20px; height: 20px;background-color: rgb(0, 255, 0);\"></td><td title=\"Index: [2, 1]&#10;Color: (0, 255, 0)\" style=\"width: 20px; height: 20px;background-color: rgb(0, 255, 0);\"></td><td title=\"Index: [2, 2]&#10;Color: (0, 255, 0)\" style=\"width: 20px; height: 20px;background-color: rgb(0, 255, 0);\"></td><td title=\"Index: [2, 3]&#10;Color: (255, 0, 0)\" style=\"width: 20px; height: 20px;background-color: rgb(255, 0, 0);\"></td><td title=\"Index: [2, 4]&#10;Color: (255, 0, 0)\" style=\"width: 20px; height: 20px;background-color: rgb(255, 0, 0);\"></td><td title=\"Index: [2, 5]&#10;Color: (255, 0, 0)\" style=\"width: 20px; height: 20px;background-color: rgb(255, 0, 0);\"></td><td title=\"Index: [2, 6]&#10;Color: (255, 0, 0)\" style=\"width: 20px; height: 20px;background-color: rgb(255, 0, 0);\"></td><td title=\"Index: [2, 7]&#10;Color: (255, 0, 0)\" style=\"width: 20px; height: 20px;background-color: rgb(255, 0, 0);\"></td><td title=\"Index: [2, 8]&#10;Color: (255, 0, 0)\" style=\"width: 20px; height: 20px;background-color: rgb(255, 0, 0);\"></td><td title=\"Index: [2, 9]&#10;Color: (255, 0, 0)\" style=\"width: 20px; height: 20px;background-color: rgb(255, 0, 0);\"></td></tr><tr><td title=\"Index: [3, 0]&#10;Color: (255, 0, 0)\" style=\"width: 20px; height: 20px;background-color: rgb(255, 0, 0);\"></td><td title=\"Index: [3, 1]&#10;Color: (255, 0, 0)\" style=\"width: 20px; height: 20px;background-color: rgb(255, 0, 0);\"></td><td title=\"Index: [3, 2]&#10;Color: (255, 0, 0)\" style=\"width: 20px; height: 20px;background-color: rgb(255, 0, 0);\"></td><td title=\"Index: [3, 3]&#10;Color: (255, 0, 0)\" style=\"width: 20px; height: 20px;background-color: rgb(255, 0, 0);\"></td><td title=\"Index: [3, 4]&#10;Color: (255, 0, 0)\" style=\"width: 20px; height: 20px;background-color: rgb(255, 0, 0);\"></td><td title=\"Index: [3, 5]&#10;Color: (255, 0, 0)\" style=\"width: 20px; height: 20px;background-color: rgb(255, 0, 0);\"></td><td title=\"Index: [3, 6]&#10;Color: (255, 0, 0)\" style=\"width: 20px; height: 20px;background-color: rgb(255, 0, 0);\"></td><td title=\"Index: [3, 7]&#10;Color: (255, 0, 0)\" style=\"width: 20px; height: 20px;background-color: rgb(255, 0, 0);\"></td><td title=\"Index: [3, 8]&#10;Color: (255, 0, 0)\" style=\"width: 20px; height: 20px;background-color: rgb(255, 0, 0);\"></td><td title=\"Index: [3, 9]&#10;Color: (255, 0, 0)\" style=\"width: 20px; height: 20px;background-color: rgb(255, 0, 0);\"></td></tr><tr><td title=\"Index: [4, 0]&#10;Color: (255, 0, 0)\" style=\"width: 20px; height: 20px;background-color: rgb(255, 0, 0);\"></td><td title=\"Index: [4, 1]&#10;Color: (255, 0, 0)\" style=\"width: 20px; height: 20px;background-color: rgb(255, 0, 0);\"></td><td title=\"Index: [4, 2]&#10;Color: (255, 0, 0)\" style=\"width: 20px; height: 20px;background-color: rgb(255, 0, 0);\"></td><td title=\"Index: [4, 3]&#10;Color: (255, 0, 0)\" style=\"width: 20px; height: 20px;background-color: rgb(255, 0, 0);\"></td><td title=\"Index: [4, 4]&#10;Color: (255, 0, 0)\" style=\"width: 20px; height: 20px;background-color: rgb(255, 0, 0);\"></td><td title=\"Index: [4, 5]&#10;Color: (255, 0, 0)\" style=\"width: 20px; height: 20px;background-color: rgb(255, 0, 0);\"></td><td title=\"Index: [4, 6]&#10;Color: (255, 0, 0)\" style=\"width: 20px; height: 20px;background-color: rgb(255, 0, 0);\"></td><td title=\"Index: [4, 7]&#10;Color: (255, 0, 0)\" style=\"width: 20px; height: 20px;background-color: rgb(255, 0, 0);\"></td><td title=\"Index: [4, 8]&#10;Color: (255, 0, 0)\" style=\"width: 20px; height: 20px;background-color: rgb(255, 0, 0);\"></td><td title=\"Index: [4, 9]&#10;Color: (255, 0, 0)\" style=\"width: 20px; height: 20px;background-color: rgb(255, 0, 0);\"></td></tr><tr><td title=\"Index: [5, 0]&#10;Color: (255, 0, 0)\" style=\"width: 20px; height: 20px;background-color: rgb(255, 0, 0);\"></td><td title=\"Index: [5, 1]&#10;Color: (255, 0, 0)\" style=\"width: 20px; height: 20px;background-color: rgb(255, 0, 0);\"></td><td title=\"Index: [5, 2]&#10;Color: (255, 0, 0)\" style=\"width: 20px; height: 20px;background-color: rgb(255, 0, 0);\"></td><td title=\"Index: [5, 3]&#10;Color: (255, 0, 0)\" style=\"width: 20px; height: 20px;background-color: rgb(255, 0, 0);\"></td><td title=\"Index: [5, 4]&#10;Color: (255, 0, 0)\" style=\"width: 20px; height: 20px;background-color: rgb(255, 0, 0);\"></td><td title=\"Index: [5, 5]&#10;Color: (255, 0, 0)\" style=\"width: 20px; height: 20px;background-color: rgb(255, 0, 0);\"></td><td title=\"Index: [5, 6]&#10;Color: (255, 0, 0)\" style=\"width: 20px; height: 20px;background-color: rgb(255, 0, 0);\"></td><td title=\"Index: [5, 7]&#10;Color: (255, 0, 0)\" style=\"width: 20px; height: 20px;background-color: rgb(255, 0, 0);\"></td><td title=\"Index: [5, 8]&#10;Color: (255, 0, 0)\" style=\"width: 20px; height: 20px;background-color: rgb(255, 0, 0);\"></td><td title=\"Index: [5, 9]&#10;Color: (255, 0, 0)\" style=\"width: 20px; height: 20px;background-color: rgb(255, 0, 0);\"></td></tr><tr><td title=\"Index: [6, 0]&#10;Color: (255, 0, 0)\" style=\"width: 20px; height: 20px;background-color: rgb(255, 0, 0);\"></td><td title=\"Index: [6, 1]&#10;Color: (255, 0, 0)\" style=\"width: 20px; height: 20px;background-color: rgb(255, 0, 0);\"></td><td title=\"Index: [6, 2]&#10;Color: (255, 0, 0)\" style=\"width: 20px; height: 20px;background-color: rgb(255, 0, 0);\"></td><td title=\"Index: [6, 3]&#10;Color: (255, 0, 0)\" style=\"width: 20px; height: 20px;background-color: rgb(255, 0, 0);\"></td><td title=\"Index: [6, 4]&#10;Color: (255, 0, 0)\" style=\"width: 20px; height: 20px;background-color: rgb(255, 0, 0);\"></td><td title=\"Index: [6, 5]&#10;Color: (255, 0, 0)\" style=\"width: 20px; height: 20px;background-color: rgb(255, 0, 0);\"></td><td title=\"Index: [6, 6]&#10;Color: (255, 0, 0)\" style=\"width: 20px; height: 20px;background-color: rgb(255, 0, 0);\"></td><td title=\"Index: [6, 7]&#10;Color: (255, 0, 0)\" style=\"width: 20px; height: 20px;background-color: rgb(255, 0, 0);\"></td><td title=\"Index: [6, 8]&#10;Color: (255, 0, 0)\" style=\"width: 20px; height: 20px;background-color: rgb(255, 0, 0);\"></td><td title=\"Index: [6, 9]&#10;Color: (255, 0, 0)\" style=\"width: 20px; height: 20px;background-color: rgb(255, 0, 0);\"></td></tr></tbody></table>"
      ],
      "text/plain": [
       "<ipythonblocks.ipythonblocks.BlockGrid at 0x1c0f7809a30>"
      ]
     },
     "execution_count": 102,
     "metadata": {},
     "output_type": "execute_result"
    }
   ],
   "source": [
    "griglia"
   ]
  },
  {
   "cell_type": "code",
   "execution_count": 103,
   "metadata": {},
   "outputs": [],
   "source": [
    "ipythonblocks.Block?"
   ]
  },
  {
   "cell_type": "code",
   "execution_count": null,
   "metadata": {},
   "outputs": [],
   "source": []
  },
  {
   "cell_type": "code",
   "execution_count": 104,
   "metadata": {},
   "outputs": [],
   "source": [
    "from ipythonblocks import BlockGrid"
   ]
  },
  {
   "cell_type": "code",
   "execution_count": 105,
   "metadata": {},
   "outputs": [],
   "source": [
    "scacchiera = BlockGrid(8, 8)"
   ]
  },
  {
   "cell_type": "code",
   "execution_count": 106,
   "metadata": {},
   "outputs": [
    {
     "data": {
      "text/html": [
       "<style type=\"text/css\">table.blockgrid {border: none;} .blockgrid tr {border: none;} .blockgrid td {padding: 0px;} #blocksfb0e262c-7558-416c-9f53-09414f1d7002 td {border: 1px solid white;}</style><table id=\"blocksfb0e262c-7558-416c-9f53-09414f1d7002\" class=\"blockgrid\"><tbody><tr><td title=\"Index: [0, 0]&#10;Color: (0, 0, 0)\" style=\"width: 20px; height: 20px;background-color: rgb(0, 0, 0);\"></td><td title=\"Index: [0, 1]&#10;Color: (0, 0, 0)\" style=\"width: 20px; height: 20px;background-color: rgb(0, 0, 0);\"></td><td title=\"Index: [0, 2]&#10;Color: (0, 0, 0)\" style=\"width: 20px; height: 20px;background-color: rgb(0, 0, 0);\"></td><td title=\"Index: [0, 3]&#10;Color: (0, 0, 0)\" style=\"width: 20px; height: 20px;background-color: rgb(0, 0, 0);\"></td><td title=\"Index: [0, 4]&#10;Color: (0, 0, 0)\" style=\"width: 20px; height: 20px;background-color: rgb(0, 0, 0);\"></td><td title=\"Index: [0, 5]&#10;Color: (0, 0, 0)\" style=\"width: 20px; height: 20px;background-color: rgb(0, 0, 0);\"></td><td title=\"Index: [0, 6]&#10;Color: (0, 0, 0)\" style=\"width: 20px; height: 20px;background-color: rgb(0, 0, 0);\"></td><td title=\"Index: [0, 7]&#10;Color: (0, 0, 0)\" style=\"width: 20px; height: 20px;background-color: rgb(0, 0, 0);\"></td></tr><tr><td title=\"Index: [1, 0]&#10;Color: (0, 0, 0)\" style=\"width: 20px; height: 20px;background-color: rgb(0, 0, 0);\"></td><td title=\"Index: [1, 1]&#10;Color: (0, 0, 0)\" style=\"width: 20px; height: 20px;background-color: rgb(0, 0, 0);\"></td><td title=\"Index: [1, 2]&#10;Color: (0, 0, 0)\" style=\"width: 20px; height: 20px;background-color: rgb(0, 0, 0);\"></td><td title=\"Index: [1, 3]&#10;Color: (0, 0, 0)\" style=\"width: 20px; height: 20px;background-color: rgb(0, 0, 0);\"></td><td title=\"Index: [1, 4]&#10;Color: (0, 0, 0)\" style=\"width: 20px; height: 20px;background-color: rgb(0, 0, 0);\"></td><td title=\"Index: [1, 5]&#10;Color: (0, 0, 0)\" style=\"width: 20px; height: 20px;background-color: rgb(0, 0, 0);\"></td><td title=\"Index: [1, 6]&#10;Color: (0, 0, 0)\" style=\"width: 20px; height: 20px;background-color: rgb(0, 0, 0);\"></td><td title=\"Index: [1, 7]&#10;Color: (0, 0, 0)\" style=\"width: 20px; height: 20px;background-color: rgb(0, 0, 0);\"></td></tr><tr><td title=\"Index: [2, 0]&#10;Color: (0, 0, 0)\" style=\"width: 20px; height: 20px;background-color: rgb(0, 0, 0);\"></td><td title=\"Index: [2, 1]&#10;Color: (0, 0, 0)\" style=\"width: 20px; height: 20px;background-color: rgb(0, 0, 0);\"></td><td title=\"Index: [2, 2]&#10;Color: (0, 0, 0)\" style=\"width: 20px; height: 20px;background-color: rgb(0, 0, 0);\"></td><td title=\"Index: [2, 3]&#10;Color: (0, 0, 0)\" style=\"width: 20px; height: 20px;background-color: rgb(0, 0, 0);\"></td><td title=\"Index: [2, 4]&#10;Color: (0, 0, 0)\" style=\"width: 20px; height: 20px;background-color: rgb(0, 0, 0);\"></td><td title=\"Index: [2, 5]&#10;Color: (0, 0, 0)\" style=\"width: 20px; height: 20px;background-color: rgb(0, 0, 0);\"></td><td title=\"Index: [2, 6]&#10;Color: (0, 0, 0)\" style=\"width: 20px; height: 20px;background-color: rgb(0, 0, 0);\"></td><td title=\"Index: [2, 7]&#10;Color: (0, 0, 0)\" style=\"width: 20px; height: 20px;background-color: rgb(0, 0, 0);\"></td></tr><tr><td title=\"Index: [3, 0]&#10;Color: (0, 0, 0)\" style=\"width: 20px; height: 20px;background-color: rgb(0, 0, 0);\"></td><td title=\"Index: [3, 1]&#10;Color: (0, 0, 0)\" style=\"width: 20px; height: 20px;background-color: rgb(0, 0, 0);\"></td><td title=\"Index: [3, 2]&#10;Color: (0, 0, 0)\" style=\"width: 20px; height: 20px;background-color: rgb(0, 0, 0);\"></td><td title=\"Index: [3, 3]&#10;Color: (0, 0, 0)\" style=\"width: 20px; height: 20px;background-color: rgb(0, 0, 0);\"></td><td title=\"Index: [3, 4]&#10;Color: (0, 0, 0)\" style=\"width: 20px; height: 20px;background-color: rgb(0, 0, 0);\"></td><td title=\"Index: [3, 5]&#10;Color: (0, 0, 0)\" style=\"width: 20px; height: 20px;background-color: rgb(0, 0, 0);\"></td><td title=\"Index: [3, 6]&#10;Color: (0, 0, 0)\" style=\"width: 20px; height: 20px;background-color: rgb(0, 0, 0);\"></td><td title=\"Index: [3, 7]&#10;Color: (0, 0, 0)\" style=\"width: 20px; height: 20px;background-color: rgb(0, 0, 0);\"></td></tr><tr><td title=\"Index: [4, 0]&#10;Color: (0, 0, 0)\" style=\"width: 20px; height: 20px;background-color: rgb(0, 0, 0);\"></td><td title=\"Index: [4, 1]&#10;Color: (0, 0, 0)\" style=\"width: 20px; height: 20px;background-color: rgb(0, 0, 0);\"></td><td title=\"Index: [4, 2]&#10;Color: (0, 0, 0)\" style=\"width: 20px; height: 20px;background-color: rgb(0, 0, 0);\"></td><td title=\"Index: [4, 3]&#10;Color: (0, 0, 0)\" style=\"width: 20px; height: 20px;background-color: rgb(0, 0, 0);\"></td><td title=\"Index: [4, 4]&#10;Color: (0, 0, 0)\" style=\"width: 20px; height: 20px;background-color: rgb(0, 0, 0);\"></td><td title=\"Index: [4, 5]&#10;Color: (0, 0, 0)\" style=\"width: 20px; height: 20px;background-color: rgb(0, 0, 0);\"></td><td title=\"Index: [4, 6]&#10;Color: (0, 0, 0)\" style=\"width: 20px; height: 20px;background-color: rgb(0, 0, 0);\"></td><td title=\"Index: [4, 7]&#10;Color: (0, 0, 0)\" style=\"width: 20px; height: 20px;background-color: rgb(0, 0, 0);\"></td></tr><tr><td title=\"Index: [5, 0]&#10;Color: (0, 0, 0)\" style=\"width: 20px; height: 20px;background-color: rgb(0, 0, 0);\"></td><td title=\"Index: [5, 1]&#10;Color: (0, 0, 0)\" style=\"width: 20px; height: 20px;background-color: rgb(0, 0, 0);\"></td><td title=\"Index: [5, 2]&#10;Color: (0, 0, 0)\" style=\"width: 20px; height: 20px;background-color: rgb(0, 0, 0);\"></td><td title=\"Index: [5, 3]&#10;Color: (0, 0, 0)\" style=\"width: 20px; height: 20px;background-color: rgb(0, 0, 0);\"></td><td title=\"Index: [5, 4]&#10;Color: (0, 0, 0)\" style=\"width: 20px; height: 20px;background-color: rgb(0, 0, 0);\"></td><td title=\"Index: [5, 5]&#10;Color: (0, 0, 0)\" style=\"width: 20px; height: 20px;background-color: rgb(0, 0, 0);\"></td><td title=\"Index: [5, 6]&#10;Color: (0, 0, 0)\" style=\"width: 20px; height: 20px;background-color: rgb(0, 0, 0);\"></td><td title=\"Index: [5, 7]&#10;Color: (0, 0, 0)\" style=\"width: 20px; height: 20px;background-color: rgb(0, 0, 0);\"></td></tr><tr><td title=\"Index: [6, 0]&#10;Color: (0, 0, 0)\" style=\"width: 20px; height: 20px;background-color: rgb(0, 0, 0);\"></td><td title=\"Index: [6, 1]&#10;Color: (0, 0, 0)\" style=\"width: 20px; height: 20px;background-color: rgb(0, 0, 0);\"></td><td title=\"Index: [6, 2]&#10;Color: (0, 0, 0)\" style=\"width: 20px; height: 20px;background-color: rgb(0, 0, 0);\"></td><td title=\"Index: [6, 3]&#10;Color: (0, 0, 0)\" style=\"width: 20px; height: 20px;background-color: rgb(0, 0, 0);\"></td><td title=\"Index: [6, 4]&#10;Color: (0, 0, 0)\" style=\"width: 20px; height: 20px;background-color: rgb(0, 0, 0);\"></td><td title=\"Index: [6, 5]&#10;Color: (0, 0, 0)\" style=\"width: 20px; height: 20px;background-color: rgb(0, 0, 0);\"></td><td title=\"Index: [6, 6]&#10;Color: (0, 0, 0)\" style=\"width: 20px; height: 20px;background-color: rgb(0, 0, 0);\"></td><td title=\"Index: [6, 7]&#10;Color: (0, 0, 0)\" style=\"width: 20px; height: 20px;background-color: rgb(0, 0, 0);\"></td></tr><tr><td title=\"Index: [7, 0]&#10;Color: (0, 0, 0)\" style=\"width: 20px; height: 20px;background-color: rgb(0, 0, 0);\"></td><td title=\"Index: [7, 1]&#10;Color: (0, 0, 0)\" style=\"width: 20px; height: 20px;background-color: rgb(0, 0, 0);\"></td><td title=\"Index: [7, 2]&#10;Color: (0, 0, 0)\" style=\"width: 20px; height: 20px;background-color: rgb(0, 0, 0);\"></td><td title=\"Index: [7, 3]&#10;Color: (0, 0, 0)\" style=\"width: 20px; height: 20px;background-color: rgb(0, 0, 0);\"></td><td title=\"Index: [7, 4]&#10;Color: (0, 0, 0)\" style=\"width: 20px; height: 20px;background-color: rgb(0, 0, 0);\"></td><td title=\"Index: [7, 5]&#10;Color: (0, 0, 0)\" style=\"width: 20px; height: 20px;background-color: rgb(0, 0, 0);\"></td><td title=\"Index: [7, 6]&#10;Color: (0, 0, 0)\" style=\"width: 20px; height: 20px;background-color: rgb(0, 0, 0);\"></td><td title=\"Index: [7, 7]&#10;Color: (0, 0, 0)\" style=\"width: 20px; height: 20px;background-color: rgb(0, 0, 0);\"></td></tr></tbody></table>"
      ],
      "text/plain": [
       "<ipythonblocks.ipythonblocks.BlockGrid at 0x1c0f94fbb20>"
      ]
     },
     "execution_count": 106,
     "metadata": {},
     "output_type": "execute_result"
    }
   ],
   "source": [
    "scacchiera"
   ]
  },
  {
   "cell_type": "code",
   "execution_count": 107,
   "metadata": {},
   "outputs": [],
   "source": [
    "for elemento in scacchiera:\n",
    "    somma_indici = elemento.col + elemento.row\n",
    "    if somma_indici % 2 == 0:\n",
    "        elemento.rgb = (255, 255, 255)"
   ]
  },
  {
   "cell_type": "code",
   "execution_count": 108,
   "metadata": {},
   "outputs": [
    {
     "data": {
      "text/html": [
       "<style type=\"text/css\">table.blockgrid {border: none;} .blockgrid tr {border: none;} .blockgrid td {padding: 0px;} #blocksd8f0f83c-99c2-4f0d-99c7-03efceac2488 td {border: 1px solid white;}</style><table id=\"blocksd8f0f83c-99c2-4f0d-99c7-03efceac2488\" class=\"blockgrid\"><tbody><tr><td title=\"Index: [0, 0]&#10;Color: (255, 255, 255)\" style=\"width: 20px; height: 20px;background-color: rgb(255, 255, 255);\"></td><td title=\"Index: [0, 1]&#10;Color: (0, 0, 0)\" style=\"width: 20px; height: 20px;background-color: rgb(0, 0, 0);\"></td><td title=\"Index: [0, 2]&#10;Color: (255, 255, 255)\" style=\"width: 20px; height: 20px;background-color: rgb(255, 255, 255);\"></td><td title=\"Index: [0, 3]&#10;Color: (0, 0, 0)\" style=\"width: 20px; height: 20px;background-color: rgb(0, 0, 0);\"></td><td title=\"Index: [0, 4]&#10;Color: (255, 255, 255)\" style=\"width: 20px; height: 20px;background-color: rgb(255, 255, 255);\"></td><td title=\"Index: [0, 5]&#10;Color: (0, 0, 0)\" style=\"width: 20px; height: 20px;background-color: rgb(0, 0, 0);\"></td><td title=\"Index: [0, 6]&#10;Color: (255, 255, 255)\" style=\"width: 20px; height: 20px;background-color: rgb(255, 255, 255);\"></td><td title=\"Index: [0, 7]&#10;Color: (0, 0, 0)\" style=\"width: 20px; height: 20px;background-color: rgb(0, 0, 0);\"></td></tr><tr><td title=\"Index: [1, 0]&#10;Color: (0, 0, 0)\" style=\"width: 20px; height: 20px;background-color: rgb(0, 0, 0);\"></td><td title=\"Index: [1, 1]&#10;Color: (255, 255, 255)\" style=\"width: 20px; height: 20px;background-color: rgb(255, 255, 255);\"></td><td title=\"Index: [1, 2]&#10;Color: (0, 0, 0)\" style=\"width: 20px; height: 20px;background-color: rgb(0, 0, 0);\"></td><td title=\"Index: [1, 3]&#10;Color: (255, 255, 255)\" style=\"width: 20px; height: 20px;background-color: rgb(255, 255, 255);\"></td><td title=\"Index: [1, 4]&#10;Color: (0, 0, 0)\" style=\"width: 20px; height: 20px;background-color: rgb(0, 0, 0);\"></td><td title=\"Index: [1, 5]&#10;Color: (255, 255, 255)\" style=\"width: 20px; height: 20px;background-color: rgb(255, 255, 255);\"></td><td title=\"Index: [1, 6]&#10;Color: (0, 0, 0)\" style=\"width: 20px; height: 20px;background-color: rgb(0, 0, 0);\"></td><td title=\"Index: [1, 7]&#10;Color: (255, 255, 255)\" style=\"width: 20px; height: 20px;background-color: rgb(255, 255, 255);\"></td></tr><tr><td title=\"Index: [2, 0]&#10;Color: (255, 255, 255)\" style=\"width: 20px; height: 20px;background-color: rgb(255, 255, 255);\"></td><td title=\"Index: [2, 1]&#10;Color: (0, 0, 0)\" style=\"width: 20px; height: 20px;background-color: rgb(0, 0, 0);\"></td><td title=\"Index: [2, 2]&#10;Color: (255, 255, 255)\" style=\"width: 20px; height: 20px;background-color: rgb(255, 255, 255);\"></td><td title=\"Index: [2, 3]&#10;Color: (0, 0, 0)\" style=\"width: 20px; height: 20px;background-color: rgb(0, 0, 0);\"></td><td title=\"Index: [2, 4]&#10;Color: (255, 255, 255)\" style=\"width: 20px; height: 20px;background-color: rgb(255, 255, 255);\"></td><td title=\"Index: [2, 5]&#10;Color: (0, 0, 0)\" style=\"width: 20px; height: 20px;background-color: rgb(0, 0, 0);\"></td><td title=\"Index: [2, 6]&#10;Color: (255, 255, 255)\" style=\"width: 20px; height: 20px;background-color: rgb(255, 255, 255);\"></td><td title=\"Index: [2, 7]&#10;Color: (0, 0, 0)\" style=\"width: 20px; height: 20px;background-color: rgb(0, 0, 0);\"></td></tr><tr><td title=\"Index: [3, 0]&#10;Color: (0, 0, 0)\" style=\"width: 20px; height: 20px;background-color: rgb(0, 0, 0);\"></td><td title=\"Index: [3, 1]&#10;Color: (255, 255, 255)\" style=\"width: 20px; height: 20px;background-color: rgb(255, 255, 255);\"></td><td title=\"Index: [3, 2]&#10;Color: (0, 0, 0)\" style=\"width: 20px; height: 20px;background-color: rgb(0, 0, 0);\"></td><td title=\"Index: [3, 3]&#10;Color: (255, 255, 255)\" style=\"width: 20px; height: 20px;background-color: rgb(255, 255, 255);\"></td><td title=\"Index: [3, 4]&#10;Color: (0, 0, 0)\" style=\"width: 20px; height: 20px;background-color: rgb(0, 0, 0);\"></td><td title=\"Index: [3, 5]&#10;Color: (255, 255, 255)\" style=\"width: 20px; height: 20px;background-color: rgb(255, 255, 255);\"></td><td title=\"Index: [3, 6]&#10;Color: (0, 0, 0)\" style=\"width: 20px; height: 20px;background-color: rgb(0, 0, 0);\"></td><td title=\"Index: [3, 7]&#10;Color: (255, 255, 255)\" style=\"width: 20px; height: 20px;background-color: rgb(255, 255, 255);\"></td></tr><tr><td title=\"Index: [4, 0]&#10;Color: (255, 255, 255)\" style=\"width: 20px; height: 20px;background-color: rgb(255, 255, 255);\"></td><td title=\"Index: [4, 1]&#10;Color: (0, 0, 0)\" style=\"width: 20px; height: 20px;background-color: rgb(0, 0, 0);\"></td><td title=\"Index: [4, 2]&#10;Color: (255, 255, 255)\" style=\"width: 20px; height: 20px;background-color: rgb(255, 255, 255);\"></td><td title=\"Index: [4, 3]&#10;Color: (0, 0, 0)\" style=\"width: 20px; height: 20px;background-color: rgb(0, 0, 0);\"></td><td title=\"Index: [4, 4]&#10;Color: (255, 255, 255)\" style=\"width: 20px; height: 20px;background-color: rgb(255, 255, 255);\"></td><td title=\"Index: [4, 5]&#10;Color: (0, 0, 0)\" style=\"width: 20px; height: 20px;background-color: rgb(0, 0, 0);\"></td><td title=\"Index: [4, 6]&#10;Color: (255, 255, 255)\" style=\"width: 20px; height: 20px;background-color: rgb(255, 255, 255);\"></td><td title=\"Index: [4, 7]&#10;Color: (0, 0, 0)\" style=\"width: 20px; height: 20px;background-color: rgb(0, 0, 0);\"></td></tr><tr><td title=\"Index: [5, 0]&#10;Color: (0, 0, 0)\" style=\"width: 20px; height: 20px;background-color: rgb(0, 0, 0);\"></td><td title=\"Index: [5, 1]&#10;Color: (255, 255, 255)\" style=\"width: 20px; height: 20px;background-color: rgb(255, 255, 255);\"></td><td title=\"Index: [5, 2]&#10;Color: (0, 0, 0)\" style=\"width: 20px; height: 20px;background-color: rgb(0, 0, 0);\"></td><td title=\"Index: [5, 3]&#10;Color: (255, 255, 255)\" style=\"width: 20px; height: 20px;background-color: rgb(255, 255, 255);\"></td><td title=\"Index: [5, 4]&#10;Color: (0, 0, 0)\" style=\"width: 20px; height: 20px;background-color: rgb(0, 0, 0);\"></td><td title=\"Index: [5, 5]&#10;Color: (255, 255, 255)\" style=\"width: 20px; height: 20px;background-color: rgb(255, 255, 255);\"></td><td title=\"Index: [5, 6]&#10;Color: (0, 0, 0)\" style=\"width: 20px; height: 20px;background-color: rgb(0, 0, 0);\"></td><td title=\"Index: [5, 7]&#10;Color: (255, 255, 255)\" style=\"width: 20px; height: 20px;background-color: rgb(255, 255, 255);\"></td></tr><tr><td title=\"Index: [6, 0]&#10;Color: (255, 255, 255)\" style=\"width: 20px; height: 20px;background-color: rgb(255, 255, 255);\"></td><td title=\"Index: [6, 1]&#10;Color: (0, 0, 0)\" style=\"width: 20px; height: 20px;background-color: rgb(0, 0, 0);\"></td><td title=\"Index: [6, 2]&#10;Color: (255, 255, 255)\" style=\"width: 20px; height: 20px;background-color: rgb(255, 255, 255);\"></td><td title=\"Index: [6, 3]&#10;Color: (0, 0, 0)\" style=\"width: 20px; height: 20px;background-color: rgb(0, 0, 0);\"></td><td title=\"Index: [6, 4]&#10;Color: (255, 255, 255)\" style=\"width: 20px; height: 20px;background-color: rgb(255, 255, 255);\"></td><td title=\"Index: [6, 5]&#10;Color: (0, 0, 0)\" style=\"width: 20px; height: 20px;background-color: rgb(0, 0, 0);\"></td><td title=\"Index: [6, 6]&#10;Color: (255, 255, 255)\" style=\"width: 20px; height: 20px;background-color: rgb(255, 255, 255);\"></td><td title=\"Index: [6, 7]&#10;Color: (0, 0, 0)\" style=\"width: 20px; height: 20px;background-color: rgb(0, 0, 0);\"></td></tr><tr><td title=\"Index: [7, 0]&#10;Color: (0, 0, 0)\" style=\"width: 20px; height: 20px;background-color: rgb(0, 0, 0);\"></td><td title=\"Index: [7, 1]&#10;Color: (255, 255, 255)\" style=\"width: 20px; height: 20px;background-color: rgb(255, 255, 255);\"></td><td title=\"Index: [7, 2]&#10;Color: (0, 0, 0)\" style=\"width: 20px; height: 20px;background-color: rgb(0, 0, 0);\"></td><td title=\"Index: [7, 3]&#10;Color: (255, 255, 255)\" style=\"width: 20px; height: 20px;background-color: rgb(255, 255, 255);\"></td><td title=\"Index: [7, 4]&#10;Color: (0, 0, 0)\" style=\"width: 20px; height: 20px;background-color: rgb(0, 0, 0);\"></td><td title=\"Index: [7, 5]&#10;Color: (255, 255, 255)\" style=\"width: 20px; height: 20px;background-color: rgb(255, 255, 255);\"></td><td title=\"Index: [7, 6]&#10;Color: (0, 0, 0)\" style=\"width: 20px; height: 20px;background-color: rgb(0, 0, 0);\"></td><td title=\"Index: [7, 7]&#10;Color: (255, 255, 255)\" style=\"width: 20px; height: 20px;background-color: rgb(255, 255, 255);\"></td></tr></tbody></table>"
      ],
      "text/plain": [
       "<ipythonblocks.ipythonblocks.BlockGrid at 0x1c0f94fbb20>"
      ]
     },
     "execution_count": 108,
     "metadata": {},
     "output_type": "execute_result"
    }
   ],
   "source": [
    "scacchiera"
   ]
  },
  {
   "cell_type": "code",
   "execution_count": 109,
   "metadata": {},
   "outputs": [],
   "source": [
    "scacchiera?"
   ]
  },
  {
   "cell_type": "code",
   "execution_count": 110,
   "metadata": {},
   "outputs": [
    {
     "data": {
      "text/plain": [
       "8"
      ]
     },
     "execution_count": 110,
     "metadata": {},
     "output_type": "execute_result"
    }
   ],
   "source": [
    "scacchiera.shape\n",
    "scacchiera.height\n",
    "scacchiera.width"
   ]
  },
  {
   "cell_type": "code",
   "execution_count": 111,
   "metadata": {},
   "outputs": [],
   "source": [
    "for i in range(scacchiera.height):\n",
    "    scacchiera[i, i].rgb = (0, 255, 255)"
   ]
  },
  {
   "cell_type": "code",
   "execution_count": 112,
   "metadata": {},
   "outputs": [
    {
     "data": {
      "text/html": [
       "<style type=\"text/css\">table.blockgrid {border: none;} .blockgrid tr {border: none;} .blockgrid td {padding: 0px;} #blocks63ae1c12-6337-40ff-8a48-ce3b4af76a51 td {border: 1px solid white;}</style><table id=\"blocks63ae1c12-6337-40ff-8a48-ce3b4af76a51\" class=\"blockgrid\"><tbody><tr><td title=\"Index: [0, 0]&#10;Color: (0, 255, 255)\" style=\"width: 20px; height: 20px;background-color: rgb(0, 255, 255);\"></td><td title=\"Index: [0, 1]&#10;Color: (0, 0, 0)\" style=\"width: 20px; height: 20px;background-color: rgb(0, 0, 0);\"></td><td title=\"Index: [0, 2]&#10;Color: (255, 255, 255)\" style=\"width: 20px; height: 20px;background-color: rgb(255, 255, 255);\"></td><td title=\"Index: [0, 3]&#10;Color: (0, 0, 0)\" style=\"width: 20px; height: 20px;background-color: rgb(0, 0, 0);\"></td><td title=\"Index: [0, 4]&#10;Color: (255, 255, 255)\" style=\"width: 20px; height: 20px;background-color: rgb(255, 255, 255);\"></td><td title=\"Index: [0, 5]&#10;Color: (0, 0, 0)\" style=\"width: 20px; height: 20px;background-color: rgb(0, 0, 0);\"></td><td title=\"Index: [0, 6]&#10;Color: (255, 255, 255)\" style=\"width: 20px; height: 20px;background-color: rgb(255, 255, 255);\"></td><td title=\"Index: [0, 7]&#10;Color: (0, 0, 0)\" style=\"width: 20px; height: 20px;background-color: rgb(0, 0, 0);\"></td></tr><tr><td title=\"Index: [1, 0]&#10;Color: (0, 0, 0)\" style=\"width: 20px; height: 20px;background-color: rgb(0, 0, 0);\"></td><td title=\"Index: [1, 1]&#10;Color: (0, 255, 255)\" style=\"width: 20px; height: 20px;background-color: rgb(0, 255, 255);\"></td><td title=\"Index: [1, 2]&#10;Color: (0, 0, 0)\" style=\"width: 20px; height: 20px;background-color: rgb(0, 0, 0);\"></td><td title=\"Index: [1, 3]&#10;Color: (255, 255, 255)\" style=\"width: 20px; height: 20px;background-color: rgb(255, 255, 255);\"></td><td title=\"Index: [1, 4]&#10;Color: (0, 0, 0)\" style=\"width: 20px; height: 20px;background-color: rgb(0, 0, 0);\"></td><td title=\"Index: [1, 5]&#10;Color: (255, 255, 255)\" style=\"width: 20px; height: 20px;background-color: rgb(255, 255, 255);\"></td><td title=\"Index: [1, 6]&#10;Color: (0, 0, 0)\" style=\"width: 20px; height: 20px;background-color: rgb(0, 0, 0);\"></td><td title=\"Index: [1, 7]&#10;Color: (255, 255, 255)\" style=\"width: 20px; height: 20px;background-color: rgb(255, 255, 255);\"></td></tr><tr><td title=\"Index: [2, 0]&#10;Color: (255, 255, 255)\" style=\"width: 20px; height: 20px;background-color: rgb(255, 255, 255);\"></td><td title=\"Index: [2, 1]&#10;Color: (0, 0, 0)\" style=\"width: 20px; height: 20px;background-color: rgb(0, 0, 0);\"></td><td title=\"Index: [2, 2]&#10;Color: (0, 255, 255)\" style=\"width: 20px; height: 20px;background-color: rgb(0, 255, 255);\"></td><td title=\"Index: [2, 3]&#10;Color: (0, 0, 0)\" style=\"width: 20px; height: 20px;background-color: rgb(0, 0, 0);\"></td><td title=\"Index: [2, 4]&#10;Color: (255, 255, 255)\" style=\"width: 20px; height: 20px;background-color: rgb(255, 255, 255);\"></td><td title=\"Index: [2, 5]&#10;Color: (0, 0, 0)\" style=\"width: 20px; height: 20px;background-color: rgb(0, 0, 0);\"></td><td title=\"Index: [2, 6]&#10;Color: (255, 255, 255)\" style=\"width: 20px; height: 20px;background-color: rgb(255, 255, 255);\"></td><td title=\"Index: [2, 7]&#10;Color: (0, 0, 0)\" style=\"width: 20px; height: 20px;background-color: rgb(0, 0, 0);\"></td></tr><tr><td title=\"Index: [3, 0]&#10;Color: (0, 0, 0)\" style=\"width: 20px; height: 20px;background-color: rgb(0, 0, 0);\"></td><td title=\"Index: [3, 1]&#10;Color: (255, 255, 255)\" style=\"width: 20px; height: 20px;background-color: rgb(255, 255, 255);\"></td><td title=\"Index: [3, 2]&#10;Color: (0, 0, 0)\" style=\"width: 20px; height: 20px;background-color: rgb(0, 0, 0);\"></td><td title=\"Index: [3, 3]&#10;Color: (0, 255, 255)\" style=\"width: 20px; height: 20px;background-color: rgb(0, 255, 255);\"></td><td title=\"Index: [3, 4]&#10;Color: (0, 0, 0)\" style=\"width: 20px; height: 20px;background-color: rgb(0, 0, 0);\"></td><td title=\"Index: [3, 5]&#10;Color: (255, 255, 255)\" style=\"width: 20px; height: 20px;background-color: rgb(255, 255, 255);\"></td><td title=\"Index: [3, 6]&#10;Color: (0, 0, 0)\" style=\"width: 20px; height: 20px;background-color: rgb(0, 0, 0);\"></td><td title=\"Index: [3, 7]&#10;Color: (255, 255, 255)\" style=\"width: 20px; height: 20px;background-color: rgb(255, 255, 255);\"></td></tr><tr><td title=\"Index: [4, 0]&#10;Color: (255, 255, 255)\" style=\"width: 20px; height: 20px;background-color: rgb(255, 255, 255);\"></td><td title=\"Index: [4, 1]&#10;Color: (0, 0, 0)\" style=\"width: 20px; height: 20px;background-color: rgb(0, 0, 0);\"></td><td title=\"Index: [4, 2]&#10;Color: (255, 255, 255)\" style=\"width: 20px; height: 20px;background-color: rgb(255, 255, 255);\"></td><td title=\"Index: [4, 3]&#10;Color: (0, 0, 0)\" style=\"width: 20px; height: 20px;background-color: rgb(0, 0, 0);\"></td><td title=\"Index: [4, 4]&#10;Color: (0, 255, 255)\" style=\"width: 20px; height: 20px;background-color: rgb(0, 255, 255);\"></td><td title=\"Index: [4, 5]&#10;Color: (0, 0, 0)\" style=\"width: 20px; height: 20px;background-color: rgb(0, 0, 0);\"></td><td title=\"Index: [4, 6]&#10;Color: (255, 255, 255)\" style=\"width: 20px; height: 20px;background-color: rgb(255, 255, 255);\"></td><td title=\"Index: [4, 7]&#10;Color: (0, 0, 0)\" style=\"width: 20px; height: 20px;background-color: rgb(0, 0, 0);\"></td></tr><tr><td title=\"Index: [5, 0]&#10;Color: (0, 0, 0)\" style=\"width: 20px; height: 20px;background-color: rgb(0, 0, 0);\"></td><td title=\"Index: [5, 1]&#10;Color: (255, 255, 255)\" style=\"width: 20px; height: 20px;background-color: rgb(255, 255, 255);\"></td><td title=\"Index: [5, 2]&#10;Color: (0, 0, 0)\" style=\"width: 20px; height: 20px;background-color: rgb(0, 0, 0);\"></td><td title=\"Index: [5, 3]&#10;Color: (255, 255, 255)\" style=\"width: 20px; height: 20px;background-color: rgb(255, 255, 255);\"></td><td title=\"Index: [5, 4]&#10;Color: (0, 0, 0)\" style=\"width: 20px; height: 20px;background-color: rgb(0, 0, 0);\"></td><td title=\"Index: [5, 5]&#10;Color: (0, 255, 255)\" style=\"width: 20px; height: 20px;background-color: rgb(0, 255, 255);\"></td><td title=\"Index: [5, 6]&#10;Color: (0, 0, 0)\" style=\"width: 20px; height: 20px;background-color: rgb(0, 0, 0);\"></td><td title=\"Index: [5, 7]&#10;Color: (255, 255, 255)\" style=\"width: 20px; height: 20px;background-color: rgb(255, 255, 255);\"></td></tr><tr><td title=\"Index: [6, 0]&#10;Color: (255, 255, 255)\" style=\"width: 20px; height: 20px;background-color: rgb(255, 255, 255);\"></td><td title=\"Index: [6, 1]&#10;Color: (0, 0, 0)\" style=\"width: 20px; height: 20px;background-color: rgb(0, 0, 0);\"></td><td title=\"Index: [6, 2]&#10;Color: (255, 255, 255)\" style=\"width: 20px; height: 20px;background-color: rgb(255, 255, 255);\"></td><td title=\"Index: [6, 3]&#10;Color: (0, 0, 0)\" style=\"width: 20px; height: 20px;background-color: rgb(0, 0, 0);\"></td><td title=\"Index: [6, 4]&#10;Color: (255, 255, 255)\" style=\"width: 20px; height: 20px;background-color: rgb(255, 255, 255);\"></td><td title=\"Index: [6, 5]&#10;Color: (0, 0, 0)\" style=\"width: 20px; height: 20px;background-color: rgb(0, 0, 0);\"></td><td title=\"Index: [6, 6]&#10;Color: (0, 255, 255)\" style=\"width: 20px; height: 20px;background-color: rgb(0, 255, 255);\"></td><td title=\"Index: [6, 7]&#10;Color: (0, 0, 0)\" style=\"width: 20px; height: 20px;background-color: rgb(0, 0, 0);\"></td></tr><tr><td title=\"Index: [7, 0]&#10;Color: (0, 0, 0)\" style=\"width: 20px; height: 20px;background-color: rgb(0, 0, 0);\"></td><td title=\"Index: [7, 1]&#10;Color: (255, 255, 255)\" style=\"width: 20px; height: 20px;background-color: rgb(255, 255, 255);\"></td><td title=\"Index: [7, 2]&#10;Color: (0, 0, 0)\" style=\"width: 20px; height: 20px;background-color: rgb(0, 0, 0);\"></td><td title=\"Index: [7, 3]&#10;Color: (255, 255, 255)\" style=\"width: 20px; height: 20px;background-color: rgb(255, 255, 255);\"></td><td title=\"Index: [7, 4]&#10;Color: (0, 0, 0)\" style=\"width: 20px; height: 20px;background-color: rgb(0, 0, 0);\"></td><td title=\"Index: [7, 5]&#10;Color: (255, 255, 255)\" style=\"width: 20px; height: 20px;background-color: rgb(255, 255, 255);\"></td><td title=\"Index: [7, 6]&#10;Color: (0, 0, 0)\" style=\"width: 20px; height: 20px;background-color: rgb(0, 0, 0);\"></td><td title=\"Index: [7, 7]&#10;Color: (0, 255, 255)\" style=\"width: 20px; height: 20px;background-color: rgb(0, 255, 255);\"></td></tr></tbody></table>"
      ],
      "text/plain": [
       "<ipythonblocks.ipythonblocks.BlockGrid at 0x1c0f94fbb20>"
      ]
     },
     "execution_count": 112,
     "metadata": {},
     "output_type": "execute_result"
    }
   ],
   "source": [
    "scacchiera"
   ]
  },
  {
   "cell_type": "code",
   "execution_count": 113,
   "metadata": {},
   "outputs": [],
   "source": [
    "scacchiera.save_image('test.jpeg')"
   ]
  },
  {
   "cell_type": "code",
   "execution_count": 114,
   "metadata": {},
   "outputs": [],
   "source": [
    "griglia1 = BlockGrid(10,10)"
   ]
  },
  {
   "cell_type": "code",
   "execution_count": 115,
   "metadata": {},
   "outputs": [
    {
     "data": {
      "text/html": [
       "<style type=\"text/css\">table.blockgrid {border: none;} .blockgrid tr {border: none;} .blockgrid td {padding: 0px;} #blocks8ccc31cd-7c8d-430b-83c8-d580bfbcce9b td {border: 1px solid white;}</style><table id=\"blocks8ccc31cd-7c8d-430b-83c8-d580bfbcce9b\" class=\"blockgrid\"><tbody><tr><td title=\"Index: [0, 0]&#10;Color: (0, 0, 0)\" style=\"width: 20px; height: 20px;background-color: rgb(0, 0, 0);\"></td><td title=\"Index: [0, 1]&#10;Color: (0, 0, 0)\" style=\"width: 20px; height: 20px;background-color: rgb(0, 0, 0);\"></td><td title=\"Index: [0, 2]&#10;Color: (0, 0, 0)\" style=\"width: 20px; height: 20px;background-color: rgb(0, 0, 0);\"></td><td title=\"Index: [0, 3]&#10;Color: (0, 0, 0)\" style=\"width: 20px; height: 20px;background-color: rgb(0, 0, 0);\"></td><td title=\"Index: [0, 4]&#10;Color: (0, 0, 0)\" style=\"width: 20px; height: 20px;background-color: rgb(0, 0, 0);\"></td><td title=\"Index: [0, 5]&#10;Color: (0, 0, 0)\" style=\"width: 20px; height: 20px;background-color: rgb(0, 0, 0);\"></td><td title=\"Index: [0, 6]&#10;Color: (0, 0, 0)\" style=\"width: 20px; height: 20px;background-color: rgb(0, 0, 0);\"></td><td title=\"Index: [0, 7]&#10;Color: (0, 0, 0)\" style=\"width: 20px; height: 20px;background-color: rgb(0, 0, 0);\"></td><td title=\"Index: [0, 8]&#10;Color: (0, 0, 0)\" style=\"width: 20px; height: 20px;background-color: rgb(0, 0, 0);\"></td><td title=\"Index: [0, 9]&#10;Color: (0, 0, 0)\" style=\"width: 20px; height: 20px;background-color: rgb(0, 0, 0);\"></td></tr><tr><td title=\"Index: [1, 0]&#10;Color: (0, 0, 0)\" style=\"width: 20px; height: 20px;background-color: rgb(0, 0, 0);\"></td><td title=\"Index: [1, 1]&#10;Color: (0, 0, 0)\" style=\"width: 20px; height: 20px;background-color: rgb(0, 0, 0);\"></td><td title=\"Index: [1, 2]&#10;Color: (0, 0, 0)\" style=\"width: 20px; height: 20px;background-color: rgb(0, 0, 0);\"></td><td title=\"Index: [1, 3]&#10;Color: (0, 0, 0)\" style=\"width: 20px; height: 20px;background-color: rgb(0, 0, 0);\"></td><td title=\"Index: [1, 4]&#10;Color: (0, 0, 0)\" style=\"width: 20px; height: 20px;background-color: rgb(0, 0, 0);\"></td><td title=\"Index: [1, 5]&#10;Color: (0, 0, 0)\" style=\"width: 20px; height: 20px;background-color: rgb(0, 0, 0);\"></td><td title=\"Index: [1, 6]&#10;Color: (0, 0, 0)\" style=\"width: 20px; height: 20px;background-color: rgb(0, 0, 0);\"></td><td title=\"Index: [1, 7]&#10;Color: (0, 0, 0)\" style=\"width: 20px; height: 20px;background-color: rgb(0, 0, 0);\"></td><td title=\"Index: [1, 8]&#10;Color: (0, 0, 0)\" style=\"width: 20px; height: 20px;background-color: rgb(0, 0, 0);\"></td><td title=\"Index: [1, 9]&#10;Color: (0, 0, 0)\" style=\"width: 20px; height: 20px;background-color: rgb(0, 0, 0);\"></td></tr><tr><td title=\"Index: [2, 0]&#10;Color: (0, 0, 0)\" style=\"width: 20px; height: 20px;background-color: rgb(0, 0, 0);\"></td><td title=\"Index: [2, 1]&#10;Color: (0, 0, 0)\" style=\"width: 20px; height: 20px;background-color: rgb(0, 0, 0);\"></td><td title=\"Index: [2, 2]&#10;Color: (0, 0, 0)\" style=\"width: 20px; height: 20px;background-color: rgb(0, 0, 0);\"></td><td title=\"Index: [2, 3]&#10;Color: (0, 0, 0)\" style=\"width: 20px; height: 20px;background-color: rgb(0, 0, 0);\"></td><td title=\"Index: [2, 4]&#10;Color: (0, 0, 0)\" style=\"width: 20px; height: 20px;background-color: rgb(0, 0, 0);\"></td><td title=\"Index: [2, 5]&#10;Color: (0, 0, 0)\" style=\"width: 20px; height: 20px;background-color: rgb(0, 0, 0);\"></td><td title=\"Index: [2, 6]&#10;Color: (0, 0, 0)\" style=\"width: 20px; height: 20px;background-color: rgb(0, 0, 0);\"></td><td title=\"Index: [2, 7]&#10;Color: (0, 0, 0)\" style=\"width: 20px; height: 20px;background-color: rgb(0, 0, 0);\"></td><td title=\"Index: [2, 8]&#10;Color: (0, 0, 0)\" style=\"width: 20px; height: 20px;background-color: rgb(0, 0, 0);\"></td><td title=\"Index: [2, 9]&#10;Color: (0, 0, 0)\" style=\"width: 20px; height: 20px;background-color: rgb(0, 0, 0);\"></td></tr><tr><td title=\"Index: [3, 0]&#10;Color: (0, 0, 0)\" style=\"width: 20px; height: 20px;background-color: rgb(0, 0, 0);\"></td><td title=\"Index: [3, 1]&#10;Color: (0, 0, 0)\" style=\"width: 20px; height: 20px;background-color: rgb(0, 0, 0);\"></td><td title=\"Index: [3, 2]&#10;Color: (0, 0, 0)\" style=\"width: 20px; height: 20px;background-color: rgb(0, 0, 0);\"></td><td title=\"Index: [3, 3]&#10;Color: (0, 0, 0)\" style=\"width: 20px; height: 20px;background-color: rgb(0, 0, 0);\"></td><td title=\"Index: [3, 4]&#10;Color: (0, 0, 0)\" style=\"width: 20px; height: 20px;background-color: rgb(0, 0, 0);\"></td><td title=\"Index: [3, 5]&#10;Color: (0, 0, 0)\" style=\"width: 20px; height: 20px;background-color: rgb(0, 0, 0);\"></td><td title=\"Index: [3, 6]&#10;Color: (0, 0, 0)\" style=\"width: 20px; height: 20px;background-color: rgb(0, 0, 0);\"></td><td title=\"Index: [3, 7]&#10;Color: (0, 0, 0)\" style=\"width: 20px; height: 20px;background-color: rgb(0, 0, 0);\"></td><td title=\"Index: [3, 8]&#10;Color: (0, 0, 0)\" style=\"width: 20px; height: 20px;background-color: rgb(0, 0, 0);\"></td><td title=\"Index: [3, 9]&#10;Color: (0, 0, 0)\" style=\"width: 20px; height: 20px;background-color: rgb(0, 0, 0);\"></td></tr><tr><td title=\"Index: [4, 0]&#10;Color: (0, 0, 0)\" style=\"width: 20px; height: 20px;background-color: rgb(0, 0, 0);\"></td><td title=\"Index: [4, 1]&#10;Color: (0, 0, 0)\" style=\"width: 20px; height: 20px;background-color: rgb(0, 0, 0);\"></td><td title=\"Index: [4, 2]&#10;Color: (0, 0, 0)\" style=\"width: 20px; height: 20px;background-color: rgb(0, 0, 0);\"></td><td title=\"Index: [4, 3]&#10;Color: (0, 0, 0)\" style=\"width: 20px; height: 20px;background-color: rgb(0, 0, 0);\"></td><td title=\"Index: [4, 4]&#10;Color: (0, 0, 0)\" style=\"width: 20px; height: 20px;background-color: rgb(0, 0, 0);\"></td><td title=\"Index: [4, 5]&#10;Color: (0, 0, 0)\" style=\"width: 20px; height: 20px;background-color: rgb(0, 0, 0);\"></td><td title=\"Index: [4, 6]&#10;Color: (0, 0, 0)\" style=\"width: 20px; height: 20px;background-color: rgb(0, 0, 0);\"></td><td title=\"Index: [4, 7]&#10;Color: (0, 0, 0)\" style=\"width: 20px; height: 20px;background-color: rgb(0, 0, 0);\"></td><td title=\"Index: [4, 8]&#10;Color: (0, 0, 0)\" style=\"width: 20px; height: 20px;background-color: rgb(0, 0, 0);\"></td><td title=\"Index: [4, 9]&#10;Color: (0, 0, 0)\" style=\"width: 20px; height: 20px;background-color: rgb(0, 0, 0);\"></td></tr><tr><td title=\"Index: [5, 0]&#10;Color: (0, 0, 0)\" style=\"width: 20px; height: 20px;background-color: rgb(0, 0, 0);\"></td><td title=\"Index: [5, 1]&#10;Color: (0, 0, 0)\" style=\"width: 20px; height: 20px;background-color: rgb(0, 0, 0);\"></td><td title=\"Index: [5, 2]&#10;Color: (0, 0, 0)\" style=\"width: 20px; height: 20px;background-color: rgb(0, 0, 0);\"></td><td title=\"Index: [5, 3]&#10;Color: (0, 0, 0)\" style=\"width: 20px; height: 20px;background-color: rgb(0, 0, 0);\"></td><td title=\"Index: [5, 4]&#10;Color: (0, 0, 0)\" style=\"width: 20px; height: 20px;background-color: rgb(0, 0, 0);\"></td><td title=\"Index: [5, 5]&#10;Color: (0, 0, 0)\" style=\"width: 20px; height: 20px;background-color: rgb(0, 0, 0);\"></td><td title=\"Index: [5, 6]&#10;Color: (0, 0, 0)\" style=\"width: 20px; height: 20px;background-color: rgb(0, 0, 0);\"></td><td title=\"Index: [5, 7]&#10;Color: (0, 0, 0)\" style=\"width: 20px; height: 20px;background-color: rgb(0, 0, 0);\"></td><td title=\"Index: [5, 8]&#10;Color: (0, 0, 0)\" style=\"width: 20px; height: 20px;background-color: rgb(0, 0, 0);\"></td><td title=\"Index: [5, 9]&#10;Color: (0, 0, 0)\" style=\"width: 20px; height: 20px;background-color: rgb(0, 0, 0);\"></td></tr><tr><td title=\"Index: [6, 0]&#10;Color: (0, 0, 0)\" style=\"width: 20px; height: 20px;background-color: rgb(0, 0, 0);\"></td><td title=\"Index: [6, 1]&#10;Color: (0, 0, 0)\" style=\"width: 20px; height: 20px;background-color: rgb(0, 0, 0);\"></td><td title=\"Index: [6, 2]&#10;Color: (0, 0, 0)\" style=\"width: 20px; height: 20px;background-color: rgb(0, 0, 0);\"></td><td title=\"Index: [6, 3]&#10;Color: (0, 0, 0)\" style=\"width: 20px; height: 20px;background-color: rgb(0, 0, 0);\"></td><td title=\"Index: [6, 4]&#10;Color: (0, 0, 0)\" style=\"width: 20px; height: 20px;background-color: rgb(0, 0, 0);\"></td><td title=\"Index: [6, 5]&#10;Color: (0, 0, 0)\" style=\"width: 20px; height: 20px;background-color: rgb(0, 0, 0);\"></td><td title=\"Index: [6, 6]&#10;Color: (0, 0, 0)\" style=\"width: 20px; height: 20px;background-color: rgb(0, 0, 0);\"></td><td title=\"Index: [6, 7]&#10;Color: (0, 0, 0)\" style=\"width: 20px; height: 20px;background-color: rgb(0, 0, 0);\"></td><td title=\"Index: [6, 8]&#10;Color: (0, 0, 0)\" style=\"width: 20px; height: 20px;background-color: rgb(0, 0, 0);\"></td><td title=\"Index: [6, 9]&#10;Color: (0, 0, 0)\" style=\"width: 20px; height: 20px;background-color: rgb(0, 0, 0);\"></td></tr><tr><td title=\"Index: [7, 0]&#10;Color: (0, 0, 0)\" style=\"width: 20px; height: 20px;background-color: rgb(0, 0, 0);\"></td><td title=\"Index: [7, 1]&#10;Color: (0, 0, 0)\" style=\"width: 20px; height: 20px;background-color: rgb(0, 0, 0);\"></td><td title=\"Index: [7, 2]&#10;Color: (0, 0, 0)\" style=\"width: 20px; height: 20px;background-color: rgb(0, 0, 0);\"></td><td title=\"Index: [7, 3]&#10;Color: (0, 0, 0)\" style=\"width: 20px; height: 20px;background-color: rgb(0, 0, 0);\"></td><td title=\"Index: [7, 4]&#10;Color: (0, 0, 0)\" style=\"width: 20px; height: 20px;background-color: rgb(0, 0, 0);\"></td><td title=\"Index: [7, 5]&#10;Color: (0, 0, 0)\" style=\"width: 20px; height: 20px;background-color: rgb(0, 0, 0);\"></td><td title=\"Index: [7, 6]&#10;Color: (0, 0, 0)\" style=\"width: 20px; height: 20px;background-color: rgb(0, 0, 0);\"></td><td title=\"Index: [7, 7]&#10;Color: (0, 0, 0)\" style=\"width: 20px; height: 20px;background-color: rgb(0, 0, 0);\"></td><td title=\"Index: [7, 8]&#10;Color: (0, 0, 0)\" style=\"width: 20px; height: 20px;background-color: rgb(0, 0, 0);\"></td><td title=\"Index: [7, 9]&#10;Color: (0, 0, 0)\" style=\"width: 20px; height: 20px;background-color: rgb(0, 0, 0);\"></td></tr><tr><td title=\"Index: [8, 0]&#10;Color: (0, 0, 0)\" style=\"width: 20px; height: 20px;background-color: rgb(0, 0, 0);\"></td><td title=\"Index: [8, 1]&#10;Color: (0, 0, 0)\" style=\"width: 20px; height: 20px;background-color: rgb(0, 0, 0);\"></td><td title=\"Index: [8, 2]&#10;Color: (0, 0, 0)\" style=\"width: 20px; height: 20px;background-color: rgb(0, 0, 0);\"></td><td title=\"Index: [8, 3]&#10;Color: (0, 0, 0)\" style=\"width: 20px; height: 20px;background-color: rgb(0, 0, 0);\"></td><td title=\"Index: [8, 4]&#10;Color: (0, 0, 0)\" style=\"width: 20px; height: 20px;background-color: rgb(0, 0, 0);\"></td><td title=\"Index: [8, 5]&#10;Color: (0, 0, 0)\" style=\"width: 20px; height: 20px;background-color: rgb(0, 0, 0);\"></td><td title=\"Index: [8, 6]&#10;Color: (0, 0, 0)\" style=\"width: 20px; height: 20px;background-color: rgb(0, 0, 0);\"></td><td title=\"Index: [8, 7]&#10;Color: (0, 0, 0)\" style=\"width: 20px; height: 20px;background-color: rgb(0, 0, 0);\"></td><td title=\"Index: [8, 8]&#10;Color: (0, 0, 0)\" style=\"width: 20px; height: 20px;background-color: rgb(0, 0, 0);\"></td><td title=\"Index: [8, 9]&#10;Color: (0, 0, 0)\" style=\"width: 20px; height: 20px;background-color: rgb(0, 0, 0);\"></td></tr><tr><td title=\"Index: [9, 0]&#10;Color: (0, 0, 0)\" style=\"width: 20px; height: 20px;background-color: rgb(0, 0, 0);\"></td><td title=\"Index: [9, 1]&#10;Color: (0, 0, 0)\" style=\"width: 20px; height: 20px;background-color: rgb(0, 0, 0);\"></td><td title=\"Index: [9, 2]&#10;Color: (0, 0, 0)\" style=\"width: 20px; height: 20px;background-color: rgb(0, 0, 0);\"></td><td title=\"Index: [9, 3]&#10;Color: (0, 0, 0)\" style=\"width: 20px; height: 20px;background-color: rgb(0, 0, 0);\"></td><td title=\"Index: [9, 4]&#10;Color: (0, 0, 0)\" style=\"width: 20px; height: 20px;background-color: rgb(0, 0, 0);\"></td><td title=\"Index: [9, 5]&#10;Color: (0, 0, 0)\" style=\"width: 20px; height: 20px;background-color: rgb(0, 0, 0);\"></td><td title=\"Index: [9, 6]&#10;Color: (0, 0, 0)\" style=\"width: 20px; height: 20px;background-color: rgb(0, 0, 0);\"></td><td title=\"Index: [9, 7]&#10;Color: (0, 0, 0)\" style=\"width: 20px; height: 20px;background-color: rgb(0, 0, 0);\"></td><td title=\"Index: [9, 8]&#10;Color: (0, 0, 0)\" style=\"width: 20px; height: 20px;background-color: rgb(0, 0, 0);\"></td><td title=\"Index: [9, 9]&#10;Color: (0, 0, 0)\" style=\"width: 20px; height: 20px;background-color: rgb(0, 0, 0);\"></td></tr></tbody></table>"
      ],
      "text/plain": [
       "<ipythonblocks.ipythonblocks.BlockGrid at 0x1c0f94d2a30>"
      ]
     },
     "execution_count": 115,
     "metadata": {},
     "output_type": "execute_result"
    }
   ],
   "source": [
    "griglia1"
   ]
  },
  {
   "cell_type": "code",
   "execution_count": 116,
   "metadata": {},
   "outputs": [
    {
     "data": {
      "text/html": [
       "<style type=\"text/css\">table.blockgrid {border: none;} .blockgrid tr {border: none;} .blockgrid td {padding: 0px;} #blocksf9f528ed-edd3-41f9-bf89-eb4d31a49e83 td {border: 1px solid white;}</style><table id=\"blocksf9f528ed-edd3-41f9-bf89-eb4d31a49e83\" class=\"blockgrid\"><tbody><tr><td title=\"Index: [0, 0]&#10;Color: (127, 255, 212)\" style=\"width: 20px; height: 20px;background-color: rgb(127, 255, 212);\"></td><td title=\"Index: [0, 1]&#10;Color: (34, 139, 34)\" style=\"width: 20px; height: 20px;background-color: rgb(34, 139, 34);\"></td><td title=\"Index: [0, 2]&#10;Color: (34, 139, 34)\" style=\"width: 20px; height: 20px;background-color: rgb(34, 139, 34);\"></td><td title=\"Index: [0, 3]&#10;Color: (34, 139, 34)\" style=\"width: 20px; height: 20px;background-color: rgb(34, 139, 34);\"></td><td title=\"Index: [0, 4]&#10;Color: (34, 139, 34)\" style=\"width: 20px; height: 20px;background-color: rgb(34, 139, 34);\"></td><td title=\"Index: [0, 5]&#10;Color: (34, 139, 34)\" style=\"width: 20px; height: 20px;background-color: rgb(34, 139, 34);\"></td><td title=\"Index: [0, 6]&#10;Color: (34, 139, 34)\" style=\"width: 20px; height: 20px;background-color: rgb(34, 139, 34);\"></td><td title=\"Index: [0, 7]&#10;Color: (34, 139, 34)\" style=\"width: 20px; height: 20px;background-color: rgb(34, 139, 34);\"></td><td title=\"Index: [0, 8]&#10;Color: (34, 139, 34)\" style=\"width: 20px; height: 20px;background-color: rgb(34, 139, 34);\"></td><td title=\"Index: [0, 9]&#10;Color: (34, 139, 34)\" style=\"width: 20px; height: 20px;background-color: rgb(34, 139, 34);\"></td></tr><tr><td title=\"Index: [1, 0]&#10;Color: (34, 139, 34)\" style=\"width: 20px; height: 20px;background-color: rgb(34, 139, 34);\"></td><td title=\"Index: [1, 1]&#10;Color: (127, 255, 212)\" style=\"width: 20px; height: 20px;background-color: rgb(127, 255, 212);\"></td><td title=\"Index: [1, 2]&#10;Color: (34, 139, 34)\" style=\"width: 20px; height: 20px;background-color: rgb(34, 139, 34);\"></td><td title=\"Index: [1, 3]&#10;Color: (34, 139, 34)\" style=\"width: 20px; height: 20px;background-color: rgb(34, 139, 34);\"></td><td title=\"Index: [1, 4]&#10;Color: (34, 139, 34)\" style=\"width: 20px; height: 20px;background-color: rgb(34, 139, 34);\"></td><td title=\"Index: [1, 5]&#10;Color: (34, 139, 34)\" style=\"width: 20px; height: 20px;background-color: rgb(34, 139, 34);\"></td><td title=\"Index: [1, 6]&#10;Color: (34, 139, 34)\" style=\"width: 20px; height: 20px;background-color: rgb(34, 139, 34);\"></td><td title=\"Index: [1, 7]&#10;Color: (34, 139, 34)\" style=\"width: 20px; height: 20px;background-color: rgb(34, 139, 34);\"></td><td title=\"Index: [1, 8]&#10;Color: (34, 139, 34)\" style=\"width: 20px; height: 20px;background-color: rgb(34, 139, 34);\"></td><td title=\"Index: [1, 9]&#10;Color: (34, 139, 34)\" style=\"width: 20px; height: 20px;background-color: rgb(34, 139, 34);\"></td></tr><tr><td title=\"Index: [2, 0]&#10;Color: (34, 139, 34)\" style=\"width: 20px; height: 20px;background-color: rgb(34, 139, 34);\"></td><td title=\"Index: [2, 1]&#10;Color: (34, 139, 34)\" style=\"width: 20px; height: 20px;background-color: rgb(34, 139, 34);\"></td><td title=\"Index: [2, 2]&#10;Color: (127, 255, 212)\" style=\"width: 20px; height: 20px;background-color: rgb(127, 255, 212);\"></td><td title=\"Index: [2, 3]&#10;Color: (34, 139, 34)\" style=\"width: 20px; height: 20px;background-color: rgb(34, 139, 34);\"></td><td title=\"Index: [2, 4]&#10;Color: (34, 139, 34)\" style=\"width: 20px; height: 20px;background-color: rgb(34, 139, 34);\"></td><td title=\"Index: [2, 5]&#10;Color: (34, 139, 34)\" style=\"width: 20px; height: 20px;background-color: rgb(34, 139, 34);\"></td><td title=\"Index: [2, 6]&#10;Color: (34, 139, 34)\" style=\"width: 20px; height: 20px;background-color: rgb(34, 139, 34);\"></td><td title=\"Index: [2, 7]&#10;Color: (34, 139, 34)\" style=\"width: 20px; height: 20px;background-color: rgb(34, 139, 34);\"></td><td title=\"Index: [2, 8]&#10;Color: (34, 139, 34)\" style=\"width: 20px; height: 20px;background-color: rgb(34, 139, 34);\"></td><td title=\"Index: [2, 9]&#10;Color: (34, 139, 34)\" style=\"width: 20px; height: 20px;background-color: rgb(34, 139, 34);\"></td></tr><tr><td title=\"Index: [3, 0]&#10;Color: (34, 139, 34)\" style=\"width: 20px; height: 20px;background-color: rgb(34, 139, 34);\"></td><td title=\"Index: [3, 1]&#10;Color: (34, 139, 34)\" style=\"width: 20px; height: 20px;background-color: rgb(34, 139, 34);\"></td><td title=\"Index: [3, 2]&#10;Color: (34, 139, 34)\" style=\"width: 20px; height: 20px;background-color: rgb(34, 139, 34);\"></td><td title=\"Index: [3, 3]&#10;Color: (127, 255, 212)\" style=\"width: 20px; height: 20px;background-color: rgb(127, 255, 212);\"></td><td title=\"Index: [3, 4]&#10;Color: (34, 139, 34)\" style=\"width: 20px; height: 20px;background-color: rgb(34, 139, 34);\"></td><td title=\"Index: [3, 5]&#10;Color: (34, 139, 34)\" style=\"width: 20px; height: 20px;background-color: rgb(34, 139, 34);\"></td><td title=\"Index: [3, 6]&#10;Color: (34, 139, 34)\" style=\"width: 20px; height: 20px;background-color: rgb(34, 139, 34);\"></td><td title=\"Index: [3, 7]&#10;Color: (34, 139, 34)\" style=\"width: 20px; height: 20px;background-color: rgb(34, 139, 34);\"></td><td title=\"Index: [3, 8]&#10;Color: (34, 139, 34)\" style=\"width: 20px; height: 20px;background-color: rgb(34, 139, 34);\"></td><td title=\"Index: [3, 9]&#10;Color: (34, 139, 34)\" style=\"width: 20px; height: 20px;background-color: rgb(34, 139, 34);\"></td></tr><tr><td title=\"Index: [4, 0]&#10;Color: (34, 139, 34)\" style=\"width: 20px; height: 20px;background-color: rgb(34, 139, 34);\"></td><td title=\"Index: [4, 1]&#10;Color: (34, 139, 34)\" style=\"width: 20px; height: 20px;background-color: rgb(34, 139, 34);\"></td><td title=\"Index: [4, 2]&#10;Color: (34, 139, 34)\" style=\"width: 20px; height: 20px;background-color: rgb(34, 139, 34);\"></td><td title=\"Index: [4, 3]&#10;Color: (34, 139, 34)\" style=\"width: 20px; height: 20px;background-color: rgb(34, 139, 34);\"></td><td title=\"Index: [4, 4]&#10;Color: (127, 255, 212)\" style=\"width: 20px; height: 20px;background-color: rgb(127, 255, 212);\"></td><td title=\"Index: [4, 5]&#10;Color: (34, 139, 34)\" style=\"width: 20px; height: 20px;background-color: rgb(34, 139, 34);\"></td><td title=\"Index: [4, 6]&#10;Color: (34, 139, 34)\" style=\"width: 20px; height: 20px;background-color: rgb(34, 139, 34);\"></td><td title=\"Index: [4, 7]&#10;Color: (34, 139, 34)\" style=\"width: 20px; height: 20px;background-color: rgb(34, 139, 34);\"></td><td title=\"Index: [4, 8]&#10;Color: (34, 139, 34)\" style=\"width: 20px; height: 20px;background-color: rgb(34, 139, 34);\"></td><td title=\"Index: [4, 9]&#10;Color: (34, 139, 34)\" style=\"width: 20px; height: 20px;background-color: rgb(34, 139, 34);\"></td></tr><tr><td title=\"Index: [5, 0]&#10;Color: (34, 139, 34)\" style=\"width: 20px; height: 20px;background-color: rgb(34, 139, 34);\"></td><td title=\"Index: [5, 1]&#10;Color: (34, 139, 34)\" style=\"width: 20px; height: 20px;background-color: rgb(34, 139, 34);\"></td><td title=\"Index: [5, 2]&#10;Color: (34, 139, 34)\" style=\"width: 20px; height: 20px;background-color: rgb(34, 139, 34);\"></td><td title=\"Index: [5, 3]&#10;Color: (34, 139, 34)\" style=\"width: 20px; height: 20px;background-color: rgb(34, 139, 34);\"></td><td title=\"Index: [5, 4]&#10;Color: (34, 139, 34)\" style=\"width: 20px; height: 20px;background-color: rgb(34, 139, 34);\"></td><td title=\"Index: [5, 5]&#10;Color: (127, 255, 212)\" style=\"width: 20px; height: 20px;background-color: rgb(127, 255, 212);\"></td><td title=\"Index: [5, 6]&#10;Color: (34, 139, 34)\" style=\"width: 20px; height: 20px;background-color: rgb(34, 139, 34);\"></td><td title=\"Index: [5, 7]&#10;Color: (34, 139, 34)\" style=\"width: 20px; height: 20px;background-color: rgb(34, 139, 34);\"></td><td title=\"Index: [5, 8]&#10;Color: (34, 139, 34)\" style=\"width: 20px; height: 20px;background-color: rgb(34, 139, 34);\"></td><td title=\"Index: [5, 9]&#10;Color: (34, 139, 34)\" style=\"width: 20px; height: 20px;background-color: rgb(34, 139, 34);\"></td></tr><tr><td title=\"Index: [6, 0]&#10;Color: (34, 139, 34)\" style=\"width: 20px; height: 20px;background-color: rgb(34, 139, 34);\"></td><td title=\"Index: [6, 1]&#10;Color: (34, 139, 34)\" style=\"width: 20px; height: 20px;background-color: rgb(34, 139, 34);\"></td><td title=\"Index: [6, 2]&#10;Color: (34, 139, 34)\" style=\"width: 20px; height: 20px;background-color: rgb(34, 139, 34);\"></td><td title=\"Index: [6, 3]&#10;Color: (34, 139, 34)\" style=\"width: 20px; height: 20px;background-color: rgb(34, 139, 34);\"></td><td title=\"Index: [6, 4]&#10;Color: (34, 139, 34)\" style=\"width: 20px; height: 20px;background-color: rgb(34, 139, 34);\"></td><td title=\"Index: [6, 5]&#10;Color: (34, 139, 34)\" style=\"width: 20px; height: 20px;background-color: rgb(34, 139, 34);\"></td><td title=\"Index: [6, 6]&#10;Color: (127, 255, 212)\" style=\"width: 20px; height: 20px;background-color: rgb(127, 255, 212);\"></td><td title=\"Index: [6, 7]&#10;Color: (34, 139, 34)\" style=\"width: 20px; height: 20px;background-color: rgb(34, 139, 34);\"></td><td title=\"Index: [6, 8]&#10;Color: (34, 139, 34)\" style=\"width: 20px; height: 20px;background-color: rgb(34, 139, 34);\"></td><td title=\"Index: [6, 9]&#10;Color: (34, 139, 34)\" style=\"width: 20px; height: 20px;background-color: rgb(34, 139, 34);\"></td></tr><tr><td title=\"Index: [7, 0]&#10;Color: (34, 139, 34)\" style=\"width: 20px; height: 20px;background-color: rgb(34, 139, 34);\"></td><td title=\"Index: [7, 1]&#10;Color: (34, 139, 34)\" style=\"width: 20px; height: 20px;background-color: rgb(34, 139, 34);\"></td><td title=\"Index: [7, 2]&#10;Color: (34, 139, 34)\" style=\"width: 20px; height: 20px;background-color: rgb(34, 139, 34);\"></td><td title=\"Index: [7, 3]&#10;Color: (34, 139, 34)\" style=\"width: 20px; height: 20px;background-color: rgb(34, 139, 34);\"></td><td title=\"Index: [7, 4]&#10;Color: (34, 139, 34)\" style=\"width: 20px; height: 20px;background-color: rgb(34, 139, 34);\"></td><td title=\"Index: [7, 5]&#10;Color: (34, 139, 34)\" style=\"width: 20px; height: 20px;background-color: rgb(34, 139, 34);\"></td><td title=\"Index: [7, 6]&#10;Color: (34, 139, 34)\" style=\"width: 20px; height: 20px;background-color: rgb(34, 139, 34);\"></td><td title=\"Index: [7, 7]&#10;Color: (127, 255, 212)\" style=\"width: 20px; height: 20px;background-color: rgb(127, 255, 212);\"></td><td title=\"Index: [7, 8]&#10;Color: (34, 139, 34)\" style=\"width: 20px; height: 20px;background-color: rgb(34, 139, 34);\"></td><td title=\"Index: [7, 9]&#10;Color: (34, 139, 34)\" style=\"width: 20px; height: 20px;background-color: rgb(34, 139, 34);\"></td></tr><tr><td title=\"Index: [8, 0]&#10;Color: (34, 139, 34)\" style=\"width: 20px; height: 20px;background-color: rgb(34, 139, 34);\"></td><td title=\"Index: [8, 1]&#10;Color: (34, 139, 34)\" style=\"width: 20px; height: 20px;background-color: rgb(34, 139, 34);\"></td><td title=\"Index: [8, 2]&#10;Color: (34, 139, 34)\" style=\"width: 20px; height: 20px;background-color: rgb(34, 139, 34);\"></td><td title=\"Index: [8, 3]&#10;Color: (34, 139, 34)\" style=\"width: 20px; height: 20px;background-color: rgb(34, 139, 34);\"></td><td title=\"Index: [8, 4]&#10;Color: (34, 139, 34)\" style=\"width: 20px; height: 20px;background-color: rgb(34, 139, 34);\"></td><td title=\"Index: [8, 5]&#10;Color: (34, 139, 34)\" style=\"width: 20px; height: 20px;background-color: rgb(34, 139, 34);\"></td><td title=\"Index: [8, 6]&#10;Color: (34, 139, 34)\" style=\"width: 20px; height: 20px;background-color: rgb(34, 139, 34);\"></td><td title=\"Index: [8, 7]&#10;Color: (34, 139, 34)\" style=\"width: 20px; height: 20px;background-color: rgb(34, 139, 34);\"></td><td title=\"Index: [8, 8]&#10;Color: (127, 255, 212)\" style=\"width: 20px; height: 20px;background-color: rgb(127, 255, 212);\"></td><td title=\"Index: [8, 9]&#10;Color: (34, 139, 34)\" style=\"width: 20px; height: 20px;background-color: rgb(34, 139, 34);\"></td></tr><tr><td title=\"Index: [9, 0]&#10;Color: (34, 139, 34)\" style=\"width: 20px; height: 20px;background-color: rgb(34, 139, 34);\"></td><td title=\"Index: [9, 1]&#10;Color: (34, 139, 34)\" style=\"width: 20px; height: 20px;background-color: rgb(34, 139, 34);\"></td><td title=\"Index: [9, 2]&#10;Color: (34, 139, 34)\" style=\"width: 20px; height: 20px;background-color: rgb(34, 139, 34);\"></td><td title=\"Index: [9, 3]&#10;Color: (34, 139, 34)\" style=\"width: 20px; height: 20px;background-color: rgb(34, 139, 34);\"></td><td title=\"Index: [9, 4]&#10;Color: (34, 139, 34)\" style=\"width: 20px; height: 20px;background-color: rgb(34, 139, 34);\"></td><td title=\"Index: [9, 5]&#10;Color: (34, 139, 34)\" style=\"width: 20px; height: 20px;background-color: rgb(34, 139, 34);\"></td><td title=\"Index: [9, 6]&#10;Color: (34, 139, 34)\" style=\"width: 20px; height: 20px;background-color: rgb(34, 139, 34);\"></td><td title=\"Index: [9, 7]&#10;Color: (34, 139, 34)\" style=\"width: 20px; height: 20px;background-color: rgb(34, 139, 34);\"></td><td title=\"Index: [9, 8]&#10;Color: (34, 139, 34)\" style=\"width: 20px; height: 20px;background-color: rgb(34, 139, 34);\"></td><td title=\"Index: [9, 9]&#10;Color: (127, 255, 212)\" style=\"width: 20px; height: 20px;background-color: rgb(127, 255, 212);\"></td></tr></tbody></table>"
      ],
      "text/plain": [
       "<IPython.core.display.HTML object>"
      ]
     },
     "metadata": {},
     "output_type": "display_data"
    }
   ],
   "source": [
    "from ipythonblocks import colors\n",
    "\n",
    "for blocco in griglia1.animate():\n",
    "    if blocco.col == blocco.row:\n",
    "        blocco.rgb = colors.Aquamarine\n",
    "    else:\n",
    "        blocco.rgb = colors.ForestGreen"
   ]
  },
  {
   "cell_type": "code",
   "execution_count": 117,
   "metadata": {},
   "outputs": [
    {
     "data": {
      "text/plain": [
       "Color(red=127, green=255, blue=212)"
      ]
     },
     "execution_count": 117,
     "metadata": {},
     "output_type": "execute_result"
    }
   ],
   "source": [
    "colors.Aquamarine"
   ]
  },
  {
   "cell_type": "code",
   "execution_count": 118,
   "metadata": {},
   "outputs": [
    {
     "data": {
      "text/plain": [
       "{'AliceBlue': Color(red=240, green=248, blue=255),\n",
       " 'AntiqueWhite': Color(red=250, green=235, blue=215),\n",
       " 'Aqua': Color(red=0, green=255, blue=255),\n",
       " 'Aquamarine': Color(red=127, green=255, blue=212),\n",
       " 'Azure': Color(red=240, green=255, blue=255),\n",
       " 'Beige': Color(red=245, green=245, blue=220),\n",
       " 'Bisque': Color(red=255, green=228, blue=196),\n",
       " 'Black': Color(red=0, green=0, blue=0),\n",
       " 'BlanchedAlmond': Color(red=255, green=235, blue=205),\n",
       " 'Blue': Color(red=0, green=0, blue=255),\n",
       " 'BlueViolet': Color(red=138, green=43, blue=226),\n",
       " 'Brown': Color(red=165, green=42, blue=42),\n",
       " 'BurlyWood': Color(red=222, green=184, blue=135),\n",
       " 'CadetBlue': Color(red=95, green=158, blue=160),\n",
       " 'Chartreuse': Color(red=127, green=255, blue=0),\n",
       " 'Chocolate': Color(red=210, green=105, blue=30),\n",
       " 'Coral': Color(red=255, green=127, blue=80),\n",
       " 'CornflowerBlue': Color(red=100, green=149, blue=237),\n",
       " 'Cornsilk': Color(red=255, green=248, blue=220),\n",
       " 'Crimson': Color(red=220, green=20, blue=60),\n",
       " 'Cyan': Color(red=0, green=255, blue=255),\n",
       " 'DarkBlue': Color(red=0, green=0, blue=139),\n",
       " 'DarkCyan': Color(red=0, green=139, blue=139),\n",
       " 'DarkGoldenrod': Color(red=184, green=134, blue=11),\n",
       " 'DarkGray': Color(red=169, green=169, blue=169),\n",
       " 'DarkGreen': Color(red=0, green=100, blue=0),\n",
       " 'DarkKhaki': Color(red=189, green=183, blue=107),\n",
       " 'DarkMagenta': Color(red=139, green=0, blue=139),\n",
       " 'DarkOliveGreen': Color(red=85, green=107, blue=47),\n",
       " 'DarkOrange': Color(red=255, green=140, blue=0),\n",
       " 'DarkOrchid': Color(red=153, green=50, blue=204),\n",
       " 'DarkRed': Color(red=139, green=0, blue=0),\n",
       " 'DarkSalmon': Color(red=233, green=150, blue=122),\n",
       " 'DarkSeaGreen': Color(red=143, green=188, blue=143),\n",
       " 'DarkSlateBlue': Color(red=72, green=61, blue=139),\n",
       " 'DarkSlateGray': Color(red=47, green=79, blue=79),\n",
       " 'DarkTurquoise': Color(red=0, green=206, blue=209),\n",
       " 'DarkViolet': Color(red=148, green=0, blue=211),\n",
       " 'DeepPink': Color(red=255, green=20, blue=147),\n",
       " 'DeepSkyBlue': Color(red=0, green=191, blue=255),\n",
       " 'DimGray': Color(red=105, green=105, blue=105),\n",
       " 'DodgerBlue': Color(red=30, green=144, blue=255),\n",
       " 'FireBrick': Color(red=178, green=34, blue=34),\n",
       " 'FloralWhite': Color(red=255, green=250, blue=240),\n",
       " 'ForestGreen': Color(red=34, green=139, blue=34),\n",
       " 'Fuchsia': Color(red=255, green=0, blue=255),\n",
       " 'Gainsboro': Color(red=220, green=220, blue=220),\n",
       " 'GhostWhite': Color(red=248, green=248, blue=255),\n",
       " 'Gold': Color(red=255, green=215, blue=0),\n",
       " 'Goldenrod': Color(red=218, green=165, blue=32),\n",
       " 'Gray': Color(red=128, green=128, blue=128),\n",
       " 'Green': Color(red=0, green=128, blue=0),\n",
       " 'GreenYellow': Color(red=173, green=255, blue=47),\n",
       " 'Honeydew': Color(red=240, green=255, blue=240),\n",
       " 'HotPink': Color(red=255, green=105, blue=180),\n",
       " 'IndianRed': Color(red=205, green=92, blue=92),\n",
       " 'Indigo': Color(red=75, green=0, blue=130),\n",
       " 'Ivory': Color(red=255, green=255, blue=240),\n",
       " 'Khaki': Color(red=240, green=230, blue=140),\n",
       " 'Lavender': Color(red=230, green=230, blue=250),\n",
       " 'LavenderBlush': Color(red=255, green=240, blue=245),\n",
       " 'LawnGreen': Color(red=124, green=252, blue=0),\n",
       " 'LemonChiffon': Color(red=255, green=250, blue=205),\n",
       " 'LightBlue': Color(red=173, green=216, blue=230),\n",
       " 'LightCoral': Color(red=240, green=128, blue=128),\n",
       " 'LightCyan': Color(red=224, green=255, blue=255),\n",
       " 'LightGoldenrodYellow': Color(red=250, green=250, blue=210),\n",
       " 'LightGray': Color(red=211, green=211, blue=211),\n",
       " 'LightGreen': Color(red=144, green=238, blue=144),\n",
       " 'LightPink': Color(red=255, green=182, blue=193),\n",
       " 'LightSalmon': Color(red=255, green=160, blue=122),\n",
       " 'LightSeaGreen': Color(red=32, green=178, blue=170),\n",
       " 'LightSkyBlue': Color(red=135, green=206, blue=250),\n",
       " 'LightSlateGray': Color(red=119, green=136, blue=153),\n",
       " 'LightSteelBlue': Color(red=176, green=196, blue=222),\n",
       " 'LightYellow': Color(red=255, green=255, blue=224),\n",
       " 'Lime': Color(red=0, green=255, blue=0),\n",
       " 'LimeGreen': Color(red=50, green=205, blue=50),\n",
       " 'Linen': Color(red=250, green=240, blue=230),\n",
       " 'Magenta': Color(red=255, green=0, blue=255),\n",
       " 'Maroon': Color(red=128, green=0, blue=0),\n",
       " 'MediumAquamarine': Color(red=102, green=205, blue=170),\n",
       " 'MediumBlue': Color(red=0, green=0, blue=205),\n",
       " 'MediumOrchid': Color(red=186, green=85, blue=211),\n",
       " 'MediumPurple': Color(red=147, green=112, blue=219),\n",
       " 'MediumSeaGreen': Color(red=60, green=179, blue=113),\n",
       " 'MediumSlateBlue': Color(red=123, green=104, blue=238),\n",
       " 'MediumSpringGreen': Color(red=0, green=250, blue=154),\n",
       " 'MediumTurquoise': Color(red=72, green=209, blue=204),\n",
       " 'MediumVioletRed': Color(red=199, green=21, blue=133),\n",
       " 'MidnightBlue': Color(red=25, green=25, blue=112),\n",
       " 'MintCream': Color(red=245, green=255, blue=250),\n",
       " 'MistyRose': Color(red=255, green=228, blue=225),\n",
       " 'Moccasin': Color(red=255, green=228, blue=181),\n",
       " 'NavajoWhite': Color(red=255, green=222, blue=173),\n",
       " 'Navy': Color(red=0, green=0, blue=128),\n",
       " 'OldLace': Color(red=253, green=245, blue=230),\n",
       " 'Olive': Color(red=128, green=128, blue=0),\n",
       " 'OliveDrab': Color(red=107, green=142, blue=35),\n",
       " 'Orange': Color(red=255, green=165, blue=0),\n",
       " 'OrangeRed': Color(red=255, green=69, blue=0),\n",
       " 'Orchid': Color(red=218, green=112, blue=214),\n",
       " 'PaleGoldenrod': Color(red=238, green=232, blue=170),\n",
       " 'PaleGreen': Color(red=152, green=251, blue=152),\n",
       " 'PaleTurquoise': Color(red=175, green=238, blue=238),\n",
       " 'PaleVioletRed': Color(red=219, green=112, blue=147),\n",
       " 'PapayaWhip': Color(red=255, green=239, blue=213),\n",
       " 'PeachPuff': Color(red=255, green=218, blue=185),\n",
       " 'Peru': Color(red=205, green=133, blue=63),\n",
       " 'Pink': Color(red=255, green=192, blue=203),\n",
       " 'Plum': Color(red=221, green=160, blue=221),\n",
       " 'PowderBlue': Color(red=176, green=224, blue=230),\n",
       " 'Purple': Color(red=128, green=0, blue=128),\n",
       " 'Red': Color(red=255, green=0, blue=0),\n",
       " 'RosyBrown': Color(red=188, green=143, blue=143),\n",
       " 'RoyalBlue': Color(red=65, green=105, blue=225),\n",
       " 'SaddleBrown': Color(red=139, green=69, blue=19),\n",
       " 'Salmon': Color(red=250, green=128, blue=114),\n",
       " 'SandyBrown': Color(red=244, green=164, blue=96),\n",
       " 'SeaGreen': Color(red=46, green=139, blue=87),\n",
       " 'Seashell': Color(red=255, green=245, blue=238),\n",
       " 'Sienna': Color(red=160, green=82, blue=45),\n",
       " 'Silver': Color(red=192, green=192, blue=192),\n",
       " 'SkyBlue': Color(red=135, green=206, blue=235),\n",
       " 'SlateBlue': Color(red=106, green=90, blue=205),\n",
       " 'SlateGray': Color(red=112, green=128, blue=144),\n",
       " 'Snow': Color(red=255, green=250, blue=250),\n",
       " 'SpringGreen': Color(red=0, green=255, blue=127),\n",
       " 'SteelBlue': Color(red=70, green=130, blue=180),\n",
       " 'Tan': Color(red=210, green=180, blue=140),\n",
       " 'Teal': Color(red=0, green=128, blue=128),\n",
       " 'Thistle': Color(red=216, green=191, blue=216),\n",
       " 'Tomato': Color(red=255, green=99, blue=71),\n",
       " 'Turquoise': Color(red=64, green=224, blue=208),\n",
       " 'Violet': Color(red=238, green=130, blue=238),\n",
       " 'Wheat': Color(red=245, green=222, blue=179),\n",
       " 'White': Color(red=255, green=255, blue=255),\n",
       " 'WhiteSmoke': Color(red=245, green=245, blue=245),\n",
       " 'Yellow': Color(red=255, green=255, blue=0),\n",
       " 'YellowGreen': Color(red=154, green=205, blue=50)}"
      ]
     },
     "execution_count": 118,
     "metadata": {},
     "output_type": "execute_result"
    }
   ],
   "source": [
    "colors"
   ]
  },
  {
   "cell_type": "code",
   "execution_count": null,
   "metadata": {},
   "outputs": [],
   "source": []
  },
  {
   "cell_type": "code",
   "execution_count": 119,
   "metadata": {},
   "outputs": [],
   "source": [
    "from ipythonblocks import BlockGrid, colors, show_color, show_color_triple"
   ]
  },
  {
   "cell_type": "code",
   "execution_count": 120,
   "metadata": {},
   "outputs": [],
   "source": [
    "import ipythonblocks"
   ]
  },
  {
   "cell_type": "code",
   "execution_count": 121,
   "metadata": {},
   "outputs": [
    {
     "name": "stdout",
     "output_type": "stream",
     "text": [
      "AliceBlue\n",
      "AntiqueWhite\n",
      "Aqua\n",
      "Aquamarine\n",
      "Azure\n",
      "Beige\n",
      "Bisque\n",
      "Black\n",
      "BlanchedAlmond\n",
      "Blue\n",
      "BlueViolet\n",
      "Brown\n",
      "BurlyWood\n",
      "CadetBlue\n",
      "Chartreuse\n",
      "Chocolate\n",
      "Coral\n",
      "CornflowerBlue\n",
      "Cornsilk\n",
      "Crimson\n",
      "Cyan\n",
      "DarkBlue\n",
      "DarkCyan\n",
      "DarkGoldenrod\n",
      "DarkGray\n",
      "DarkGreen\n",
      "DarkKhaki\n",
      "DarkMagenta\n",
      "DarkOliveGreen\n",
      "DarkOrange\n",
      "DarkOrchid\n",
      "DarkRed\n",
      "DarkSalmon\n",
      "DarkSeaGreen\n",
      "DarkSlateBlue\n",
      "DarkSlateGray\n",
      "DarkTurquoise\n",
      "DarkViolet\n",
      "DeepPink\n",
      "DeepSkyBlue\n",
      "DimGray\n",
      "DodgerBlue\n",
      "FireBrick\n",
      "FloralWhite\n",
      "ForestGreen\n",
      "Fuchsia\n",
      "Gainsboro\n",
      "GhostWhite\n",
      "Gold\n",
      "Goldenrod\n",
      "Gray\n",
      "Green\n",
      "GreenYellow\n",
      "Honeydew\n",
      "HotPink\n",
      "IndianRed\n",
      "Indigo\n",
      "Ivory\n",
      "Khaki\n",
      "Lavender\n",
      "LavenderBlush\n",
      "LawnGreen\n",
      "LemonChiffon\n",
      "LightBlue\n",
      "LightCoral\n",
      "LightCyan\n",
      "LightGoldenrodYellow\n",
      "LightGray\n",
      "LightGreen\n",
      "LightPink\n",
      "LightSalmon\n",
      "LightSeaGreen\n",
      "LightSkyBlue\n",
      "LightSlateGray\n",
      "LightSteelBlue\n",
      "LightYellow\n",
      "Lime\n",
      "LimeGreen\n",
      "Linen\n",
      "Magenta\n",
      "Maroon\n",
      "MediumAquamarine\n",
      "MediumBlue\n",
      "MediumOrchid\n",
      "MediumPurple\n",
      "MediumSeaGreen\n",
      "MediumSlateBlue\n",
      "MediumSpringGreen\n",
      "MediumTurquoise\n",
      "MediumVioletRed\n",
      "MidnightBlue\n",
      "MintCream\n",
      "MistyRose\n",
      "Moccasin\n",
      "NavajoWhite\n",
      "Navy\n",
      "OldLace\n",
      "Olive\n",
      "OliveDrab\n",
      "Orange\n",
      "OrangeRed\n",
      "Orchid\n",
      "PaleGoldenrod\n",
      "PaleGreen\n",
      "PaleTurquoise\n",
      "PaleVioletRed\n",
      "PapayaWhip\n",
      "PeachPuff\n",
      "Peru\n",
      "Pink\n",
      "Plum\n",
      "PowderBlue\n",
      "Purple\n",
      "Red\n",
      "RosyBrown\n",
      "RoyalBlue\n",
      "SaddleBrown\n",
      "Salmon\n",
      "SandyBrown\n",
      "SeaGreen\n",
      "Seashell\n",
      "Sienna\n",
      "Silver\n",
      "SkyBlue\n",
      "SlateBlue\n",
      "SlateGray\n",
      "Snow\n",
      "SpringGreen\n",
      "SteelBlue\n",
      "Tan\n",
      "Teal\n",
      "Thistle\n",
      "Tomato\n",
      "Turquoise\n",
      "Violet\n",
      "Wheat\n",
      "White\n",
      "WhiteSmoke\n",
      "Yellow\n",
      "YellowGreen\n"
     ]
    }
   ],
   "source": [
    "for color in colors:\n",
    "    print(color)"
   ]
  },
  {
   "cell_type": "code",
   "execution_count": 122,
   "metadata": {},
   "outputs": [
    {
     "data": {
      "text/html": [
       "<div style=\"height: 60px; min-width: 200px; background-color: rgb(12, 123, 234)\"></div>"
      ],
      "text/plain": [
       "<IPython.core.display.HTML object>"
      ]
     },
     "metadata": {},
     "output_type": "display_data"
    }
   ],
   "source": [
    "show_color(12, 123, 234)"
   ]
  },
  {
   "cell_type": "code",
   "execution_count": 123,
   "metadata": {},
   "outputs": [],
   "source": [
    "grid = BlockGrid(5, 4, fill=colors.RosyBrown)"
   ]
  },
  {
   "cell_type": "code",
   "execution_count": 124,
   "metadata": {},
   "outputs": [
    {
     "data": {
      "text/html": [
       "<style type=\"text/css\">table.blockgrid {border: none;} .blockgrid tr {border: none;} .blockgrid td {padding: 0px;} #blocks943257c0-c502-4334-b7a6-2a1db0dc7f64 td {border: 1px solid white;}</style><table id=\"blocks943257c0-c502-4334-b7a6-2a1db0dc7f64\" class=\"blockgrid\"><tbody><tr><td title=\"Index: [0, 0]&#10;Color: (188, 143, 143)\" style=\"width: 20px; height: 20px;background-color: rgb(188, 143, 143);\"></td><td title=\"Index: [0, 1]&#10;Color: (188, 143, 143)\" style=\"width: 20px; height: 20px;background-color: rgb(188, 143, 143);\"></td><td title=\"Index: [0, 2]&#10;Color: (188, 143, 143)\" style=\"width: 20px; height: 20px;background-color: rgb(188, 143, 143);\"></td><td title=\"Index: [0, 3]&#10;Color: (188, 143, 143)\" style=\"width: 20px; height: 20px;background-color: rgb(188, 143, 143);\"></td><td title=\"Index: [0, 4]&#10;Color: (188, 143, 143)\" style=\"width: 20px; height: 20px;background-color: rgb(188, 143, 143);\"></td></tr><tr><td title=\"Index: [1, 0]&#10;Color: (188, 143, 143)\" style=\"width: 20px; height: 20px;background-color: rgb(188, 143, 143);\"></td><td title=\"Index: [1, 1]&#10;Color: (188, 143, 143)\" style=\"width: 20px; height: 20px;background-color: rgb(188, 143, 143);\"></td><td title=\"Index: [1, 2]&#10;Color: (188, 143, 143)\" style=\"width: 20px; height: 20px;background-color: rgb(188, 143, 143);\"></td><td title=\"Index: [1, 3]&#10;Color: (188, 143, 143)\" style=\"width: 20px; height: 20px;background-color: rgb(188, 143, 143);\"></td><td title=\"Index: [1, 4]&#10;Color: (188, 143, 143)\" style=\"width: 20px; height: 20px;background-color: rgb(188, 143, 143);\"></td></tr><tr><td title=\"Index: [2, 0]&#10;Color: (188, 143, 143)\" style=\"width: 20px; height: 20px;background-color: rgb(188, 143, 143);\"></td><td title=\"Index: [2, 1]&#10;Color: (188, 143, 143)\" style=\"width: 20px; height: 20px;background-color: rgb(188, 143, 143);\"></td><td title=\"Index: [2, 2]&#10;Color: (188, 143, 143)\" style=\"width: 20px; height: 20px;background-color: rgb(188, 143, 143);\"></td><td title=\"Index: [2, 3]&#10;Color: (188, 143, 143)\" style=\"width: 20px; height: 20px;background-color: rgb(188, 143, 143);\"></td><td title=\"Index: [2, 4]&#10;Color: (188, 143, 143)\" style=\"width: 20px; height: 20px;background-color: rgb(188, 143, 143);\"></td></tr><tr><td title=\"Index: [3, 0]&#10;Color: (188, 143, 143)\" style=\"width: 20px; height: 20px;background-color: rgb(188, 143, 143);\"></td><td title=\"Index: [3, 1]&#10;Color: (188, 143, 143)\" style=\"width: 20px; height: 20px;background-color: rgb(188, 143, 143);\"></td><td title=\"Index: [3, 2]&#10;Color: (188, 143, 143)\" style=\"width: 20px; height: 20px;background-color: rgb(188, 143, 143);\"></td><td title=\"Index: [3, 3]&#10;Color: (188, 143, 143)\" style=\"width: 20px; height: 20px;background-color: rgb(188, 143, 143);\"></td><td title=\"Index: [3, 4]&#10;Color: (188, 143, 143)\" style=\"width: 20px; height: 20px;background-color: rgb(188, 143, 143);\"></td></tr></tbody></table>"
      ],
      "text/plain": [
       "<IPython.core.display.HTML object>"
      ]
     },
     "metadata": {},
     "output_type": "display_data"
    }
   ],
   "source": [
    "grid.show()"
   ]
  },
  {
   "cell_type": "code",
   "execution_count": 125,
   "metadata": {},
   "outputs": [
    {
     "data": {
      "text/html": [
       "<style type=\"text/css\">table.blockgrid {border: none;} .blockgrid tr {border: none;} .blockgrid td {padding: 0px;} #blocks4b85dd1d-e39e-4bf3-bf69-7bd21c439cf9 td {border: 1px solid white;}</style><table id=\"blocks4b85dd1d-e39e-4bf3-bf69-7bd21c439cf9\" class=\"blockgrid\"><tbody><tr><td title=\"Index: [0, 0]&#10;Color: (188, 143, 143)\" style=\"width: 20px; height: 20px;background-color: rgb(188, 143, 143);\"></td><td title=\"Index: [0, 1]&#10;Color: (188, 143, 143)\" style=\"width: 20px; height: 20px;background-color: rgb(188, 143, 143);\"></td><td title=\"Index: [0, 2]&#10;Color: (188, 143, 143)\" style=\"width: 20px; height: 20px;background-color: rgb(188, 143, 143);\"></td><td title=\"Index: [0, 3]&#10;Color: (188, 143, 143)\" style=\"width: 20px; height: 20px;background-color: rgb(188, 143, 143);\"></td><td title=\"Index: [0, 4]&#10;Color: (188, 143, 143)\" style=\"width: 20px; height: 20px;background-color: rgb(188, 143, 143);\"></td></tr><tr><td title=\"Index: [1, 0]&#10;Color: (188, 143, 143)\" style=\"width: 20px; height: 20px;background-color: rgb(188, 143, 143);\"></td><td title=\"Index: [1, 1]&#10;Color: (188, 143, 143)\" style=\"width: 20px; height: 20px;background-color: rgb(188, 143, 143);\"></td><td title=\"Index: [1, 2]&#10;Color: (188, 143, 143)\" style=\"width: 20px; height: 20px;background-color: rgb(188, 143, 143);\"></td><td title=\"Index: [1, 3]&#10;Color: (188, 143, 143)\" style=\"width: 20px; height: 20px;background-color: rgb(188, 143, 143);\"></td><td title=\"Index: [1, 4]&#10;Color: (188, 143, 143)\" style=\"width: 20px; height: 20px;background-color: rgb(188, 143, 143);\"></td></tr><tr><td title=\"Index: [2, 0]&#10;Color: (188, 143, 143)\" style=\"width: 20px; height: 20px;background-color: rgb(188, 143, 143);\"></td><td title=\"Index: [2, 1]&#10;Color: (188, 143, 143)\" style=\"width: 20px; height: 20px;background-color: rgb(188, 143, 143);\"></td><td title=\"Index: [2, 2]&#10;Color: (188, 143, 143)\" style=\"width: 20px; height: 20px;background-color: rgb(188, 143, 143);\"></td><td title=\"Index: [2, 3]&#10;Color: (188, 143, 143)\" style=\"width: 20px; height: 20px;background-color: rgb(188, 143, 143);\"></td><td title=\"Index: [2, 4]&#10;Color: (188, 143, 143)\" style=\"width: 20px; height: 20px;background-color: rgb(188, 143, 143);\"></td></tr><tr><td title=\"Index: [3, 0]&#10;Color: (188, 143, 143)\" style=\"width: 20px; height: 20px;background-color: rgb(188, 143, 143);\"></td><td title=\"Index: [3, 1]&#10;Color: (188, 143, 143)\" style=\"width: 20px; height: 20px;background-color: rgb(188, 143, 143);\"></td><td title=\"Index: [3, 2]&#10;Color: (188, 143, 143)\" style=\"width: 20px; height: 20px;background-color: rgb(188, 143, 143);\"></td><td title=\"Index: [3, 3]&#10;Color: (188, 143, 143)\" style=\"width: 20px; height: 20px;background-color: rgb(188, 143, 143);\"></td><td title=\"Index: [3, 4]&#10;Color: (188, 143, 143)\" style=\"width: 20px; height: 20px;background-color: rgb(188, 143, 143);\"></td></tr></tbody></table>"
      ],
      "text/plain": [
       "<ipythonblocks.ipythonblocks.BlockGrid at 0x1c0f77705e0>"
      ]
     },
     "execution_count": 125,
     "metadata": {},
     "output_type": "execute_result"
    }
   ],
   "source": [
    "grid"
   ]
  },
  {
   "cell_type": "code",
   "execution_count": 126,
   "metadata": {},
   "outputs": [],
   "source": [
    "block = grid[0,1]"
   ]
  },
  {
   "cell_type": "code",
   "execution_count": 127,
   "metadata": {},
   "outputs": [
    {
     "data": {
      "text/html": [
       "<style type=\"text/css\">table.blockgrid {border: none;} .blockgrid tr {border: none;} .blockgrid td {padding: 0px;} #blocks2278ee81-2ab0-42fa-b0ea-c429654deb69 td {border: 0px solid white;}</style><table id=\"blocks2278ee81-2ab0-42fa-b0ea-c429654deb69\" class=\"blockgrid\"><tbody><tr><td title=\"Index: [0, 1]&#10;Color: (188, 143, 143)\" style=\"width: 20px; height: 20px;background-color: rgb(188, 143, 143);\"></td></tr></tbody></table>"
      ],
      "text/plain": [
       "Block(188, 143, 143, size=20)"
      ]
     },
     "execution_count": 127,
     "metadata": {},
     "output_type": "execute_result"
    }
   ],
   "source": [
    "block"
   ]
  },
  {
   "cell_type": "code",
   "execution_count": 128,
   "metadata": {},
   "outputs": [],
   "source": [
    "block.rgb = colors.BlueViolet"
   ]
  },
  {
   "cell_type": "code",
   "execution_count": 129,
   "metadata": {},
   "outputs": [
    {
     "data": {
      "text/html": [
       "<style type=\"text/css\">table.blockgrid {border: none;} .blockgrid tr {border: none;} .blockgrid td {padding: 0px;} #blocks39cd21a8-058c-4139-ab56-d1d78922fd34 td {border: 0px solid white;}</style><table id=\"blocks39cd21a8-058c-4139-ab56-d1d78922fd34\" class=\"blockgrid\"><tbody><tr><td title=\"Index: [0, 1]&#10;Color: (138, 43, 226)\" style=\"width: 20px; height: 20px;background-color: rgb(138, 43, 226);\"></td></tr></tbody></table>"
      ],
      "text/plain": [
       "Block(138, 43, 226, size=20)"
      ]
     },
     "execution_count": 129,
     "metadata": {},
     "output_type": "execute_result"
    }
   ],
   "source": [
    "block"
   ]
  },
  {
   "cell_type": "code",
   "execution_count": 130,
   "metadata": {},
   "outputs": [
    {
     "data": {
      "text/html": [
       "<style type=\"text/css\">table.blockgrid {border: none;} .blockgrid tr {border: none;} .blockgrid td {padding: 0px;} #blocksf463248a-08a2-4e7a-a88d-710ddde04761 td {border: 1px solid white;}</style><table id=\"blocksf463248a-08a2-4e7a-a88d-710ddde04761\" class=\"blockgrid\"><tbody><tr><td title=\"Index: [0, 0]&#10;Color: (255, 105, 180)\" style=\"width: 20px; height: 20px;background-color: rgb(255, 105, 180);\"></td><td title=\"Index: [0, 1]&#10;Color: (255, 105, 180)\" style=\"width: 20px; height: 20px;background-color: rgb(255, 105, 180);\"></td><td title=\"Index: [0, 2]&#10;Color: (255, 105, 180)\" style=\"width: 20px; height: 20px;background-color: rgb(255, 105, 180);\"></td><td title=\"Index: [0, 3]&#10;Color: (255, 105, 180)\" style=\"width: 20px; height: 20px;background-color: rgb(255, 105, 180);\"></td><td title=\"Index: [0, 4]&#10;Color: (255, 105, 180)\" style=\"width: 20px; height: 20px;background-color: rgb(255, 105, 180);\"></td></tr><tr><td title=\"Index: [1, 0]&#10;Color: (255, 105, 180)\" style=\"width: 20px; height: 20px;background-color: rgb(255, 105, 180);\"></td><td title=\"Index: [1, 1]&#10;Color: (255, 105, 180)\" style=\"width: 20px; height: 20px;background-color: rgb(255, 105, 180);\"></td><td title=\"Index: [1, 2]&#10;Color: (255, 105, 180)\" style=\"width: 20px; height: 20px;background-color: rgb(255, 105, 180);\"></td><td title=\"Index: [1, 3]&#10;Color: (255, 105, 180)\" style=\"width: 20px; height: 20px;background-color: rgb(255, 105, 180);\"></td><td title=\"Index: [1, 4]&#10;Color: (255, 105, 180)\" style=\"width: 20px; height: 20px;background-color: rgb(255, 105, 180);\"></td></tr><tr><td title=\"Index: [2, 0]&#10;Color: (255, 105, 180)\" style=\"width: 20px; height: 20px;background-color: rgb(255, 105, 180);\"></td><td title=\"Index: [2, 1]&#10;Color: (255, 105, 180)\" style=\"width: 20px; height: 20px;background-color: rgb(255, 105, 180);\"></td><td title=\"Index: [2, 2]&#10;Color: (255, 105, 180)\" style=\"width: 20px; height: 20px;background-color: rgb(255, 105, 180);\"></td><td title=\"Index: [2, 3]&#10;Color: (255, 105, 180)\" style=\"width: 20px; height: 20px;background-color: rgb(255, 105, 180);\"></td><td title=\"Index: [2, 4]&#10;Color: (255, 105, 180)\" style=\"width: 20px; height: 20px;background-color: rgb(255, 105, 180);\"></td></tr><tr><td title=\"Index: [3, 0]&#10;Color: (255, 105, 180)\" style=\"width: 20px; height: 20px;background-color: rgb(255, 105, 180);\"></td><td title=\"Index: [3, 1]&#10;Color: (255, 105, 180)\" style=\"width: 20px; height: 20px;background-color: rgb(255, 105, 180);\"></td><td title=\"Index: [3, 2]&#10;Color: (255, 105, 180)\" style=\"width: 20px; height: 20px;background-color: rgb(255, 105, 180);\"></td><td title=\"Index: [3, 3]&#10;Color: (255, 105, 180)\" style=\"width: 20px; height: 20px;background-color: rgb(255, 105, 180);\"></td><td title=\"Index: [3, 4]&#10;Color: (255, 105, 180)\" style=\"width: 20px; height: 20px;background-color: rgb(255, 105, 180);\"></td></tr></tbody></table>"
      ],
      "text/plain": [
       "<IPython.core.display.HTML object>"
      ]
     },
     "metadata": {},
     "output_type": "display_data"
    }
   ],
   "source": [
    "for block in grid.animate():\n",
    "    block.rgb = colors.HotPink"
   ]
  },
  {
   "cell_type": "code",
   "execution_count": 131,
   "metadata": {},
   "outputs": [
    {
     "data": {
      "text/html": [
       "<style type=\"text/css\">table.blockgrid {border: none;} .blockgrid tr {border: none;} .blockgrid td {padding: 0px;} #blocks9af537a2-2e11-4040-87bc-d64c986edf8a td {border: 1px solid white;}</style><table id=\"blocks9af537a2-2e11-4040-87bc-d64c986edf8a\" class=\"blockgrid\"><tbody><tr><td title=\"Index: [0, 0]&#10;Color: (255, 105, 180)\" style=\"width: 20px; height: 20px;background-color: rgb(255, 105, 180);\"></td><td title=\"Index: [0, 1]&#10;Color: (255, 105, 180)\" style=\"width: 20px; height: 20px;background-color: rgb(255, 105, 180);\"></td><td title=\"Index: [0, 2]&#10;Color: (255, 105, 180)\" style=\"width: 20px; height: 20px;background-color: rgb(255, 105, 180);\"></td><td title=\"Index: [0, 3]&#10;Color: (255, 105, 180)\" style=\"width: 20px; height: 20px;background-color: rgb(255, 105, 180);\"></td><td title=\"Index: [0, 4]&#10;Color: (255, 105, 180)\" style=\"width: 20px; height: 20px;background-color: rgb(255, 105, 180);\"></td></tr><tr><td title=\"Index: [1, 0]&#10;Color: (255, 105, 180)\" style=\"width: 20px; height: 20px;background-color: rgb(255, 105, 180);\"></td><td title=\"Index: [1, 1]&#10;Color: (255, 105, 180)\" style=\"width: 20px; height: 20px;background-color: rgb(255, 105, 180);\"></td><td title=\"Index: [1, 2]&#10;Color: (255, 105, 180)\" style=\"width: 20px; height: 20px;background-color: rgb(255, 105, 180);\"></td><td title=\"Index: [1, 3]&#10;Color: (255, 105, 180)\" style=\"width: 20px; height: 20px;background-color: rgb(255, 105, 180);\"></td><td title=\"Index: [1, 4]&#10;Color: (255, 105, 180)\" style=\"width: 20px; height: 20px;background-color: rgb(255, 105, 180);\"></td></tr><tr><td title=\"Index: [2, 0]&#10;Color: (255, 105, 180)\" style=\"width: 20px; height: 20px;background-color: rgb(255, 105, 180);\"></td><td title=\"Index: [2, 1]&#10;Color: (255, 105, 180)\" style=\"width: 20px; height: 20px;background-color: rgb(255, 105, 180);\"></td><td title=\"Index: [2, 2]&#10;Color: (255, 105, 180)\" style=\"width: 20px; height: 20px;background-color: rgb(255, 105, 180);\"></td><td title=\"Index: [2, 3]&#10;Color: (255, 105, 180)\" style=\"width: 20px; height: 20px;background-color: rgb(255, 105, 180);\"></td><td title=\"Index: [2, 4]&#10;Color: (255, 105, 180)\" style=\"width: 20px; height: 20px;background-color: rgb(255, 105, 180);\"></td></tr><tr><td title=\"Index: [3, 0]&#10;Color: (255, 105, 180)\" style=\"width: 20px; height: 20px;background-color: rgb(255, 105, 180);\"></td><td title=\"Index: [3, 1]&#10;Color: (255, 105, 180)\" style=\"width: 20px; height: 20px;background-color: rgb(255, 105, 180);\"></td><td title=\"Index: [3, 2]&#10;Color: (255, 105, 180)\" style=\"width: 20px; height: 20px;background-color: rgb(255, 105, 180);\"></td><td title=\"Index: [3, 3]&#10;Color: (255, 105, 180)\" style=\"width: 20px; height: 20px;background-color: rgb(255, 105, 180);\"></td><td title=\"Index: [3, 4]&#10;Color: (255, 105, 180)\" style=\"width: 20px; height: 20px;background-color: rgb(255, 105, 180);\"></td></tr></tbody></table>"
      ],
      "text/plain": [
       "<ipythonblocks.ipythonblocks.BlockGrid at 0x1c0f77705e0>"
      ]
     },
     "execution_count": 131,
     "metadata": {},
     "output_type": "execute_result"
    }
   ],
   "source": [
    "grid"
   ]
  },
  {
   "cell_type": "code",
   "execution_count": 132,
   "metadata": {},
   "outputs": [
    {
     "data": {
      "text/plain": [
       "(5, 4)"
      ]
     },
     "execution_count": 132,
     "metadata": {},
     "output_type": "execute_result"
    }
   ],
   "source": [
    "grid.shape"
   ]
  },
  {
   "cell_type": "code",
   "execution_count": 133,
   "metadata": {},
   "outputs": [],
   "source": [
    "x = 10\n",
    "\n",
    "testo = f'il valore di x è {x}'"
   ]
  },
  {
   "cell_type": "code",
   "execution_count": 134,
   "metadata": {},
   "outputs": [
    {
     "data": {
      "text/plain": [
       "'il valore di x è 10'"
      ]
     },
     "execution_count": 134,
     "metadata": {},
     "output_type": "execute_result"
    }
   ],
   "source": [
    "testo"
   ]
  },
  {
   "cell_type": "code",
   "execution_count": 135,
   "metadata": {},
   "outputs": [],
   "source": [
    "stringa = f'La mia griglia ha {grid.shape[1]} righe e {grid.shape[0]} colonne'"
   ]
  },
  {
   "cell_type": "code",
   "execution_count": 136,
   "metadata": {},
   "outputs": [
    {
     "data": {
      "text/plain": [
       "'La mia griglia ha 4 righe e 5 colonne'"
      ]
     },
     "execution_count": 136,
     "metadata": {},
     "output_type": "execute_result"
    }
   ],
   "source": [
    "stringa"
   ]
  },
  {
   "cell_type": "code",
   "execution_count": 137,
   "metadata": {},
   "outputs": [
    {
     "data": {
      "text/html": [
       "<style type=\"text/css\">table.blockgrid {border: none;} .blockgrid tr {border: none;} .blockgrid td {padding: 0px;} #blocks2fd27a76-a47b-4bd1-9525-a09bf2f6595d td {border: 1px solid white;}</style><table id=\"blocks2fd27a76-a47b-4bd1-9525-a09bf2f6595d\" class=\"blockgrid\"><tbody><tr><td title=\"Index: [0, 0]&#10;Color: (255, 105, 180)\" style=\"width: 20px; height: 20px;background-color: rgb(255, 105, 180);\"></td><td title=\"Index: [0, 1]&#10;Color: (255, 105, 180)\" style=\"width: 20px; height: 20px;background-color: rgb(255, 105, 180);\"></td><td title=\"Index: [0, 2]&#10;Color: (255, 105, 180)\" style=\"width: 20px; height: 20px;background-color: rgb(255, 105, 180);\"></td><td title=\"Index: [0, 3]&#10;Color: (255, 105, 180)\" style=\"width: 20px; height: 20px;background-color: rgb(255, 105, 180);\"></td><td title=\"Index: [0, 4]&#10;Color: (255, 235, 205)\" style=\"width: 20px; height: 20px;background-color: rgb(255, 235, 205);\"></td></tr><tr><td title=\"Index: [1, 0]&#10;Color: (255, 105, 180)\" style=\"width: 20px; height: 20px;background-color: rgb(255, 105, 180);\"></td><td title=\"Index: [1, 1]&#10;Color: (255, 105, 180)\" style=\"width: 20px; height: 20px;background-color: rgb(255, 105, 180);\"></td><td title=\"Index: [1, 2]&#10;Color: (255, 105, 180)\" style=\"width: 20px; height: 20px;background-color: rgb(255, 105, 180);\"></td><td title=\"Index: [1, 3]&#10;Color: (255, 105, 180)\" style=\"width: 20px; height: 20px;background-color: rgb(255, 105, 180);\"></td><td title=\"Index: [1, 4]&#10;Color: (255, 105, 180)\" style=\"width: 20px; height: 20px;background-color: rgb(255, 105, 180);\"></td></tr><tr><td title=\"Index: [2, 0]&#10;Color: (255, 105, 180)\" style=\"width: 20px; height: 20px;background-color: rgb(255, 105, 180);\"></td><td title=\"Index: [2, 1]&#10;Color: (255, 105, 180)\" style=\"width: 20px; height: 20px;background-color: rgb(255, 105, 180);\"></td><td title=\"Index: [2, 2]&#10;Color: (255, 105, 180)\" style=\"width: 20px; height: 20px;background-color: rgb(255, 105, 180);\"></td><td title=\"Index: [2, 3]&#10;Color: (255, 105, 180)\" style=\"width: 20px; height: 20px;background-color: rgb(255, 105, 180);\"></td><td title=\"Index: [2, 4]&#10;Color: (255, 105, 180)\" style=\"width: 20px; height: 20px;background-color: rgb(255, 105, 180);\"></td></tr><tr><td title=\"Index: [3, 0]&#10;Color: (255, 105, 180)\" style=\"width: 20px; height: 20px;background-color: rgb(255, 105, 180);\"></td><td title=\"Index: [3, 1]&#10;Color: (255, 105, 180)\" style=\"width: 20px; height: 20px;background-color: rgb(255, 105, 180);\"></td><td title=\"Index: [3, 2]&#10;Color: (255, 105, 180)\" style=\"width: 20px; height: 20px;background-color: rgb(255, 105, 180);\"></td><td title=\"Index: [3, 3]&#10;Color: (255, 105, 180)\" style=\"width: 20px; height: 20px;background-color: rgb(255, 105, 180);\"></td><td title=\"Index: [3, 4]&#10;Color: (255, 105, 180)\" style=\"width: 20px; height: 20px;background-color: rgb(255, 105, 180);\"></td></tr></tbody></table>"
      ],
      "text/plain": [
       "<ipythonblocks.ipythonblocks.BlockGrid at 0x1c0f77705e0>"
      ]
     },
     "execution_count": 137,
     "metadata": {},
     "output_type": "execute_result"
    }
   ],
   "source": [
    "grid[0,4].rgb = colors.BlanchedAlmond\n",
    "grid"
   ]
  },
  {
   "cell_type": "code",
   "execution_count": 138,
   "metadata": {},
   "outputs": [
    {
     "data": {
      "text/html": [
       "<style type=\"text/css\">table.blockgrid {border: none;} .blockgrid tr {border: none;} .blockgrid td {padding: 0px;} #blocks0ad28db2-d955-43c7-942c-eb349ca86193 td {border: 1px solid white;}</style><table id=\"blocks0ad28db2-d955-43c7-942c-eb349ca86193\" class=\"blockgrid\"><tbody><tr><td title=\"Index: [0, 0]&#10;Color: (255, 105, 180)\" style=\"width: 20px; height: 20px;background-color: rgb(255, 105, 180);\"></td><td title=\"Index: [0, 1]&#10;Color: (255, 105, 180)\" style=\"width: 20px; height: 20px;background-color: rgb(255, 105, 180);\"></td><td title=\"Index: [0, 2]&#10;Color: (255, 105, 180)\" style=\"width: 20px; height: 20px;background-color: rgb(255, 105, 180);\"></td><td title=\"Index: [0, 3]&#10;Color: (255, 105, 180)\" style=\"width: 20px; height: 20px;background-color: rgb(255, 105, 180);\"></td><td title=\"Index: [0, 4]&#10;Color: (255, 235, 205)\" style=\"width: 20px; height: 20px;background-color: rgb(255, 235, 205);\"></td></tr><tr><td title=\"Index: [1, 0]&#10;Color: (255, 105, 180)\" style=\"width: 20px; height: 20px;background-color: rgb(255, 105, 180);\"></td><td title=\"Index: [1, 1]&#10;Color: (255, 105, 180)\" style=\"width: 20px; height: 20px;background-color: rgb(255, 105, 180);\"></td><td title=\"Index: [1, 2]&#10;Color: (255, 105, 180)\" style=\"width: 20px; height: 20px;background-color: rgb(255, 105, 180);\"></td><td title=\"Index: [1, 3]&#10;Color: (255, 105, 180)\" style=\"width: 20px; height: 20px;background-color: rgb(255, 105, 180);\"></td><td title=\"Index: [1, 4]&#10;Color: (255, 105, 180)\" style=\"width: 20px; height: 20px;background-color: rgb(255, 105, 180);\"></td></tr><tr><td title=\"Index: [2, 0]&#10;Color: (255, 105, 180)\" style=\"width: 20px; height: 20px;background-color: rgb(255, 105, 180);\"></td><td title=\"Index: [2, 1]&#10;Color: (255, 105, 180)\" style=\"width: 20px; height: 20px;background-color: rgb(255, 105, 180);\"></td><td title=\"Index: [2, 2]&#10;Color: (255, 105, 180)\" style=\"width: 20px; height: 20px;background-color: rgb(255, 105, 180);\"></td><td title=\"Index: [2, 3]&#10;Color: (255, 105, 180)\" style=\"width: 20px; height: 20px;background-color: rgb(255, 105, 180);\"></td><td title=\"Index: [2, 4]&#10;Color: (255, 105, 180)\" style=\"width: 20px; height: 20px;background-color: rgb(255, 105, 180);\"></td></tr><tr><td title=\"Index: [3, 0]&#10;Color: (255, 235, 205)\" style=\"width: 20px; height: 20px;background-color: rgb(255, 235, 205);\"></td><td title=\"Index: [3, 1]&#10;Color: (255, 105, 180)\" style=\"width: 20px; height: 20px;background-color: rgb(255, 105, 180);\"></td><td title=\"Index: [3, 2]&#10;Color: (255, 105, 180)\" style=\"width: 20px; height: 20px;background-color: rgb(255, 105, 180);\"></td><td title=\"Index: [3, 3]&#10;Color: (255, 105, 180)\" style=\"width: 20px; height: 20px;background-color: rgb(255, 105, 180);\"></td><td title=\"Index: [3, 4]&#10;Color: (255, 105, 180)\" style=\"width: 20px; height: 20px;background-color: rgb(255, 105, 180);\"></td></tr></tbody></table>"
      ],
      "text/plain": [
       "<ipythonblocks.ipythonblocks.BlockGrid at 0x1c0f77705e0>"
      ]
     },
     "execution_count": 138,
     "metadata": {},
     "output_type": "execute_result"
    }
   ],
   "source": [
    "grid[-1,0].rgb = colors.BlanchedAlmond\n",
    "grid"
   ]
  },
  {
   "cell_type": "code",
   "execution_count": 139,
   "metadata": {},
   "outputs": [
    {
     "data": {
      "text/html": [
       "<style type=\"text/css\">table.blockgrid {border: none;} .blockgrid tr {border: none;} .blockgrid td {padding: 0px;} #blocks0b02e5e3-d8e7-4953-813c-6e98c019b2d2 td {border: 0px solid white;}</style><table id=\"blocks0b02e5e3-d8e7-4953-813c-6e98c019b2d2\" class=\"blockgrid\"><tbody><tr><td title=\"Index: [0, 0]&#10;Color: (255, 105, 180)\" style=\"width: 20px; height: 20px;background-color: rgb(255, 105, 180);\"></td></tr></tbody></table>"
      ],
      "text/plain": [
       "<IPython.core.display.HTML object>"
      ]
     },
     "metadata": {},
     "output_type": "display_data"
    },
    {
     "name": "stdout",
     "output_type": "stream",
     "text": [
      "Red: 255 Green: 105 Blue: 180\n",
      "Row: 0 Column: 0\n"
     ]
    },
    {
     "data": {
      "text/html": [
       "<style type=\"text/css\">table.blockgrid {border: none;} .blockgrid tr {border: none;} .blockgrid td {padding: 0px;} #blocks078f5e12-52c0-48f6-b90d-4189d3655999 td {border: 0px solid white;}</style><table id=\"blocks078f5e12-52c0-48f6-b90d-4189d3655999\" class=\"blockgrid\"><tbody><tr><td title=\"Index: [0, 1]&#10;Color: (255, 105, 180)\" style=\"width: 20px; height: 20px;background-color: rgb(255, 105, 180);\"></td></tr></tbody></table>"
      ],
      "text/plain": [
       "<IPython.core.display.HTML object>"
      ]
     },
     "metadata": {},
     "output_type": "display_data"
    },
    {
     "name": "stdout",
     "output_type": "stream",
     "text": [
      "Red: 255 Green: 105 Blue: 180\n",
      "Row: 0 Column: 1\n"
     ]
    },
    {
     "data": {
      "text/html": [
       "<style type=\"text/css\">table.blockgrid {border: none;} .blockgrid tr {border: none;} .blockgrid td {padding: 0px;} #blocks43130ce5-7414-4cdb-8f05-02d3e77c9ec1 td {border: 0px solid white;}</style><table id=\"blocks43130ce5-7414-4cdb-8f05-02d3e77c9ec1\" class=\"blockgrid\"><tbody><tr><td title=\"Index: [0, 2]&#10;Color: (255, 105, 180)\" style=\"width: 20px; height: 20px;background-color: rgb(255, 105, 180);\"></td></tr></tbody></table>"
      ],
      "text/plain": [
       "<IPython.core.display.HTML object>"
      ]
     },
     "metadata": {},
     "output_type": "display_data"
    },
    {
     "name": "stdout",
     "output_type": "stream",
     "text": [
      "Red: 255 Green: 105 Blue: 180\n",
      "Row: 0 Column: 2\n"
     ]
    },
    {
     "data": {
      "text/html": [
       "<style type=\"text/css\">table.blockgrid {border: none;} .blockgrid tr {border: none;} .blockgrid td {padding: 0px;} #blocks269f29f2-6005-4b5b-966c-d26eb33f6cd3 td {border: 0px solid white;}</style><table id=\"blocks269f29f2-6005-4b5b-966c-d26eb33f6cd3\" class=\"blockgrid\"><tbody><tr><td title=\"Index: [0, 3]&#10;Color: (255, 105, 180)\" style=\"width: 20px; height: 20px;background-color: rgb(255, 105, 180);\"></td></tr></tbody></table>"
      ],
      "text/plain": [
       "<IPython.core.display.HTML object>"
      ]
     },
     "metadata": {},
     "output_type": "display_data"
    },
    {
     "name": "stdout",
     "output_type": "stream",
     "text": [
      "Red: 255 Green: 105 Blue: 180\n",
      "Row: 0 Column: 3\n"
     ]
    },
    {
     "data": {
      "text/html": [
       "<style type=\"text/css\">table.blockgrid {border: none;} .blockgrid tr {border: none;} .blockgrid td {padding: 0px;} #blocksacd9fffa-45aa-4f7a-b9b6-f9908c999387 td {border: 0px solid white;}</style><table id=\"blocksacd9fffa-45aa-4f7a-b9b6-f9908c999387\" class=\"blockgrid\"><tbody><tr><td title=\"Index: [0, 4]&#10;Color: (255, 235, 205)\" style=\"width: 20px; height: 20px;background-color: rgb(255, 235, 205);\"></td></tr></tbody></table>"
      ],
      "text/plain": [
       "<IPython.core.display.HTML object>"
      ]
     },
     "metadata": {},
     "output_type": "display_data"
    },
    {
     "name": "stdout",
     "output_type": "stream",
     "text": [
      "Red: 255 Green: 235 Blue: 205\n",
      "Row: 0 Column: 4\n"
     ]
    },
    {
     "data": {
      "text/html": [
       "<style type=\"text/css\">table.blockgrid {border: none;} .blockgrid tr {border: none;} .blockgrid td {padding: 0px;} #blocks803f607b-f2ab-4f67-a1d8-1dbd1bd2be7f td {border: 0px solid white;}</style><table id=\"blocks803f607b-f2ab-4f67-a1d8-1dbd1bd2be7f\" class=\"blockgrid\"><tbody><tr><td title=\"Index: [1, 0]&#10;Color: (255, 105, 180)\" style=\"width: 20px; height: 20px;background-color: rgb(255, 105, 180);\"></td></tr></tbody></table>"
      ],
      "text/plain": [
       "<IPython.core.display.HTML object>"
      ]
     },
     "metadata": {},
     "output_type": "display_data"
    },
    {
     "name": "stdout",
     "output_type": "stream",
     "text": [
      "Red: 255 Green: 105 Blue: 180\n",
      "Row: 1 Column: 0\n"
     ]
    },
    {
     "data": {
      "text/html": [
       "<style type=\"text/css\">table.blockgrid {border: none;} .blockgrid tr {border: none;} .blockgrid td {padding: 0px;} #blocks68b5a93f-5159-4eae-a00f-05d7b9022458 td {border: 0px solid white;}</style><table id=\"blocks68b5a93f-5159-4eae-a00f-05d7b9022458\" class=\"blockgrid\"><tbody><tr><td title=\"Index: [1, 1]&#10;Color: (255, 105, 180)\" style=\"width: 20px; height: 20px;background-color: rgb(255, 105, 180);\"></td></tr></tbody></table>"
      ],
      "text/plain": [
       "<IPython.core.display.HTML object>"
      ]
     },
     "metadata": {},
     "output_type": "display_data"
    },
    {
     "name": "stdout",
     "output_type": "stream",
     "text": [
      "Red: 255 Green: 105 Blue: 180\n",
      "Row: 1 Column: 1\n"
     ]
    },
    {
     "data": {
      "text/html": [
       "<style type=\"text/css\">table.blockgrid {border: none;} .blockgrid tr {border: none;} .blockgrid td {padding: 0px;} #blocksb2271a2c-9750-4667-a338-f125e2c2f575 td {border: 0px solid white;}</style><table id=\"blocksb2271a2c-9750-4667-a338-f125e2c2f575\" class=\"blockgrid\"><tbody><tr><td title=\"Index: [1, 2]&#10;Color: (255, 105, 180)\" style=\"width: 20px; height: 20px;background-color: rgb(255, 105, 180);\"></td></tr></tbody></table>"
      ],
      "text/plain": [
       "<IPython.core.display.HTML object>"
      ]
     },
     "metadata": {},
     "output_type": "display_data"
    },
    {
     "name": "stdout",
     "output_type": "stream",
     "text": [
      "Red: 255 Green: 105 Blue: 180\n",
      "Row: 1 Column: 2\n"
     ]
    },
    {
     "data": {
      "text/html": [
       "<style type=\"text/css\">table.blockgrid {border: none;} .blockgrid tr {border: none;} .blockgrid td {padding: 0px;} #blocks6d2f4c92-7d59-41cc-bacf-cbbcdcd3c36d td {border: 0px solid white;}</style><table id=\"blocks6d2f4c92-7d59-41cc-bacf-cbbcdcd3c36d\" class=\"blockgrid\"><tbody><tr><td title=\"Index: [1, 3]&#10;Color: (255, 105, 180)\" style=\"width: 20px; height: 20px;background-color: rgb(255, 105, 180);\"></td></tr></tbody></table>"
      ],
      "text/plain": [
       "<IPython.core.display.HTML object>"
      ]
     },
     "metadata": {},
     "output_type": "display_data"
    },
    {
     "name": "stdout",
     "output_type": "stream",
     "text": [
      "Red: 255 Green: 105 Blue: 180\n",
      "Row: 1 Column: 3\n"
     ]
    },
    {
     "data": {
      "text/html": [
       "<style type=\"text/css\">table.blockgrid {border: none;} .blockgrid tr {border: none;} .blockgrid td {padding: 0px;} #blocks586324a2-9537-4bfe-9883-c59a7c330480 td {border: 0px solid white;}</style><table id=\"blocks586324a2-9537-4bfe-9883-c59a7c330480\" class=\"blockgrid\"><tbody><tr><td title=\"Index: [1, 4]&#10;Color: (255, 105, 180)\" style=\"width: 20px; height: 20px;background-color: rgb(255, 105, 180);\"></td></tr></tbody></table>"
      ],
      "text/plain": [
       "<IPython.core.display.HTML object>"
      ]
     },
     "metadata": {},
     "output_type": "display_data"
    },
    {
     "name": "stdout",
     "output_type": "stream",
     "text": [
      "Red: 255 Green: 105 Blue: 180\n",
      "Row: 1 Column: 4\n"
     ]
    },
    {
     "data": {
      "text/html": [
       "<style type=\"text/css\">table.blockgrid {border: none;} .blockgrid tr {border: none;} .blockgrid td {padding: 0px;} #blocks69a26d87-4316-4f6c-acfe-aa16d66aadff td {border: 0px solid white;}</style><table id=\"blocks69a26d87-4316-4f6c-acfe-aa16d66aadff\" class=\"blockgrid\"><tbody><tr><td title=\"Index: [2, 0]&#10;Color: (255, 105, 180)\" style=\"width: 20px; height: 20px;background-color: rgb(255, 105, 180);\"></td></tr></tbody></table>"
      ],
      "text/plain": [
       "<IPython.core.display.HTML object>"
      ]
     },
     "metadata": {},
     "output_type": "display_data"
    },
    {
     "name": "stdout",
     "output_type": "stream",
     "text": [
      "Red: 255 Green: 105 Blue: 180\n",
      "Row: 2 Column: 0\n"
     ]
    },
    {
     "data": {
      "text/html": [
       "<style type=\"text/css\">table.blockgrid {border: none;} .blockgrid tr {border: none;} .blockgrid td {padding: 0px;} #blocksdef1732d-0e1c-462c-acbb-eafb31ad25df td {border: 0px solid white;}</style><table id=\"blocksdef1732d-0e1c-462c-acbb-eafb31ad25df\" class=\"blockgrid\"><tbody><tr><td title=\"Index: [2, 1]&#10;Color: (255, 105, 180)\" style=\"width: 20px; height: 20px;background-color: rgb(255, 105, 180);\"></td></tr></tbody></table>"
      ],
      "text/plain": [
       "<IPython.core.display.HTML object>"
      ]
     },
     "metadata": {},
     "output_type": "display_data"
    },
    {
     "name": "stdout",
     "output_type": "stream",
     "text": [
      "Red: 255 Green: 105 Blue: 180\n",
      "Row: 2 Column: 1\n"
     ]
    },
    {
     "data": {
      "text/html": [
       "<style type=\"text/css\">table.blockgrid {border: none;} .blockgrid tr {border: none;} .blockgrid td {padding: 0px;} #blocks773fc087-e123-4a41-974d-5302119eb0e2 td {border: 0px solid white;}</style><table id=\"blocks773fc087-e123-4a41-974d-5302119eb0e2\" class=\"blockgrid\"><tbody><tr><td title=\"Index: [2, 2]&#10;Color: (255, 105, 180)\" style=\"width: 20px; height: 20px;background-color: rgb(255, 105, 180);\"></td></tr></tbody></table>"
      ],
      "text/plain": [
       "<IPython.core.display.HTML object>"
      ]
     },
     "metadata": {},
     "output_type": "display_data"
    },
    {
     "name": "stdout",
     "output_type": "stream",
     "text": [
      "Red: 255 Green: 105 Blue: 180\n",
      "Row: 2 Column: 2\n"
     ]
    },
    {
     "data": {
      "text/html": [
       "<style type=\"text/css\">table.blockgrid {border: none;} .blockgrid tr {border: none;} .blockgrid td {padding: 0px;} #blocks80951216-761f-47bf-a007-fd7e66f369b2 td {border: 0px solid white;}</style><table id=\"blocks80951216-761f-47bf-a007-fd7e66f369b2\" class=\"blockgrid\"><tbody><tr><td title=\"Index: [2, 3]&#10;Color: (255, 105, 180)\" style=\"width: 20px; height: 20px;background-color: rgb(255, 105, 180);\"></td></tr></tbody></table>"
      ],
      "text/plain": [
       "<IPython.core.display.HTML object>"
      ]
     },
     "metadata": {},
     "output_type": "display_data"
    },
    {
     "name": "stdout",
     "output_type": "stream",
     "text": [
      "Red: 255 Green: 105 Blue: 180\n",
      "Row: 2 Column: 3\n"
     ]
    },
    {
     "data": {
      "text/html": [
       "<style type=\"text/css\">table.blockgrid {border: none;} .blockgrid tr {border: none;} .blockgrid td {padding: 0px;} #blocks7c504768-4a71-4fd2-a0a0-e860f68584bb td {border: 0px solid white;}</style><table id=\"blocks7c504768-4a71-4fd2-a0a0-e860f68584bb\" class=\"blockgrid\"><tbody><tr><td title=\"Index: [2, 4]&#10;Color: (255, 105, 180)\" style=\"width: 20px; height: 20px;background-color: rgb(255, 105, 180);\"></td></tr></tbody></table>"
      ],
      "text/plain": [
       "<IPython.core.display.HTML object>"
      ]
     },
     "metadata": {},
     "output_type": "display_data"
    },
    {
     "name": "stdout",
     "output_type": "stream",
     "text": [
      "Red: 255 Green: 105 Blue: 180\n",
      "Row: 2 Column: 4\n"
     ]
    },
    {
     "data": {
      "text/html": [
       "<style type=\"text/css\">table.blockgrid {border: none;} .blockgrid tr {border: none;} .blockgrid td {padding: 0px;} #blocks507e8d2f-e111-43bb-af74-698c7245d800 td {border: 0px solid white;}</style><table id=\"blocks507e8d2f-e111-43bb-af74-698c7245d800\" class=\"blockgrid\"><tbody><tr><td title=\"Index: [3, 0]&#10;Color: (255, 235, 205)\" style=\"width: 20px; height: 20px;background-color: rgb(255, 235, 205);\"></td></tr></tbody></table>"
      ],
      "text/plain": [
       "<IPython.core.display.HTML object>"
      ]
     },
     "metadata": {},
     "output_type": "display_data"
    },
    {
     "name": "stdout",
     "output_type": "stream",
     "text": [
      "Red: 255 Green: 235 Blue: 205\n",
      "Row: 3 Column: 0\n"
     ]
    },
    {
     "data": {
      "text/html": [
       "<style type=\"text/css\">table.blockgrid {border: none;} .blockgrid tr {border: none;} .blockgrid td {padding: 0px;} #blocksa3f04b8c-fe65-42e3-8a57-c0aae957a994 td {border: 0px solid white;}</style><table id=\"blocksa3f04b8c-fe65-42e3-8a57-c0aae957a994\" class=\"blockgrid\"><tbody><tr><td title=\"Index: [3, 1]&#10;Color: (255, 105, 180)\" style=\"width: 20px; height: 20px;background-color: rgb(255, 105, 180);\"></td></tr></tbody></table>"
      ],
      "text/plain": [
       "<IPython.core.display.HTML object>"
      ]
     },
     "metadata": {},
     "output_type": "display_data"
    },
    {
     "name": "stdout",
     "output_type": "stream",
     "text": [
      "Red: 255 Green: 105 Blue: 180\n",
      "Row: 3 Column: 1\n"
     ]
    },
    {
     "data": {
      "text/html": [
       "<style type=\"text/css\">table.blockgrid {border: none;} .blockgrid tr {border: none;} .blockgrid td {padding: 0px;} #blocks376e3195-d84d-4bdb-b077-b09dc1bc119a td {border: 0px solid white;}</style><table id=\"blocks376e3195-d84d-4bdb-b077-b09dc1bc119a\" class=\"blockgrid\"><tbody><tr><td title=\"Index: [3, 2]&#10;Color: (255, 105, 180)\" style=\"width: 20px; height: 20px;background-color: rgb(255, 105, 180);\"></td></tr></tbody></table>"
      ],
      "text/plain": [
       "<IPython.core.display.HTML object>"
      ]
     },
     "metadata": {},
     "output_type": "display_data"
    },
    {
     "name": "stdout",
     "output_type": "stream",
     "text": [
      "Red: 255 Green: 105 Blue: 180\n",
      "Row: 3 Column: 2\n"
     ]
    },
    {
     "data": {
      "text/html": [
       "<style type=\"text/css\">table.blockgrid {border: none;} .blockgrid tr {border: none;} .blockgrid td {padding: 0px;} #blocks12244b2a-7469-4f65-a69a-b82781702ee7 td {border: 0px solid white;}</style><table id=\"blocks12244b2a-7469-4f65-a69a-b82781702ee7\" class=\"blockgrid\"><tbody><tr><td title=\"Index: [3, 3]&#10;Color: (255, 105, 180)\" style=\"width: 20px; height: 20px;background-color: rgb(255, 105, 180);\"></td></tr></tbody></table>"
      ],
      "text/plain": [
       "<IPython.core.display.HTML object>"
      ]
     },
     "metadata": {},
     "output_type": "display_data"
    },
    {
     "name": "stdout",
     "output_type": "stream",
     "text": [
      "Red: 255 Green: 105 Blue: 180\n",
      "Row: 3 Column: 3\n"
     ]
    },
    {
     "data": {
      "text/html": [
       "<style type=\"text/css\">table.blockgrid {border: none;} .blockgrid tr {border: none;} .blockgrid td {padding: 0px;} #blocksd7dae8d2-c8f6-4444-85b1-71868465fe7f td {border: 0px solid white;}</style><table id=\"blocksd7dae8d2-c8f6-4444-85b1-71868465fe7f\" class=\"blockgrid\"><tbody><tr><td title=\"Index: [3, 4]&#10;Color: (255, 105, 180)\" style=\"width: 20px; height: 20px;background-color: rgb(255, 105, 180);\"></td></tr></tbody></table>"
      ],
      "text/plain": [
       "<IPython.core.display.HTML object>"
      ]
     },
     "metadata": {},
     "output_type": "display_data"
    },
    {
     "name": "stdout",
     "output_type": "stream",
     "text": [
      "Red: 255 Green: 105 Blue: 180\n",
      "Row: 3 Column: 4\n"
     ]
    }
   ],
   "source": [
    "for block in grid:\n",
    "    block.show()\n",
    "    print(f'Red: {block.red} Green: {block.green} Blue: {block.blue}')\n",
    "    print(f'Row: {block.row} Column: {block.col}')"
   ]
  },
  {
   "cell_type": "code",
   "execution_count": 140,
   "metadata": {},
   "outputs": [
    {
     "data": {
      "text/html": [
       "<style type=\"text/css\">table.blockgrid {border: none;} .blockgrid tr {border: none;} .blockgrid td {padding: 0px;} #blocks1375bcfe-a1d3-4f87-81c3-0208a751e958 td {border: 1px solid white;}</style><table id=\"blocks1375bcfe-a1d3-4f87-81c3-0208a751e958\" class=\"blockgrid\"><tbody><tr><td title=\"Index: [0, 0]&#10;Color: (65, 105, 225)\" style=\"width: 20px; height: 20px;background-color: rgb(65, 105, 225);\"></td><td title=\"Index: [0, 1]&#10;Color: (65, 105, 225)\" style=\"width: 20px; height: 20px;background-color: rgb(65, 105, 225);\"></td><td title=\"Index: [0, 2]&#10;Color: (65, 105, 225)\" style=\"width: 20px; height: 20px;background-color: rgb(65, 105, 225);\"></td><td title=\"Index: [0, 3]&#10;Color: (65, 105, 225)\" style=\"width: 20px; height: 20px;background-color: rgb(65, 105, 225);\"></td><td title=\"Index: [0, 4]&#10;Color: (65, 105, 225)\" style=\"width: 20px; height: 20px;background-color: rgb(65, 105, 225);\"></td><td title=\"Index: [0, 5]&#10;Color: (65, 105, 225)\" style=\"width: 20px; height: 20px;background-color: rgb(65, 105, 225);\"></td><td title=\"Index: [0, 6]&#10;Color: (65, 105, 225)\" style=\"width: 20px; height: 20px;background-color: rgb(65, 105, 225);\"></td><td title=\"Index: [0, 7]&#10;Color: (65, 105, 225)\" style=\"width: 20px; height: 20px;background-color: rgb(65, 105, 225);\"></td></tr><tr><td title=\"Index: [1, 0]&#10;Color: (65, 105, 225)\" style=\"width: 20px; height: 20px;background-color: rgb(65, 105, 225);\"></td><td title=\"Index: [1, 1]&#10;Color: (65, 105, 225)\" style=\"width: 20px; height: 20px;background-color: rgb(65, 105, 225);\"></td><td title=\"Index: [1, 2]&#10;Color: (65, 105, 225)\" style=\"width: 20px; height: 20px;background-color: rgb(65, 105, 225);\"></td><td title=\"Index: [1, 3]&#10;Color: (65, 105, 225)\" style=\"width: 20px; height: 20px;background-color: rgb(65, 105, 225);\"></td><td title=\"Index: [1, 4]&#10;Color: (65, 105, 225)\" style=\"width: 20px; height: 20px;background-color: rgb(65, 105, 225);\"></td><td title=\"Index: [1, 5]&#10;Color: (65, 105, 225)\" style=\"width: 20px; height: 20px;background-color: rgb(65, 105, 225);\"></td><td title=\"Index: [1, 6]&#10;Color: (65, 105, 225)\" style=\"width: 20px; height: 20px;background-color: rgb(65, 105, 225);\"></td><td title=\"Index: [1, 7]&#10;Color: (65, 105, 225)\" style=\"width: 20px; height: 20px;background-color: rgb(65, 105, 225);\"></td></tr><tr><td title=\"Index: [2, 0]&#10;Color: (65, 105, 225)\" style=\"width: 20px; height: 20px;background-color: rgb(65, 105, 225);\"></td><td title=\"Index: [2, 1]&#10;Color: (65, 105, 225)\" style=\"width: 20px; height: 20px;background-color: rgb(65, 105, 225);\"></td><td title=\"Index: [2, 2]&#10;Color: (65, 105, 225)\" style=\"width: 20px; height: 20px;background-color: rgb(65, 105, 225);\"></td><td title=\"Index: [2, 3]&#10;Color: (65, 105, 225)\" style=\"width: 20px; height: 20px;background-color: rgb(65, 105, 225);\"></td><td title=\"Index: [2, 4]&#10;Color: (65, 105, 225)\" style=\"width: 20px; height: 20px;background-color: rgb(65, 105, 225);\"></td><td title=\"Index: [2, 5]&#10;Color: (65, 105, 225)\" style=\"width: 20px; height: 20px;background-color: rgb(65, 105, 225);\"></td><td title=\"Index: [2, 6]&#10;Color: (65, 105, 225)\" style=\"width: 20px; height: 20px;background-color: rgb(65, 105, 225);\"></td><td title=\"Index: [2, 7]&#10;Color: (65, 105, 225)\" style=\"width: 20px; height: 20px;background-color: rgb(65, 105, 225);\"></td></tr><tr><td title=\"Index: [3, 0]&#10;Color: (65, 105, 225)\" style=\"width: 20px; height: 20px;background-color: rgb(65, 105, 225);\"></td><td title=\"Index: [3, 1]&#10;Color: (65, 105, 225)\" style=\"width: 20px; height: 20px;background-color: rgb(65, 105, 225);\"></td><td title=\"Index: [3, 2]&#10;Color: (65, 105, 225)\" style=\"width: 20px; height: 20px;background-color: rgb(65, 105, 225);\"></td><td title=\"Index: [3, 3]&#10;Color: (65, 105, 225)\" style=\"width: 20px; height: 20px;background-color: rgb(65, 105, 225);\"></td><td title=\"Index: [3, 4]&#10;Color: (65, 105, 225)\" style=\"width: 20px; height: 20px;background-color: rgb(65, 105, 225);\"></td><td title=\"Index: [3, 5]&#10;Color: (65, 105, 225)\" style=\"width: 20px; height: 20px;background-color: rgb(65, 105, 225);\"></td><td title=\"Index: [3, 6]&#10;Color: (65, 105, 225)\" style=\"width: 20px; height: 20px;background-color: rgb(65, 105, 225);\"></td><td title=\"Index: [3, 7]&#10;Color: (65, 105, 225)\" style=\"width: 20px; height: 20px;background-color: rgb(65, 105, 225);\"></td></tr><tr><td title=\"Index: [4, 0]&#10;Color: (65, 105, 225)\" style=\"width: 20px; height: 20px;background-color: rgb(65, 105, 225);\"></td><td title=\"Index: [4, 1]&#10;Color: (65, 105, 225)\" style=\"width: 20px; height: 20px;background-color: rgb(65, 105, 225);\"></td><td title=\"Index: [4, 2]&#10;Color: (65, 105, 225)\" style=\"width: 20px; height: 20px;background-color: rgb(65, 105, 225);\"></td><td title=\"Index: [4, 3]&#10;Color: (65, 105, 225)\" style=\"width: 20px; height: 20px;background-color: rgb(65, 105, 225);\"></td><td title=\"Index: [4, 4]&#10;Color: (65, 105, 225)\" style=\"width: 20px; height: 20px;background-color: rgb(65, 105, 225);\"></td><td title=\"Index: [4, 5]&#10;Color: (65, 105, 225)\" style=\"width: 20px; height: 20px;background-color: rgb(65, 105, 225);\"></td><td title=\"Index: [4, 6]&#10;Color: (65, 105, 225)\" style=\"width: 20px; height: 20px;background-color: rgb(65, 105, 225);\"></td><td title=\"Index: [4, 7]&#10;Color: (65, 105, 225)\" style=\"width: 20px; height: 20px;background-color: rgb(65, 105, 225);\"></td></tr><tr><td title=\"Index: [5, 0]&#10;Color: (65, 105, 225)\" style=\"width: 20px; height: 20px;background-color: rgb(65, 105, 225);\"></td><td title=\"Index: [5, 1]&#10;Color: (65, 105, 225)\" style=\"width: 20px; height: 20px;background-color: rgb(65, 105, 225);\"></td><td title=\"Index: [5, 2]&#10;Color: (65, 105, 225)\" style=\"width: 20px; height: 20px;background-color: rgb(65, 105, 225);\"></td><td title=\"Index: [5, 3]&#10;Color: (65, 105, 225)\" style=\"width: 20px; height: 20px;background-color: rgb(65, 105, 225);\"></td><td title=\"Index: [5, 4]&#10;Color: (65, 105, 225)\" style=\"width: 20px; height: 20px;background-color: rgb(65, 105, 225);\"></td><td title=\"Index: [5, 5]&#10;Color: (65, 105, 225)\" style=\"width: 20px; height: 20px;background-color: rgb(65, 105, 225);\"></td><td title=\"Index: [5, 6]&#10;Color: (65, 105, 225)\" style=\"width: 20px; height: 20px;background-color: rgb(65, 105, 225);\"></td><td title=\"Index: [5, 7]&#10;Color: (65, 105, 225)\" style=\"width: 20px; height: 20px;background-color: rgb(65, 105, 225);\"></td></tr></tbody></table>"
      ],
      "text/plain": [
       "<IPython.core.display.HTML object>"
      ]
     },
     "metadata": {},
     "output_type": "display_data"
    }
   ],
   "source": [
    "grid = BlockGrid(8, 6, fill=colors.RoyalBlue)\n",
    "grid.show()"
   ]
  },
  {
   "cell_type": "code",
   "execution_count": 141,
   "metadata": {},
   "outputs": [
    {
     "data": {
      "text/html": [
       "<style type=\"text/css\">table.blockgrid {border: none;} .blockgrid tr {border: none;} .blockgrid td {padding: 0px;} #blocks53bfd36e-d6ee-4255-91a0-fb9ab3026dd9 td {border: 1px solid white;}</style><table id=\"blocks53bfd36e-d6ee-4255-91a0-fb9ab3026dd9\" class=\"blockgrid\"><tbody><tr><td title=\"Index: [0, 0]&#10;Color: (255, 0, 0)\" style=\"width: 20px; height: 20px;background-color: rgb(255, 0, 0);\"></td><td title=\"Index: [0, 1]&#10;Color: (255, 0, 0)\" style=\"width: 20px; height: 20px;background-color: rgb(255, 0, 0);\"></td><td title=\"Index: [0, 2]&#10;Color: (255, 0, 0)\" style=\"width: 20px; height: 20px;background-color: rgb(255, 0, 0);\"></td><td title=\"Index: [0, 3]&#10;Color: (255, 0, 0)\" style=\"width: 20px; height: 20px;background-color: rgb(255, 0, 0);\"></td><td title=\"Index: [0, 4]&#10;Color: (255, 0, 0)\" style=\"width: 20px; height: 20px;background-color: rgb(255, 0, 0);\"></td><td title=\"Index: [0, 5]&#10;Color: (255, 0, 0)\" style=\"width: 20px; height: 20px;background-color: rgb(255, 0, 0);\"></td><td title=\"Index: [0, 6]&#10;Color: (255, 0, 0)\" style=\"width: 20px; height: 20px;background-color: rgb(255, 0, 0);\"></td><td title=\"Index: [0, 7]&#10;Color: (255, 0, 0)\" style=\"width: 20px; height: 20px;background-color: rgb(255, 0, 0);\"></td></tr><tr><td title=\"Index: [1, 0]&#10;Color: (255, 0, 0)\" style=\"width: 20px; height: 20px;background-color: rgb(255, 0, 0);\"></td><td title=\"Index: [1, 1]&#10;Color: (65, 105, 225)\" style=\"width: 20px; height: 20px;background-color: rgb(65, 105, 225);\"></td><td title=\"Index: [1, 2]&#10;Color: (65, 105, 225)\" style=\"width: 20px; height: 20px;background-color: rgb(65, 105, 225);\"></td><td title=\"Index: [1, 3]&#10;Color: (65, 105, 225)\" style=\"width: 20px; height: 20px;background-color: rgb(65, 105, 225);\"></td><td title=\"Index: [1, 4]&#10;Color: (65, 105, 225)\" style=\"width: 20px; height: 20px;background-color: rgb(65, 105, 225);\"></td><td title=\"Index: [1, 5]&#10;Color: (65, 105, 225)\" style=\"width: 20px; height: 20px;background-color: rgb(65, 105, 225);\"></td><td title=\"Index: [1, 6]&#10;Color: (65, 105, 225)\" style=\"width: 20px; height: 20px;background-color: rgb(65, 105, 225);\"></td><td title=\"Index: [1, 7]&#10;Color: (255, 0, 0)\" style=\"width: 20px; height: 20px;background-color: rgb(255, 0, 0);\"></td></tr><tr><td title=\"Index: [2, 0]&#10;Color: (255, 0, 0)\" style=\"width: 20px; height: 20px;background-color: rgb(255, 0, 0);\"></td><td title=\"Index: [2, 1]&#10;Color: (65, 105, 225)\" style=\"width: 20px; height: 20px;background-color: rgb(65, 105, 225);\"></td><td title=\"Index: [2, 2]&#10;Color: (65, 105, 225)\" style=\"width: 20px; height: 20px;background-color: rgb(65, 105, 225);\"></td><td title=\"Index: [2, 3]&#10;Color: (65, 105, 225)\" style=\"width: 20px; height: 20px;background-color: rgb(65, 105, 225);\"></td><td title=\"Index: [2, 4]&#10;Color: (65, 105, 225)\" style=\"width: 20px; height: 20px;background-color: rgb(65, 105, 225);\"></td><td title=\"Index: [2, 5]&#10;Color: (65, 105, 225)\" style=\"width: 20px; height: 20px;background-color: rgb(65, 105, 225);\"></td><td title=\"Index: [2, 6]&#10;Color: (65, 105, 225)\" style=\"width: 20px; height: 20px;background-color: rgb(65, 105, 225);\"></td><td title=\"Index: [2, 7]&#10;Color: (255, 0, 0)\" style=\"width: 20px; height: 20px;background-color: rgb(255, 0, 0);\"></td></tr><tr><td title=\"Index: [3, 0]&#10;Color: (255, 0, 0)\" style=\"width: 20px; height: 20px;background-color: rgb(255, 0, 0);\"></td><td title=\"Index: [3, 1]&#10;Color: (65, 105, 225)\" style=\"width: 20px; height: 20px;background-color: rgb(65, 105, 225);\"></td><td title=\"Index: [3, 2]&#10;Color: (65, 105, 225)\" style=\"width: 20px; height: 20px;background-color: rgb(65, 105, 225);\"></td><td title=\"Index: [3, 3]&#10;Color: (65, 105, 225)\" style=\"width: 20px; height: 20px;background-color: rgb(65, 105, 225);\"></td><td title=\"Index: [3, 4]&#10;Color: (65, 105, 225)\" style=\"width: 20px; height: 20px;background-color: rgb(65, 105, 225);\"></td><td title=\"Index: [3, 5]&#10;Color: (65, 105, 225)\" style=\"width: 20px; height: 20px;background-color: rgb(65, 105, 225);\"></td><td title=\"Index: [3, 6]&#10;Color: (65, 105, 225)\" style=\"width: 20px; height: 20px;background-color: rgb(65, 105, 225);\"></td><td title=\"Index: [3, 7]&#10;Color: (255, 0, 0)\" style=\"width: 20px; height: 20px;background-color: rgb(255, 0, 0);\"></td></tr><tr><td title=\"Index: [4, 0]&#10;Color: (255, 0, 0)\" style=\"width: 20px; height: 20px;background-color: rgb(255, 0, 0);\"></td><td title=\"Index: [4, 1]&#10;Color: (65, 105, 225)\" style=\"width: 20px; height: 20px;background-color: rgb(65, 105, 225);\"></td><td title=\"Index: [4, 2]&#10;Color: (65, 105, 225)\" style=\"width: 20px; height: 20px;background-color: rgb(65, 105, 225);\"></td><td title=\"Index: [4, 3]&#10;Color: (65, 105, 225)\" style=\"width: 20px; height: 20px;background-color: rgb(65, 105, 225);\"></td><td title=\"Index: [4, 4]&#10;Color: (65, 105, 225)\" style=\"width: 20px; height: 20px;background-color: rgb(65, 105, 225);\"></td><td title=\"Index: [4, 5]&#10;Color: (65, 105, 225)\" style=\"width: 20px; height: 20px;background-color: rgb(65, 105, 225);\"></td><td title=\"Index: [4, 6]&#10;Color: (65, 105, 225)\" style=\"width: 20px; height: 20px;background-color: rgb(65, 105, 225);\"></td><td title=\"Index: [4, 7]&#10;Color: (255, 0, 0)\" style=\"width: 20px; height: 20px;background-color: rgb(255, 0, 0);\"></td></tr><tr><td title=\"Index: [5, 0]&#10;Color: (255, 0, 0)\" style=\"width: 20px; height: 20px;background-color: rgb(255, 0, 0);\"></td><td title=\"Index: [5, 1]&#10;Color: (255, 0, 0)\" style=\"width: 20px; height: 20px;background-color: rgb(255, 0, 0);\"></td><td title=\"Index: [5, 2]&#10;Color: (255, 0, 0)\" style=\"width: 20px; height: 20px;background-color: rgb(255, 0, 0);\"></td><td title=\"Index: [5, 3]&#10;Color: (255, 0, 0)\" style=\"width: 20px; height: 20px;background-color: rgb(255, 0, 0);\"></td><td title=\"Index: [5, 4]&#10;Color: (255, 0, 0)\" style=\"width: 20px; height: 20px;background-color: rgb(255, 0, 0);\"></td><td title=\"Index: [5, 5]&#10;Color: (255, 0, 0)\" style=\"width: 20px; height: 20px;background-color: rgb(255, 0, 0);\"></td><td title=\"Index: [5, 6]&#10;Color: (255, 0, 0)\" style=\"width: 20px; height: 20px;background-color: rgb(255, 0, 0);\"></td><td title=\"Index: [5, 7]&#10;Color: (255, 0, 0)\" style=\"width: 20px; height: 20px;background-color: rgb(255, 0, 0);\"></td></tr></tbody></table>"
      ],
      "text/plain": [
       "<IPython.core.display.HTML object>"
      ]
     },
     "metadata": {},
     "output_type": "display_data"
    }
   ],
   "source": [
    "for block in grid:\n",
    "    if block.row == 0 or block.col == 0 or block.col == grid.shape[0]-1 or block.row == grid.shape[1]-1:\n",
    "        block.rgb = colors.Red\n",
    "grid.show()"
   ]
  },
  {
   "cell_type": "code",
   "execution_count": 142,
   "metadata": {},
   "outputs": [
    {
     "data": {
      "text/html": [
       "<style type=\"text/css\">table.blockgrid {border: none;} .blockgrid tr {border: none;} .blockgrid td {padding: 0px;} #blocks6d6da124-c58c-4160-9c38-0f343d9c189c td {border: 1px solid white;}</style><table id=\"blocks6d6da124-c58c-4160-9c38-0f343d9c189c\" class=\"blockgrid\"><tbody><tr><td title=\"Index: [0, 0]&#10;Color: (65, 105, 225)\" style=\"width: 20px; height: 20px;background-color: rgb(65, 105, 225);\"></td><td title=\"Index: [0, 1]&#10;Color: (65, 105, 225)\" style=\"width: 20px; height: 20px;background-color: rgb(65, 105, 225);\"></td><td title=\"Index: [0, 2]&#10;Color: (65, 105, 225)\" style=\"width: 20px; height: 20px;background-color: rgb(65, 105, 225);\"></td><td title=\"Index: [0, 3]&#10;Color: (65, 105, 225)\" style=\"width: 20px; height: 20px;background-color: rgb(65, 105, 225);\"></td><td title=\"Index: [0, 4]&#10;Color: (65, 105, 225)\" style=\"width: 20px; height: 20px;background-color: rgb(65, 105, 225);\"></td><td title=\"Index: [0, 5]&#10;Color: (65, 105, 225)\" style=\"width: 20px; height: 20px;background-color: rgb(65, 105, 225);\"></td><td title=\"Index: [0, 6]&#10;Color: (65, 105, 225)\" style=\"width: 20px; height: 20px;background-color: rgb(65, 105, 225);\"></td><td title=\"Index: [0, 7]&#10;Color: (65, 105, 225)\" style=\"width: 20px; height: 20px;background-color: rgb(65, 105, 225);\"></td></tr><tr><td title=\"Index: [1, 0]&#10;Color: (65, 105, 225)\" style=\"width: 20px; height: 20px;background-color: rgb(65, 105, 225);\"></td><td title=\"Index: [1, 1]&#10;Color: (65, 105, 225)\" style=\"width: 20px; height: 20px;background-color: rgb(65, 105, 225);\"></td><td title=\"Index: [1, 2]&#10;Color: (65, 105, 225)\" style=\"width: 20px; height: 20px;background-color: rgb(65, 105, 225);\"></td><td title=\"Index: [1, 3]&#10;Color: (65, 105, 225)\" style=\"width: 20px; height: 20px;background-color: rgb(65, 105, 225);\"></td><td title=\"Index: [1, 4]&#10;Color: (65, 105, 225)\" style=\"width: 20px; height: 20px;background-color: rgb(65, 105, 225);\"></td><td title=\"Index: [1, 5]&#10;Color: (65, 105, 225)\" style=\"width: 20px; height: 20px;background-color: rgb(65, 105, 225);\"></td><td title=\"Index: [1, 6]&#10;Color: (65, 105, 225)\" style=\"width: 20px; height: 20px;background-color: rgb(65, 105, 225);\"></td><td title=\"Index: [1, 7]&#10;Color: (65, 105, 225)\" style=\"width: 20px; height: 20px;background-color: rgb(65, 105, 225);\"></td></tr><tr><td title=\"Index: [2, 0]&#10;Color: (65, 105, 225)\" style=\"width: 20px; height: 20px;background-color: rgb(65, 105, 225);\"></td><td title=\"Index: [2, 1]&#10;Color: (65, 105, 225)\" style=\"width: 20px; height: 20px;background-color: rgb(65, 105, 225);\"></td><td title=\"Index: [2, 2]&#10;Color: (65, 105, 225)\" style=\"width: 20px; height: 20px;background-color: rgb(65, 105, 225);\"></td><td title=\"Index: [2, 3]&#10;Color: (65, 105, 225)\" style=\"width: 20px; height: 20px;background-color: rgb(65, 105, 225);\"></td><td title=\"Index: [2, 4]&#10;Color: (65, 105, 225)\" style=\"width: 20px; height: 20px;background-color: rgb(65, 105, 225);\"></td><td title=\"Index: [2, 5]&#10;Color: (65, 105, 225)\" style=\"width: 20px; height: 20px;background-color: rgb(65, 105, 225);\"></td><td title=\"Index: [2, 6]&#10;Color: (65, 105, 225)\" style=\"width: 20px; height: 20px;background-color: rgb(65, 105, 225);\"></td><td title=\"Index: [2, 7]&#10;Color: (65, 105, 225)\" style=\"width: 20px; height: 20px;background-color: rgb(65, 105, 225);\"></td></tr><tr><td title=\"Index: [3, 0]&#10;Color: (65, 105, 225)\" style=\"width: 20px; height: 20px;background-color: rgb(65, 105, 225);\"></td><td title=\"Index: [3, 1]&#10;Color: (65, 105, 225)\" style=\"width: 20px; height: 20px;background-color: rgb(65, 105, 225);\"></td><td title=\"Index: [3, 2]&#10;Color: (65, 105, 225)\" style=\"width: 20px; height: 20px;background-color: rgb(65, 105, 225);\"></td><td title=\"Index: [3, 3]&#10;Color: (65, 105, 225)\" style=\"width: 20px; height: 20px;background-color: rgb(65, 105, 225);\"></td><td title=\"Index: [3, 4]&#10;Color: (65, 105, 225)\" style=\"width: 20px; height: 20px;background-color: rgb(65, 105, 225);\"></td><td title=\"Index: [3, 5]&#10;Color: (65, 105, 225)\" style=\"width: 20px; height: 20px;background-color: rgb(65, 105, 225);\"></td><td title=\"Index: [3, 6]&#10;Color: (65, 105, 225)\" style=\"width: 20px; height: 20px;background-color: rgb(65, 105, 225);\"></td><td title=\"Index: [3, 7]&#10;Color: (65, 105, 225)\" style=\"width: 20px; height: 20px;background-color: rgb(65, 105, 225);\"></td></tr><tr><td title=\"Index: [4, 0]&#10;Color: (65, 105, 225)\" style=\"width: 20px; height: 20px;background-color: rgb(65, 105, 225);\"></td><td title=\"Index: [4, 1]&#10;Color: (65, 105, 225)\" style=\"width: 20px; height: 20px;background-color: rgb(65, 105, 225);\"></td><td title=\"Index: [4, 2]&#10;Color: (65, 105, 225)\" style=\"width: 20px; height: 20px;background-color: rgb(65, 105, 225);\"></td><td title=\"Index: [4, 3]&#10;Color: (65, 105, 225)\" style=\"width: 20px; height: 20px;background-color: rgb(65, 105, 225);\"></td><td title=\"Index: [4, 4]&#10;Color: (65, 105, 225)\" style=\"width: 20px; height: 20px;background-color: rgb(65, 105, 225);\"></td><td title=\"Index: [4, 5]&#10;Color: (65, 105, 225)\" style=\"width: 20px; height: 20px;background-color: rgb(65, 105, 225);\"></td><td title=\"Index: [4, 6]&#10;Color: (65, 105, 225)\" style=\"width: 20px; height: 20px;background-color: rgb(65, 105, 225);\"></td><td title=\"Index: [4, 7]&#10;Color: (65, 105, 225)\" style=\"width: 20px; height: 20px;background-color: rgb(65, 105, 225);\"></td></tr><tr><td title=\"Index: [5, 0]&#10;Color: (65, 105, 225)\" style=\"width: 20px; height: 20px;background-color: rgb(65, 105, 225);\"></td><td title=\"Index: [5, 1]&#10;Color: (65, 105, 225)\" style=\"width: 20px; height: 20px;background-color: rgb(65, 105, 225);\"></td><td title=\"Index: [5, 2]&#10;Color: (65, 105, 225)\" style=\"width: 20px; height: 20px;background-color: rgb(65, 105, 225);\"></td><td title=\"Index: [5, 3]&#10;Color: (65, 105, 225)\" style=\"width: 20px; height: 20px;background-color: rgb(65, 105, 225);\"></td><td title=\"Index: [5, 4]&#10;Color: (65, 105, 225)\" style=\"width: 20px; height: 20px;background-color: rgb(65, 105, 225);\"></td><td title=\"Index: [5, 5]&#10;Color: (65, 105, 225)\" style=\"width: 20px; height: 20px;background-color: rgb(65, 105, 225);\"></td><td title=\"Index: [5, 6]&#10;Color: (65, 105, 225)\" style=\"width: 20px; height: 20px;background-color: rgb(65, 105, 225);\"></td><td title=\"Index: [5, 7]&#10;Color: (65, 105, 225)\" style=\"width: 20px; height: 20px;background-color: rgb(65, 105, 225);\"></td></tr></tbody></table>"
      ],
      "text/plain": [
       "<IPython.core.display.HTML object>"
      ]
     },
     "metadata": {},
     "output_type": "display_data"
    }
   ],
   "source": [
    "grid = BlockGrid(8, 6, fill=colors.RoyalBlue)\n",
    "grid.show()"
   ]
  },
  {
   "cell_type": "code",
   "execution_count": 143,
   "metadata": {},
   "outputs": [
    {
     "data": {
      "text/html": [
       "<style type=\"text/css\">table.blockgrid {border: none;} .blockgrid tr {border: none;} .blockgrid td {padding: 0px;} #blocks7c758d2b-17e1-4b68-bc6a-b6301fd76930 td {border: 1px solid white;}</style><table id=\"blocks7c758d2b-17e1-4b68-bc6a-b6301fd76930\" class=\"blockgrid\"><tbody><tr><td title=\"Index: [0, 0]&#10;Color: (65, 105, 225)\" style=\"width: 20px; height: 20px;background-color: rgb(65, 105, 225);\"></td><td title=\"Index: [0, 1]&#10;Color: (255, 0, 0)\" style=\"width: 20px; height: 20px;background-color: rgb(255, 0, 0);\"></td><td title=\"Index: [0, 2]&#10;Color: (65, 105, 225)\" style=\"width: 20px; height: 20px;background-color: rgb(65, 105, 225);\"></td><td title=\"Index: [0, 3]&#10;Color: (255, 0, 0)\" style=\"width: 20px; height: 20px;background-color: rgb(255, 0, 0);\"></td><td title=\"Index: [0, 4]&#10;Color: (65, 105, 225)\" style=\"width: 20px; height: 20px;background-color: rgb(65, 105, 225);\"></td><td title=\"Index: [0, 5]&#10;Color: (255, 0, 0)\" style=\"width: 20px; height: 20px;background-color: rgb(255, 0, 0);\"></td><td title=\"Index: [0, 6]&#10;Color: (65, 105, 225)\" style=\"width: 20px; height: 20px;background-color: rgb(65, 105, 225);\"></td><td title=\"Index: [0, 7]&#10;Color: (255, 0, 0)\" style=\"width: 20px; height: 20px;background-color: rgb(255, 0, 0);\"></td></tr><tr><td title=\"Index: [1, 0]&#10;Color: (255, 0, 0)\" style=\"width: 20px; height: 20px;background-color: rgb(255, 0, 0);\"></td><td title=\"Index: [1, 1]&#10;Color: (65, 105, 225)\" style=\"width: 20px; height: 20px;background-color: rgb(65, 105, 225);\"></td><td title=\"Index: [1, 2]&#10;Color: (255, 0, 0)\" style=\"width: 20px; height: 20px;background-color: rgb(255, 0, 0);\"></td><td title=\"Index: [1, 3]&#10;Color: (65, 105, 225)\" style=\"width: 20px; height: 20px;background-color: rgb(65, 105, 225);\"></td><td title=\"Index: [1, 4]&#10;Color: (255, 0, 0)\" style=\"width: 20px; height: 20px;background-color: rgb(255, 0, 0);\"></td><td title=\"Index: [1, 5]&#10;Color: (65, 105, 225)\" style=\"width: 20px; height: 20px;background-color: rgb(65, 105, 225);\"></td><td title=\"Index: [1, 6]&#10;Color: (255, 0, 0)\" style=\"width: 20px; height: 20px;background-color: rgb(255, 0, 0);\"></td><td title=\"Index: [1, 7]&#10;Color: (65, 105, 225)\" style=\"width: 20px; height: 20px;background-color: rgb(65, 105, 225);\"></td></tr><tr><td title=\"Index: [2, 0]&#10;Color: (65, 105, 225)\" style=\"width: 20px; height: 20px;background-color: rgb(65, 105, 225);\"></td><td title=\"Index: [2, 1]&#10;Color: (255, 0, 0)\" style=\"width: 20px; height: 20px;background-color: rgb(255, 0, 0);\"></td><td title=\"Index: [2, 2]&#10;Color: (65, 105, 225)\" style=\"width: 20px; height: 20px;background-color: rgb(65, 105, 225);\"></td><td title=\"Index: [2, 3]&#10;Color: (255, 0, 0)\" style=\"width: 20px; height: 20px;background-color: rgb(255, 0, 0);\"></td><td title=\"Index: [2, 4]&#10;Color: (65, 105, 225)\" style=\"width: 20px; height: 20px;background-color: rgb(65, 105, 225);\"></td><td title=\"Index: [2, 5]&#10;Color: (255, 0, 0)\" style=\"width: 20px; height: 20px;background-color: rgb(255, 0, 0);\"></td><td title=\"Index: [2, 6]&#10;Color: (65, 105, 225)\" style=\"width: 20px; height: 20px;background-color: rgb(65, 105, 225);\"></td><td title=\"Index: [2, 7]&#10;Color: (255, 0, 0)\" style=\"width: 20px; height: 20px;background-color: rgb(255, 0, 0);\"></td></tr><tr><td title=\"Index: [3, 0]&#10;Color: (255, 0, 0)\" style=\"width: 20px; height: 20px;background-color: rgb(255, 0, 0);\"></td><td title=\"Index: [3, 1]&#10;Color: (65, 105, 225)\" style=\"width: 20px; height: 20px;background-color: rgb(65, 105, 225);\"></td><td title=\"Index: [3, 2]&#10;Color: (255, 0, 0)\" style=\"width: 20px; height: 20px;background-color: rgb(255, 0, 0);\"></td><td title=\"Index: [3, 3]&#10;Color: (65, 105, 225)\" style=\"width: 20px; height: 20px;background-color: rgb(65, 105, 225);\"></td><td title=\"Index: [3, 4]&#10;Color: (255, 0, 0)\" style=\"width: 20px; height: 20px;background-color: rgb(255, 0, 0);\"></td><td title=\"Index: [3, 5]&#10;Color: (65, 105, 225)\" style=\"width: 20px; height: 20px;background-color: rgb(65, 105, 225);\"></td><td title=\"Index: [3, 6]&#10;Color: (255, 0, 0)\" style=\"width: 20px; height: 20px;background-color: rgb(255, 0, 0);\"></td><td title=\"Index: [3, 7]&#10;Color: (65, 105, 225)\" style=\"width: 20px; height: 20px;background-color: rgb(65, 105, 225);\"></td></tr><tr><td title=\"Index: [4, 0]&#10;Color: (65, 105, 225)\" style=\"width: 20px; height: 20px;background-color: rgb(65, 105, 225);\"></td><td title=\"Index: [4, 1]&#10;Color: (255, 0, 0)\" style=\"width: 20px; height: 20px;background-color: rgb(255, 0, 0);\"></td><td title=\"Index: [4, 2]&#10;Color: (65, 105, 225)\" style=\"width: 20px; height: 20px;background-color: rgb(65, 105, 225);\"></td><td title=\"Index: [4, 3]&#10;Color: (255, 0, 0)\" style=\"width: 20px; height: 20px;background-color: rgb(255, 0, 0);\"></td><td title=\"Index: [4, 4]&#10;Color: (65, 105, 225)\" style=\"width: 20px; height: 20px;background-color: rgb(65, 105, 225);\"></td><td title=\"Index: [4, 5]&#10;Color: (255, 0, 0)\" style=\"width: 20px; height: 20px;background-color: rgb(255, 0, 0);\"></td><td title=\"Index: [4, 6]&#10;Color: (65, 105, 225)\" style=\"width: 20px; height: 20px;background-color: rgb(65, 105, 225);\"></td><td title=\"Index: [4, 7]&#10;Color: (255, 0, 0)\" style=\"width: 20px; height: 20px;background-color: rgb(255, 0, 0);\"></td></tr><tr><td title=\"Index: [5, 0]&#10;Color: (255, 0, 0)\" style=\"width: 20px; height: 20px;background-color: rgb(255, 0, 0);\"></td><td title=\"Index: [5, 1]&#10;Color: (65, 105, 225)\" style=\"width: 20px; height: 20px;background-color: rgb(65, 105, 225);\"></td><td title=\"Index: [5, 2]&#10;Color: (255, 0, 0)\" style=\"width: 20px; height: 20px;background-color: rgb(255, 0, 0);\"></td><td title=\"Index: [5, 3]&#10;Color: (65, 105, 225)\" style=\"width: 20px; height: 20px;background-color: rgb(65, 105, 225);\"></td><td title=\"Index: [5, 4]&#10;Color: (255, 0, 0)\" style=\"width: 20px; height: 20px;background-color: rgb(255, 0, 0);\"></td><td title=\"Index: [5, 5]&#10;Color: (65, 105, 225)\" style=\"width: 20px; height: 20px;background-color: rgb(65, 105, 225);\"></td><td title=\"Index: [5, 6]&#10;Color: (255, 0, 0)\" style=\"width: 20px; height: 20px;background-color: rgb(255, 0, 0);\"></td><td title=\"Index: [5, 7]&#10;Color: (65, 105, 225)\" style=\"width: 20px; height: 20px;background-color: rgb(65, 105, 225);\"></td></tr></tbody></table>"
      ],
      "text/plain": [
       "<IPython.core.display.HTML object>"
      ]
     },
     "metadata": {},
     "output_type": "display_data"
    }
   ],
   "source": [
    "for block in grid:\n",
    "    if (block.row + block.col) % 2:\n",
    "        block.rgb = colors.Red\n",
    "grid.show()"
   ]
  },
  {
   "cell_type": "code",
   "execution_count": 144,
   "metadata": {},
   "outputs": [],
   "source": [
    "colonna = grid[:,-1]"
   ]
  },
  {
   "cell_type": "code",
   "execution_count": 145,
   "metadata": {},
   "outputs": [],
   "source": [
    "for block in colonna:\n",
    "    block.rgb = colors.BlueViolet"
   ]
  },
  {
   "cell_type": "code",
   "execution_count": 146,
   "metadata": {},
   "outputs": [
    {
     "data": {
      "text/html": [
       "<style type=\"text/css\">table.blockgrid {border: none;} .blockgrid tr {border: none;} .blockgrid td {padding: 0px;} #blocks52d0266e-39e0-4004-be86-723482f6d9c8 td {border: 1px solid white;}</style><table id=\"blocks52d0266e-39e0-4004-be86-723482f6d9c8\" class=\"blockgrid\"><tbody><tr><td title=\"Index: [0, 0]&#10;Color: (65, 105, 225)\" style=\"width: 20px; height: 20px;background-color: rgb(65, 105, 225);\"></td><td title=\"Index: [0, 1]&#10;Color: (255, 0, 0)\" style=\"width: 20px; height: 20px;background-color: rgb(255, 0, 0);\"></td><td title=\"Index: [0, 2]&#10;Color: (65, 105, 225)\" style=\"width: 20px; height: 20px;background-color: rgb(65, 105, 225);\"></td><td title=\"Index: [0, 3]&#10;Color: (255, 0, 0)\" style=\"width: 20px; height: 20px;background-color: rgb(255, 0, 0);\"></td><td title=\"Index: [0, 4]&#10;Color: (65, 105, 225)\" style=\"width: 20px; height: 20px;background-color: rgb(65, 105, 225);\"></td><td title=\"Index: [0, 5]&#10;Color: (255, 0, 0)\" style=\"width: 20px; height: 20px;background-color: rgb(255, 0, 0);\"></td><td title=\"Index: [0, 6]&#10;Color: (65, 105, 225)\" style=\"width: 20px; height: 20px;background-color: rgb(65, 105, 225);\"></td><td title=\"Index: [0, 7]&#10;Color: (138, 43, 226)\" style=\"width: 20px; height: 20px;background-color: rgb(138, 43, 226);\"></td></tr><tr><td title=\"Index: [1, 0]&#10;Color: (255, 0, 0)\" style=\"width: 20px; height: 20px;background-color: rgb(255, 0, 0);\"></td><td title=\"Index: [1, 1]&#10;Color: (65, 105, 225)\" style=\"width: 20px; height: 20px;background-color: rgb(65, 105, 225);\"></td><td title=\"Index: [1, 2]&#10;Color: (255, 0, 0)\" style=\"width: 20px; height: 20px;background-color: rgb(255, 0, 0);\"></td><td title=\"Index: [1, 3]&#10;Color: (65, 105, 225)\" style=\"width: 20px; height: 20px;background-color: rgb(65, 105, 225);\"></td><td title=\"Index: [1, 4]&#10;Color: (255, 0, 0)\" style=\"width: 20px; height: 20px;background-color: rgb(255, 0, 0);\"></td><td title=\"Index: [1, 5]&#10;Color: (65, 105, 225)\" style=\"width: 20px; height: 20px;background-color: rgb(65, 105, 225);\"></td><td title=\"Index: [1, 6]&#10;Color: (255, 0, 0)\" style=\"width: 20px; height: 20px;background-color: rgb(255, 0, 0);\"></td><td title=\"Index: [1, 7]&#10;Color: (138, 43, 226)\" style=\"width: 20px; height: 20px;background-color: rgb(138, 43, 226);\"></td></tr><tr><td title=\"Index: [2, 0]&#10;Color: (65, 105, 225)\" style=\"width: 20px; height: 20px;background-color: rgb(65, 105, 225);\"></td><td title=\"Index: [2, 1]&#10;Color: (255, 0, 0)\" style=\"width: 20px; height: 20px;background-color: rgb(255, 0, 0);\"></td><td title=\"Index: [2, 2]&#10;Color: (65, 105, 225)\" style=\"width: 20px; height: 20px;background-color: rgb(65, 105, 225);\"></td><td title=\"Index: [2, 3]&#10;Color: (255, 0, 0)\" style=\"width: 20px; height: 20px;background-color: rgb(255, 0, 0);\"></td><td title=\"Index: [2, 4]&#10;Color: (65, 105, 225)\" style=\"width: 20px; height: 20px;background-color: rgb(65, 105, 225);\"></td><td title=\"Index: [2, 5]&#10;Color: (255, 0, 0)\" style=\"width: 20px; height: 20px;background-color: rgb(255, 0, 0);\"></td><td title=\"Index: [2, 6]&#10;Color: (65, 105, 225)\" style=\"width: 20px; height: 20px;background-color: rgb(65, 105, 225);\"></td><td title=\"Index: [2, 7]&#10;Color: (138, 43, 226)\" style=\"width: 20px; height: 20px;background-color: rgb(138, 43, 226);\"></td></tr><tr><td title=\"Index: [3, 0]&#10;Color: (255, 0, 0)\" style=\"width: 20px; height: 20px;background-color: rgb(255, 0, 0);\"></td><td title=\"Index: [3, 1]&#10;Color: (65, 105, 225)\" style=\"width: 20px; height: 20px;background-color: rgb(65, 105, 225);\"></td><td title=\"Index: [3, 2]&#10;Color: (255, 0, 0)\" style=\"width: 20px; height: 20px;background-color: rgb(255, 0, 0);\"></td><td title=\"Index: [3, 3]&#10;Color: (65, 105, 225)\" style=\"width: 20px; height: 20px;background-color: rgb(65, 105, 225);\"></td><td title=\"Index: [3, 4]&#10;Color: (255, 0, 0)\" style=\"width: 20px; height: 20px;background-color: rgb(255, 0, 0);\"></td><td title=\"Index: [3, 5]&#10;Color: (65, 105, 225)\" style=\"width: 20px; height: 20px;background-color: rgb(65, 105, 225);\"></td><td title=\"Index: [3, 6]&#10;Color: (255, 0, 0)\" style=\"width: 20px; height: 20px;background-color: rgb(255, 0, 0);\"></td><td title=\"Index: [3, 7]&#10;Color: (138, 43, 226)\" style=\"width: 20px; height: 20px;background-color: rgb(138, 43, 226);\"></td></tr><tr><td title=\"Index: [4, 0]&#10;Color: (65, 105, 225)\" style=\"width: 20px; height: 20px;background-color: rgb(65, 105, 225);\"></td><td title=\"Index: [4, 1]&#10;Color: (255, 0, 0)\" style=\"width: 20px; height: 20px;background-color: rgb(255, 0, 0);\"></td><td title=\"Index: [4, 2]&#10;Color: (65, 105, 225)\" style=\"width: 20px; height: 20px;background-color: rgb(65, 105, 225);\"></td><td title=\"Index: [4, 3]&#10;Color: (255, 0, 0)\" style=\"width: 20px; height: 20px;background-color: rgb(255, 0, 0);\"></td><td title=\"Index: [4, 4]&#10;Color: (65, 105, 225)\" style=\"width: 20px; height: 20px;background-color: rgb(65, 105, 225);\"></td><td title=\"Index: [4, 5]&#10;Color: (255, 0, 0)\" style=\"width: 20px; height: 20px;background-color: rgb(255, 0, 0);\"></td><td title=\"Index: [4, 6]&#10;Color: (65, 105, 225)\" style=\"width: 20px; height: 20px;background-color: rgb(65, 105, 225);\"></td><td title=\"Index: [4, 7]&#10;Color: (138, 43, 226)\" style=\"width: 20px; height: 20px;background-color: rgb(138, 43, 226);\"></td></tr><tr><td title=\"Index: [5, 0]&#10;Color: (255, 0, 0)\" style=\"width: 20px; height: 20px;background-color: rgb(255, 0, 0);\"></td><td title=\"Index: [5, 1]&#10;Color: (65, 105, 225)\" style=\"width: 20px; height: 20px;background-color: rgb(65, 105, 225);\"></td><td title=\"Index: [5, 2]&#10;Color: (255, 0, 0)\" style=\"width: 20px; height: 20px;background-color: rgb(255, 0, 0);\"></td><td title=\"Index: [5, 3]&#10;Color: (65, 105, 225)\" style=\"width: 20px; height: 20px;background-color: rgb(65, 105, 225);\"></td><td title=\"Index: [5, 4]&#10;Color: (255, 0, 0)\" style=\"width: 20px; height: 20px;background-color: rgb(255, 0, 0);\"></td><td title=\"Index: [5, 5]&#10;Color: (65, 105, 225)\" style=\"width: 20px; height: 20px;background-color: rgb(65, 105, 225);\"></td><td title=\"Index: [5, 6]&#10;Color: (255, 0, 0)\" style=\"width: 20px; height: 20px;background-color: rgb(255, 0, 0);\"></td><td title=\"Index: [5, 7]&#10;Color: (138, 43, 226)\" style=\"width: 20px; height: 20px;background-color: rgb(138, 43, 226);\"></td></tr></tbody></table>"
      ],
      "text/plain": [
       "<ipythonblocks.ipythonblocks.BlockGrid at 0x1c0f7975580>"
      ]
     },
     "execution_count": 146,
     "metadata": {},
     "output_type": "execute_result"
    }
   ],
   "source": [
    "grid"
   ]
  },
  {
   "cell_type": "code",
   "execution_count": 147,
   "metadata": {},
   "outputs": [],
   "source": [
    "def colora(griglia, colore):\n",
    "    for blocco in griglia:\n",
    "        blocco.rgb = colore"
   ]
  },
  {
   "cell_type": "code",
   "execution_count": 148,
   "metadata": {},
   "outputs": [],
   "source": [
    "def bordo(griglia, colore):\n",
    "    \n",
    "    colonna = griglia[:,0]\n",
    "    colora(colonna, colore)\n",
    "\n",
    "    colonna = griglia[:,-1]\n",
    "    colora(colonna, colore)\n",
    "\n",
    "    riga = griglia[0,:]\n",
    "    colora(riga, colore)\n",
    "\n",
    "    riga = griglia[-1, :]\n",
    "    colora(riga, colore)"
   ]
  },
  {
   "cell_type": "code",
   "execution_count": 149,
   "metadata": {},
   "outputs": [
    {
     "data": {
      "text/html": [
       "<style type=\"text/css\">table.blockgrid {border: none;} .blockgrid tr {border: none;} .blockgrid td {padding: 0px;} #blocks4467980d-014c-4660-bbfa-6049e37b2a6d td {border: 1px solid white;}</style><table id=\"blocks4467980d-014c-4660-bbfa-6049e37b2a6d\" class=\"blockgrid\"><tbody><tr><td title=\"Index: [0, 0]&#10;Color: (138, 43, 226)\" style=\"width: 20px; height: 20px;background-color: rgb(138, 43, 226);\"></td><td title=\"Index: [0, 1]&#10;Color: (138, 43, 226)\" style=\"width: 20px; height: 20px;background-color: rgb(138, 43, 226);\"></td><td title=\"Index: [0, 2]&#10;Color: (138, 43, 226)\" style=\"width: 20px; height: 20px;background-color: rgb(138, 43, 226);\"></td><td title=\"Index: [0, 3]&#10;Color: (138, 43, 226)\" style=\"width: 20px; height: 20px;background-color: rgb(138, 43, 226);\"></td><td title=\"Index: [0, 4]&#10;Color: (138, 43, 226)\" style=\"width: 20px; height: 20px;background-color: rgb(138, 43, 226);\"></td><td title=\"Index: [0, 5]&#10;Color: (138, 43, 226)\" style=\"width: 20px; height: 20px;background-color: rgb(138, 43, 226);\"></td><td title=\"Index: [0, 6]&#10;Color: (138, 43, 226)\" style=\"width: 20px; height: 20px;background-color: rgb(138, 43, 226);\"></td><td title=\"Index: [0, 7]&#10;Color: (138, 43, 226)\" style=\"width: 20px; height: 20px;background-color: rgb(138, 43, 226);\"></td><td title=\"Index: [0, 8]&#10;Color: (138, 43, 226)\" style=\"width: 20px; height: 20px;background-color: rgb(138, 43, 226);\"></td><td title=\"Index: [0, 9]&#10;Color: (138, 43, 226)\" style=\"width: 20px; height: 20px;background-color: rgb(138, 43, 226);\"></td></tr><tr><td title=\"Index: [1, 0]&#10;Color: (138, 43, 226)\" style=\"width: 20px; height: 20px;background-color: rgb(138, 43, 226);\"></td><td title=\"Index: [1, 1]&#10;Color: (138, 43, 226)\" style=\"width: 20px; height: 20px;background-color: rgb(138, 43, 226);\"></td><td title=\"Index: [1, 2]&#10;Color: (138, 43, 226)\" style=\"width: 20px; height: 20px;background-color: rgb(138, 43, 226);\"></td><td title=\"Index: [1, 3]&#10;Color: (138, 43, 226)\" style=\"width: 20px; height: 20px;background-color: rgb(138, 43, 226);\"></td><td title=\"Index: [1, 4]&#10;Color: (138, 43, 226)\" style=\"width: 20px; height: 20px;background-color: rgb(138, 43, 226);\"></td><td title=\"Index: [1, 5]&#10;Color: (138, 43, 226)\" style=\"width: 20px; height: 20px;background-color: rgb(138, 43, 226);\"></td><td title=\"Index: [1, 6]&#10;Color: (138, 43, 226)\" style=\"width: 20px; height: 20px;background-color: rgb(138, 43, 226);\"></td><td title=\"Index: [1, 7]&#10;Color: (138, 43, 226)\" style=\"width: 20px; height: 20px;background-color: rgb(138, 43, 226);\"></td><td title=\"Index: [1, 8]&#10;Color: (138, 43, 226)\" style=\"width: 20px; height: 20px;background-color: rgb(138, 43, 226);\"></td><td title=\"Index: [1, 9]&#10;Color: (138, 43, 226)\" style=\"width: 20px; height: 20px;background-color: rgb(138, 43, 226);\"></td></tr><tr><td title=\"Index: [2, 0]&#10;Color: (138, 43, 226)\" style=\"width: 20px; height: 20px;background-color: rgb(138, 43, 226);\"></td><td title=\"Index: [2, 1]&#10;Color: (138, 43, 226)\" style=\"width: 20px; height: 20px;background-color: rgb(138, 43, 226);\"></td><td title=\"Index: [2, 2]&#10;Color: (138, 43, 226)\" style=\"width: 20px; height: 20px;background-color: rgb(138, 43, 226);\"></td><td title=\"Index: [2, 3]&#10;Color: (138, 43, 226)\" style=\"width: 20px; height: 20px;background-color: rgb(138, 43, 226);\"></td><td title=\"Index: [2, 4]&#10;Color: (138, 43, 226)\" style=\"width: 20px; height: 20px;background-color: rgb(138, 43, 226);\"></td><td title=\"Index: [2, 5]&#10;Color: (138, 43, 226)\" style=\"width: 20px; height: 20px;background-color: rgb(138, 43, 226);\"></td><td title=\"Index: [2, 6]&#10;Color: (138, 43, 226)\" style=\"width: 20px; height: 20px;background-color: rgb(138, 43, 226);\"></td><td title=\"Index: [2, 7]&#10;Color: (138, 43, 226)\" style=\"width: 20px; height: 20px;background-color: rgb(138, 43, 226);\"></td><td title=\"Index: [2, 8]&#10;Color: (138, 43, 226)\" style=\"width: 20px; height: 20px;background-color: rgb(138, 43, 226);\"></td><td title=\"Index: [2, 9]&#10;Color: (138, 43, 226)\" style=\"width: 20px; height: 20px;background-color: rgb(138, 43, 226);\"></td></tr><tr><td title=\"Index: [3, 0]&#10;Color: (138, 43, 226)\" style=\"width: 20px; height: 20px;background-color: rgb(138, 43, 226);\"></td><td title=\"Index: [3, 1]&#10;Color: (138, 43, 226)\" style=\"width: 20px; height: 20px;background-color: rgb(138, 43, 226);\"></td><td title=\"Index: [3, 2]&#10;Color: (138, 43, 226)\" style=\"width: 20px; height: 20px;background-color: rgb(138, 43, 226);\"></td><td title=\"Index: [3, 3]&#10;Color: (138, 43, 226)\" style=\"width: 20px; height: 20px;background-color: rgb(138, 43, 226);\"></td><td title=\"Index: [3, 4]&#10;Color: (138, 43, 226)\" style=\"width: 20px; height: 20px;background-color: rgb(138, 43, 226);\"></td><td title=\"Index: [3, 5]&#10;Color: (138, 43, 226)\" style=\"width: 20px; height: 20px;background-color: rgb(138, 43, 226);\"></td><td title=\"Index: [3, 6]&#10;Color: (138, 43, 226)\" style=\"width: 20px; height: 20px;background-color: rgb(138, 43, 226);\"></td><td title=\"Index: [3, 7]&#10;Color: (138, 43, 226)\" style=\"width: 20px; height: 20px;background-color: rgb(138, 43, 226);\"></td><td title=\"Index: [3, 8]&#10;Color: (138, 43, 226)\" style=\"width: 20px; height: 20px;background-color: rgb(138, 43, 226);\"></td><td title=\"Index: [3, 9]&#10;Color: (138, 43, 226)\" style=\"width: 20px; height: 20px;background-color: rgb(138, 43, 226);\"></td></tr><tr><td title=\"Index: [4, 0]&#10;Color: (138, 43, 226)\" style=\"width: 20px; height: 20px;background-color: rgb(138, 43, 226);\"></td><td title=\"Index: [4, 1]&#10;Color: (138, 43, 226)\" style=\"width: 20px; height: 20px;background-color: rgb(138, 43, 226);\"></td><td title=\"Index: [4, 2]&#10;Color: (138, 43, 226)\" style=\"width: 20px; height: 20px;background-color: rgb(138, 43, 226);\"></td><td title=\"Index: [4, 3]&#10;Color: (138, 43, 226)\" style=\"width: 20px; height: 20px;background-color: rgb(138, 43, 226);\"></td><td title=\"Index: [4, 4]&#10;Color: (138, 43, 226)\" style=\"width: 20px; height: 20px;background-color: rgb(138, 43, 226);\"></td><td title=\"Index: [4, 5]&#10;Color: (138, 43, 226)\" style=\"width: 20px; height: 20px;background-color: rgb(138, 43, 226);\"></td><td title=\"Index: [4, 6]&#10;Color: (138, 43, 226)\" style=\"width: 20px; height: 20px;background-color: rgb(138, 43, 226);\"></td><td title=\"Index: [4, 7]&#10;Color: (138, 43, 226)\" style=\"width: 20px; height: 20px;background-color: rgb(138, 43, 226);\"></td><td title=\"Index: [4, 8]&#10;Color: (138, 43, 226)\" style=\"width: 20px; height: 20px;background-color: rgb(138, 43, 226);\"></td><td title=\"Index: [4, 9]&#10;Color: (138, 43, 226)\" style=\"width: 20px; height: 20px;background-color: rgb(138, 43, 226);\"></td></tr><tr><td title=\"Index: [5, 0]&#10;Color: (138, 43, 226)\" style=\"width: 20px; height: 20px;background-color: rgb(138, 43, 226);\"></td><td title=\"Index: [5, 1]&#10;Color: (138, 43, 226)\" style=\"width: 20px; height: 20px;background-color: rgb(138, 43, 226);\"></td><td title=\"Index: [5, 2]&#10;Color: (138, 43, 226)\" style=\"width: 20px; height: 20px;background-color: rgb(138, 43, 226);\"></td><td title=\"Index: [5, 3]&#10;Color: (138, 43, 226)\" style=\"width: 20px; height: 20px;background-color: rgb(138, 43, 226);\"></td><td title=\"Index: [5, 4]&#10;Color: (138, 43, 226)\" style=\"width: 20px; height: 20px;background-color: rgb(138, 43, 226);\"></td><td title=\"Index: [5, 5]&#10;Color: (138, 43, 226)\" style=\"width: 20px; height: 20px;background-color: rgb(138, 43, 226);\"></td><td title=\"Index: [5, 6]&#10;Color: (138, 43, 226)\" style=\"width: 20px; height: 20px;background-color: rgb(138, 43, 226);\"></td><td title=\"Index: [5, 7]&#10;Color: (138, 43, 226)\" style=\"width: 20px; height: 20px;background-color: rgb(138, 43, 226);\"></td><td title=\"Index: [5, 8]&#10;Color: (138, 43, 226)\" style=\"width: 20px; height: 20px;background-color: rgb(138, 43, 226);\"></td><td title=\"Index: [5, 9]&#10;Color: (138, 43, 226)\" style=\"width: 20px; height: 20px;background-color: rgb(138, 43, 226);\"></td></tr><tr><td title=\"Index: [6, 0]&#10;Color: (138, 43, 226)\" style=\"width: 20px; height: 20px;background-color: rgb(138, 43, 226);\"></td><td title=\"Index: [6, 1]&#10;Color: (138, 43, 226)\" style=\"width: 20px; height: 20px;background-color: rgb(138, 43, 226);\"></td><td title=\"Index: [6, 2]&#10;Color: (138, 43, 226)\" style=\"width: 20px; height: 20px;background-color: rgb(138, 43, 226);\"></td><td title=\"Index: [6, 3]&#10;Color: (138, 43, 226)\" style=\"width: 20px; height: 20px;background-color: rgb(138, 43, 226);\"></td><td title=\"Index: [6, 4]&#10;Color: (138, 43, 226)\" style=\"width: 20px; height: 20px;background-color: rgb(138, 43, 226);\"></td><td title=\"Index: [6, 5]&#10;Color: (138, 43, 226)\" style=\"width: 20px; height: 20px;background-color: rgb(138, 43, 226);\"></td><td title=\"Index: [6, 6]&#10;Color: (138, 43, 226)\" style=\"width: 20px; height: 20px;background-color: rgb(138, 43, 226);\"></td><td title=\"Index: [6, 7]&#10;Color: (138, 43, 226)\" style=\"width: 20px; height: 20px;background-color: rgb(138, 43, 226);\"></td><td title=\"Index: [6, 8]&#10;Color: (138, 43, 226)\" style=\"width: 20px; height: 20px;background-color: rgb(138, 43, 226);\"></td><td title=\"Index: [6, 9]&#10;Color: (138, 43, 226)\" style=\"width: 20px; height: 20px;background-color: rgb(138, 43, 226);\"></td></tr></tbody></table>"
      ],
      "text/plain": [
       "<IPython.core.display.HTML object>"
      ]
     },
     "metadata": {},
     "output_type": "display_data"
    }
   ],
   "source": [
    "nuova_griglia = BlockGrid(10, 7, fill=colors.BlueViolet)\n",
    "nuova_griglia.show()"
   ]
  },
  {
   "cell_type": "code",
   "execution_count": 150,
   "metadata": {},
   "outputs": [],
   "source": [
    "colore_bordo = colors.RosyBrown\n",
    "bordo(nuova_griglia, colore_bordo)"
   ]
  },
  {
   "cell_type": "code",
   "execution_count": 151,
   "metadata": {},
   "outputs": [
    {
     "data": {
      "text/html": [
       "<style type=\"text/css\">table.blockgrid {border: none;} .blockgrid tr {border: none;} .blockgrid td {padding: 0px;} #blocksc15f753e-c59a-44ba-a49b-f441b27e284e td {border: 1px solid white;}</style><table id=\"blocksc15f753e-c59a-44ba-a49b-f441b27e284e\" class=\"blockgrid\"><tbody><tr><td title=\"Index: [0, 0]&#10;Color: (188, 143, 143)\" style=\"width: 20px; height: 20px;background-color: rgb(188, 143, 143);\"></td><td title=\"Index: [0, 1]&#10;Color: (188, 143, 143)\" style=\"width: 20px; height: 20px;background-color: rgb(188, 143, 143);\"></td><td title=\"Index: [0, 2]&#10;Color: (188, 143, 143)\" style=\"width: 20px; height: 20px;background-color: rgb(188, 143, 143);\"></td><td title=\"Index: [0, 3]&#10;Color: (188, 143, 143)\" style=\"width: 20px; height: 20px;background-color: rgb(188, 143, 143);\"></td><td title=\"Index: [0, 4]&#10;Color: (188, 143, 143)\" style=\"width: 20px; height: 20px;background-color: rgb(188, 143, 143);\"></td><td title=\"Index: [0, 5]&#10;Color: (188, 143, 143)\" style=\"width: 20px; height: 20px;background-color: rgb(188, 143, 143);\"></td><td title=\"Index: [0, 6]&#10;Color: (188, 143, 143)\" style=\"width: 20px; height: 20px;background-color: rgb(188, 143, 143);\"></td><td title=\"Index: [0, 7]&#10;Color: (188, 143, 143)\" style=\"width: 20px; height: 20px;background-color: rgb(188, 143, 143);\"></td><td title=\"Index: [0, 8]&#10;Color: (188, 143, 143)\" style=\"width: 20px; height: 20px;background-color: rgb(188, 143, 143);\"></td><td title=\"Index: [0, 9]&#10;Color: (188, 143, 143)\" style=\"width: 20px; height: 20px;background-color: rgb(188, 143, 143);\"></td></tr><tr><td title=\"Index: [1, 0]&#10;Color: (188, 143, 143)\" style=\"width: 20px; height: 20px;background-color: rgb(188, 143, 143);\"></td><td title=\"Index: [1, 1]&#10;Color: (138, 43, 226)\" style=\"width: 20px; height: 20px;background-color: rgb(138, 43, 226);\"></td><td title=\"Index: [1, 2]&#10;Color: (138, 43, 226)\" style=\"width: 20px; height: 20px;background-color: rgb(138, 43, 226);\"></td><td title=\"Index: [1, 3]&#10;Color: (138, 43, 226)\" style=\"width: 20px; height: 20px;background-color: rgb(138, 43, 226);\"></td><td title=\"Index: [1, 4]&#10;Color: (138, 43, 226)\" style=\"width: 20px; height: 20px;background-color: rgb(138, 43, 226);\"></td><td title=\"Index: [1, 5]&#10;Color: (138, 43, 226)\" style=\"width: 20px; height: 20px;background-color: rgb(138, 43, 226);\"></td><td title=\"Index: [1, 6]&#10;Color: (138, 43, 226)\" style=\"width: 20px; height: 20px;background-color: rgb(138, 43, 226);\"></td><td title=\"Index: [1, 7]&#10;Color: (138, 43, 226)\" style=\"width: 20px; height: 20px;background-color: rgb(138, 43, 226);\"></td><td title=\"Index: [1, 8]&#10;Color: (138, 43, 226)\" style=\"width: 20px; height: 20px;background-color: rgb(138, 43, 226);\"></td><td title=\"Index: [1, 9]&#10;Color: (188, 143, 143)\" style=\"width: 20px; height: 20px;background-color: rgb(188, 143, 143);\"></td></tr><tr><td title=\"Index: [2, 0]&#10;Color: (188, 143, 143)\" style=\"width: 20px; height: 20px;background-color: rgb(188, 143, 143);\"></td><td title=\"Index: [2, 1]&#10;Color: (138, 43, 226)\" style=\"width: 20px; height: 20px;background-color: rgb(138, 43, 226);\"></td><td title=\"Index: [2, 2]&#10;Color: (138, 43, 226)\" style=\"width: 20px; height: 20px;background-color: rgb(138, 43, 226);\"></td><td title=\"Index: [2, 3]&#10;Color: (138, 43, 226)\" style=\"width: 20px; height: 20px;background-color: rgb(138, 43, 226);\"></td><td title=\"Index: [2, 4]&#10;Color: (138, 43, 226)\" style=\"width: 20px; height: 20px;background-color: rgb(138, 43, 226);\"></td><td title=\"Index: [2, 5]&#10;Color: (138, 43, 226)\" style=\"width: 20px; height: 20px;background-color: rgb(138, 43, 226);\"></td><td title=\"Index: [2, 6]&#10;Color: (138, 43, 226)\" style=\"width: 20px; height: 20px;background-color: rgb(138, 43, 226);\"></td><td title=\"Index: [2, 7]&#10;Color: (138, 43, 226)\" style=\"width: 20px; height: 20px;background-color: rgb(138, 43, 226);\"></td><td title=\"Index: [2, 8]&#10;Color: (138, 43, 226)\" style=\"width: 20px; height: 20px;background-color: rgb(138, 43, 226);\"></td><td title=\"Index: [2, 9]&#10;Color: (188, 143, 143)\" style=\"width: 20px; height: 20px;background-color: rgb(188, 143, 143);\"></td></tr><tr><td title=\"Index: [3, 0]&#10;Color: (188, 143, 143)\" style=\"width: 20px; height: 20px;background-color: rgb(188, 143, 143);\"></td><td title=\"Index: [3, 1]&#10;Color: (138, 43, 226)\" style=\"width: 20px; height: 20px;background-color: rgb(138, 43, 226);\"></td><td title=\"Index: [3, 2]&#10;Color: (138, 43, 226)\" style=\"width: 20px; height: 20px;background-color: rgb(138, 43, 226);\"></td><td title=\"Index: [3, 3]&#10;Color: (138, 43, 226)\" style=\"width: 20px; height: 20px;background-color: rgb(138, 43, 226);\"></td><td title=\"Index: [3, 4]&#10;Color: (138, 43, 226)\" style=\"width: 20px; height: 20px;background-color: rgb(138, 43, 226);\"></td><td title=\"Index: [3, 5]&#10;Color: (138, 43, 226)\" style=\"width: 20px; height: 20px;background-color: rgb(138, 43, 226);\"></td><td title=\"Index: [3, 6]&#10;Color: (138, 43, 226)\" style=\"width: 20px; height: 20px;background-color: rgb(138, 43, 226);\"></td><td title=\"Index: [3, 7]&#10;Color: (138, 43, 226)\" style=\"width: 20px; height: 20px;background-color: rgb(138, 43, 226);\"></td><td title=\"Index: [3, 8]&#10;Color: (138, 43, 226)\" style=\"width: 20px; height: 20px;background-color: rgb(138, 43, 226);\"></td><td title=\"Index: [3, 9]&#10;Color: (188, 143, 143)\" style=\"width: 20px; height: 20px;background-color: rgb(188, 143, 143);\"></td></tr><tr><td title=\"Index: [4, 0]&#10;Color: (188, 143, 143)\" style=\"width: 20px; height: 20px;background-color: rgb(188, 143, 143);\"></td><td title=\"Index: [4, 1]&#10;Color: (138, 43, 226)\" style=\"width: 20px; height: 20px;background-color: rgb(138, 43, 226);\"></td><td title=\"Index: [4, 2]&#10;Color: (138, 43, 226)\" style=\"width: 20px; height: 20px;background-color: rgb(138, 43, 226);\"></td><td title=\"Index: [4, 3]&#10;Color: (138, 43, 226)\" style=\"width: 20px; height: 20px;background-color: rgb(138, 43, 226);\"></td><td title=\"Index: [4, 4]&#10;Color: (138, 43, 226)\" style=\"width: 20px; height: 20px;background-color: rgb(138, 43, 226);\"></td><td title=\"Index: [4, 5]&#10;Color: (138, 43, 226)\" style=\"width: 20px; height: 20px;background-color: rgb(138, 43, 226);\"></td><td title=\"Index: [4, 6]&#10;Color: (138, 43, 226)\" style=\"width: 20px; height: 20px;background-color: rgb(138, 43, 226);\"></td><td title=\"Index: [4, 7]&#10;Color: (138, 43, 226)\" style=\"width: 20px; height: 20px;background-color: rgb(138, 43, 226);\"></td><td title=\"Index: [4, 8]&#10;Color: (138, 43, 226)\" style=\"width: 20px; height: 20px;background-color: rgb(138, 43, 226);\"></td><td title=\"Index: [4, 9]&#10;Color: (188, 143, 143)\" style=\"width: 20px; height: 20px;background-color: rgb(188, 143, 143);\"></td></tr><tr><td title=\"Index: [5, 0]&#10;Color: (188, 143, 143)\" style=\"width: 20px; height: 20px;background-color: rgb(188, 143, 143);\"></td><td title=\"Index: [5, 1]&#10;Color: (138, 43, 226)\" style=\"width: 20px; height: 20px;background-color: rgb(138, 43, 226);\"></td><td title=\"Index: [5, 2]&#10;Color: (138, 43, 226)\" style=\"width: 20px; height: 20px;background-color: rgb(138, 43, 226);\"></td><td title=\"Index: [5, 3]&#10;Color: (138, 43, 226)\" style=\"width: 20px; height: 20px;background-color: rgb(138, 43, 226);\"></td><td title=\"Index: [5, 4]&#10;Color: (138, 43, 226)\" style=\"width: 20px; height: 20px;background-color: rgb(138, 43, 226);\"></td><td title=\"Index: [5, 5]&#10;Color: (138, 43, 226)\" style=\"width: 20px; height: 20px;background-color: rgb(138, 43, 226);\"></td><td title=\"Index: [5, 6]&#10;Color: (138, 43, 226)\" style=\"width: 20px; height: 20px;background-color: rgb(138, 43, 226);\"></td><td title=\"Index: [5, 7]&#10;Color: (138, 43, 226)\" style=\"width: 20px; height: 20px;background-color: rgb(138, 43, 226);\"></td><td title=\"Index: [5, 8]&#10;Color: (138, 43, 226)\" style=\"width: 20px; height: 20px;background-color: rgb(138, 43, 226);\"></td><td title=\"Index: [5, 9]&#10;Color: (188, 143, 143)\" style=\"width: 20px; height: 20px;background-color: rgb(188, 143, 143);\"></td></tr><tr><td title=\"Index: [6, 0]&#10;Color: (188, 143, 143)\" style=\"width: 20px; height: 20px;background-color: rgb(188, 143, 143);\"></td><td title=\"Index: [6, 1]&#10;Color: (188, 143, 143)\" style=\"width: 20px; height: 20px;background-color: rgb(188, 143, 143);\"></td><td title=\"Index: [6, 2]&#10;Color: (188, 143, 143)\" style=\"width: 20px; height: 20px;background-color: rgb(188, 143, 143);\"></td><td title=\"Index: [6, 3]&#10;Color: (188, 143, 143)\" style=\"width: 20px; height: 20px;background-color: rgb(188, 143, 143);\"></td><td title=\"Index: [6, 4]&#10;Color: (188, 143, 143)\" style=\"width: 20px; height: 20px;background-color: rgb(188, 143, 143);\"></td><td title=\"Index: [6, 5]&#10;Color: (188, 143, 143)\" style=\"width: 20px; height: 20px;background-color: rgb(188, 143, 143);\"></td><td title=\"Index: [6, 6]&#10;Color: (188, 143, 143)\" style=\"width: 20px; height: 20px;background-color: rgb(188, 143, 143);\"></td><td title=\"Index: [6, 7]&#10;Color: (188, 143, 143)\" style=\"width: 20px; height: 20px;background-color: rgb(188, 143, 143);\"></td><td title=\"Index: [6, 8]&#10;Color: (188, 143, 143)\" style=\"width: 20px; height: 20px;background-color: rgb(188, 143, 143);\"></td><td title=\"Index: [6, 9]&#10;Color: (188, 143, 143)\" style=\"width: 20px; height: 20px;background-color: rgb(188, 143, 143);\"></td></tr></tbody></table>"
      ],
      "text/plain": [
       "<ipythonblocks.ipythonblocks.BlockGrid at 0x1c0f77bbdf0>"
      ]
     },
     "execution_count": 151,
     "metadata": {},
     "output_type": "execute_result"
    }
   ],
   "source": [
    "nuova_griglia"
   ]
  },
  {
   "cell_type": "code",
   "execution_count": 152,
   "metadata": {},
   "outputs": [],
   "source": [
    "nuova_griglia.save_image('test.jpeg')"
   ]
  }
 ],
 "metadata": {
  "kernelspec": {
   "display_name": "Python 3",
   "language": "python",
   "name": "python3"
  },
  "language_info": {
   "codemirror_mode": {
    "name": "ipython",
    "version": 3
   },
   "file_extension": ".py",
   "mimetype": "text/x-python",
   "name": "python",
   "nbconvert_exporter": "python",
   "pygments_lexer": "ipython3",
   "version": "3.9.4"
  }
 },
 "nbformat": 4,
 "nbformat_minor": 4
}
